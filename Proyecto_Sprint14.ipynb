{
 "cells": [
  {
   "cell_type": "markdown",
   "metadata": {},
   "source": [
    "Hola **Marco**!\n",
    "\n",
    "Soy **Patricio Requena** 👋. Es un placer ser el revisor de tu proyecto el día de hoy!\n",
    "\n",
    "Revisaré tu proyecto detenidamente con el objetivo de ayudarte a mejorar y perfeccionar tus habilidades. Durante mi revisión, identificaré áreas donde puedas hacer mejoras en tu código, señalando específicamente qué y cómo podrías ajustar para optimizar el rendimiento y la claridad de tu proyecto. Además, es importante para mí destacar los aspectos que has manejado excepcionalmente bien. Reconocer tus fortalezas te ayudará a entender qué técnicas y métodos están funcionando a tu favor y cómo puedes aplicarlos en futuras tareas. \n",
    "\n",
    "_**Recuerda que al final de este notebook encontrarás un comentario general de mi parte**_, empecemos!\n",
    "\n",
    "Encontrarás mis comentarios dentro de cajas verdes, amarillas o rojas, ⚠️ **por favor, no muevas, modifiques o borres mis comentarios** ⚠️:\n",
    "\n",
    "\n",
    "<div class=\"alert alert-block alert-success\">\n",
    "<b>Comentario del revisor</b> <a class=“tocSkip”></a>\n",
    "Si todo está perfecto.\n",
    "</div>\n",
    "\n",
    "<div class=\"alert alert-block alert-warning\">\n",
    "<b>Comentario del revisor</b> <a class=“tocSkip”></a>\n",
    "Si tu código está bien pero se puede mejorar o hay algún detalle que le hace falta.\n",
    "</div>\n",
    "\n",
    "<div class=\"alert alert-block alert-danger\">\n",
    "<b>Comentario del revisor</b> <a class=“tocSkip”></a>\n",
    "Si de pronto hace falta algo o existe algún problema con tu código o conclusiones.\n",
    "</div>\n",
    "\n",
    "Puedes responderme de esta forma:\n",
    "<div class=\"alert alert-block alert-info\">\n",
    "<b>Respuesta del estudiante</b> <a class=“tocSkip”></a>\n",
    "</div>"
   ]
  },
  {
   "cell_type": "markdown",
   "metadata": {},
   "source": [
    "# Descripcipción del proyecto"
   ]
  },
  {
   "cell_type": "markdown",
   "metadata": {},
   "source": [
    "Film Junky Union, una nueva comunidad vanguardista para los aficionados de las películas clásicas, está desarrollando un sistema para filtrar y categorizar reseñas de películas. Tu objetivo es entrenar un modelo para detectar las críticas negativas de forma automática. Para lograrlo, utilizarás un conjunto de datos de reseñas de películas de IMDB con leyendas de polaridad para construir un modelo para clasificar las reseñas positivas y negativas. Este deberá alcanzar un valor F1 de al menos 0.85."
   ]
  },
  {
   "cell_type": "markdown",
   "metadata": {},
   "source": [
    "## Inicialización"
   ]
  },
  {
   "cell_type": "code",
   "execution_count": 1,
   "metadata": {},
   "outputs": [],
   "source": [
    "import math\n",
    "import re\n",
    "import time\n",
    "\n",
    "import numpy as np\n",
    "import pandas as pd\n",
    "\n",
    "import joblib \n",
    "import matplotlib\n",
    "import matplotlib.dates as mdates\n",
    "import matplotlib.pyplot as plt\n",
    "from nltk.corpus import stopwords as nltk_stopwords\n",
    "import seaborn as sns\n",
    "from tqdm.auto import tqdm\n",
    "\n"
   ]
  },
  {
   "cell_type": "markdown",
   "metadata": {},
   "source": [
    "<div class=\"alert alert-block alert-info\">\n",
    "<b>Comentario del revisor (1ra Iteracion)</b> <a class=“tocSkip”></a>\n",
    "\n",
    "Una buena práctica para cuando tengas que importar varias librerías es seguir el siguiente órden en las mismas:\n",
    "\n",
    "- Primero todas las librerías que vienen ya con python cómo `datetime`, `os`, `json`, etc.\n",
    "- Luego de las librerías de Python si las de terceros cómo `pandas`, `scipy`, `numpy`, etc.\n",
    "- Por último, en el caso de que armes tu propio módulo en tu proyecto esto debería ir en tercer lugar, y recuerda siempre ordenar cada tipo por orden alfabético\n",
    "    \n",
    "Para cada sección se deben ordenar en orden alfabético\n",
    "</div>"
   ]
  },
  {
   "cell_type": "markdown",
   "metadata": {},
   "source": [
    "<div class=\"alert alert-block alert-info\">\n",
    "<b>Se ordena de acuerdo con lo sugerido por el revisor\n",
    "</div>"
   ]
  },
  {
   "cell_type": "code",
   "execution_count": 2,
   "metadata": {},
   "outputs": [],
   "source": [
    "%matplotlib inline\n",
    "%config InlineBackend.figure_format = 'png'\n",
    "# la siguiente línea proporciona gráficos de mejor calidad en pantallas HiDPI\n",
    "# %config InlineBackend.figure_format = 'retina'\n",
    "\n",
    "plt.style.use('seaborn')"
   ]
  },
  {
   "cell_type": "code",
   "execution_count": 3,
   "metadata": {},
   "outputs": [],
   "source": [
    "# esto es para usar progress_apply, puedes leer más en https://pypi.org/project/tqdm/#pandas-integration\n",
    "tqdm.pandas()"
   ]
  },
  {
   "cell_type": "markdown",
   "metadata": {},
   "source": [
    "## Cargar datos"
   ]
  },
  {
   "cell_type": "code",
   "execution_count": 4,
   "metadata": {},
   "outputs": [],
   "source": [
    "df_reviews = pd.read_csv('/datasets/imdb_reviews.tsv', sep='\\t', dtype={'votes': 'Int64'})"
   ]
  },
  {
   "cell_type": "code",
   "execution_count": 5,
   "metadata": {},
   "outputs": [
    {
     "data": {
      "text/html": [
       "<div>\n",
       "<style scoped>\n",
       "    .dataframe tbody tr th:only-of-type {\n",
       "        vertical-align: middle;\n",
       "    }\n",
       "\n",
       "    .dataframe tbody tr th {\n",
       "        vertical-align: top;\n",
       "    }\n",
       "\n",
       "    .dataframe thead th {\n",
       "        text-align: right;\n",
       "    }\n",
       "</style>\n",
       "<table border=\"1\" class=\"dataframe\">\n",
       "  <thead>\n",
       "    <tr style=\"text-align: right;\">\n",
       "      <th></th>\n",
       "      <th>tconst</th>\n",
       "      <th>title_type</th>\n",
       "      <th>primary_title</th>\n",
       "      <th>original_title</th>\n",
       "      <th>start_year</th>\n",
       "      <th>end_year</th>\n",
       "      <th>runtime_minutes</th>\n",
       "      <th>is_adult</th>\n",
       "      <th>genres</th>\n",
       "      <th>average_rating</th>\n",
       "      <th>votes</th>\n",
       "      <th>review</th>\n",
       "      <th>rating</th>\n",
       "      <th>sp</th>\n",
       "      <th>pos</th>\n",
       "      <th>ds_part</th>\n",
       "      <th>idx</th>\n",
       "    </tr>\n",
       "  </thead>\n",
       "  <tbody>\n",
       "    <tr>\n",
       "      <th>0</th>\n",
       "      <td>tt0068152</td>\n",
       "      <td>movie</td>\n",
       "      <td>$</td>\n",
       "      <td>$</td>\n",
       "      <td>1971</td>\n",
       "      <td>\\N</td>\n",
       "      <td>121</td>\n",
       "      <td>0</td>\n",
       "      <td>Comedy,Crime,Drama</td>\n",
       "      <td>6.3</td>\n",
       "      <td>2218</td>\n",
       "      <td>The pakage implies that Warren Beatty and Gold...</td>\n",
       "      <td>1</td>\n",
       "      <td>neg</td>\n",
       "      <td>0</td>\n",
       "      <td>train</td>\n",
       "      <td>8335</td>\n",
       "    </tr>\n",
       "    <tr>\n",
       "      <th>1</th>\n",
       "      <td>tt0068152</td>\n",
       "      <td>movie</td>\n",
       "      <td>$</td>\n",
       "      <td>$</td>\n",
       "      <td>1971</td>\n",
       "      <td>\\N</td>\n",
       "      <td>121</td>\n",
       "      <td>0</td>\n",
       "      <td>Comedy,Crime,Drama</td>\n",
       "      <td>6.3</td>\n",
       "      <td>2218</td>\n",
       "      <td>How the hell did they get this made?! Presenti...</td>\n",
       "      <td>1</td>\n",
       "      <td>neg</td>\n",
       "      <td>0</td>\n",
       "      <td>train</td>\n",
       "      <td>8336</td>\n",
       "    </tr>\n",
       "    <tr>\n",
       "      <th>2</th>\n",
       "      <td>tt0313150</td>\n",
       "      <td>short</td>\n",
       "      <td>'15'</td>\n",
       "      <td>'15'</td>\n",
       "      <td>2002</td>\n",
       "      <td>\\N</td>\n",
       "      <td>25</td>\n",
       "      <td>0</td>\n",
       "      <td>Comedy,Drama,Short</td>\n",
       "      <td>6.3</td>\n",
       "      <td>184</td>\n",
       "      <td>There is no real story the film seems more lik...</td>\n",
       "      <td>3</td>\n",
       "      <td>neg</td>\n",
       "      <td>0</td>\n",
       "      <td>test</td>\n",
       "      <td>2489</td>\n",
       "    </tr>\n",
       "    <tr>\n",
       "      <th>3</th>\n",
       "      <td>tt0313150</td>\n",
       "      <td>short</td>\n",
       "      <td>'15'</td>\n",
       "      <td>'15'</td>\n",
       "      <td>2002</td>\n",
       "      <td>\\N</td>\n",
       "      <td>25</td>\n",
       "      <td>0</td>\n",
       "      <td>Comedy,Drama,Short</td>\n",
       "      <td>6.3</td>\n",
       "      <td>184</td>\n",
       "      <td>Um .... a serious film about troubled teens in...</td>\n",
       "      <td>7</td>\n",
       "      <td>pos</td>\n",
       "      <td>1</td>\n",
       "      <td>test</td>\n",
       "      <td>9280</td>\n",
       "    </tr>\n",
       "    <tr>\n",
       "      <th>4</th>\n",
       "      <td>tt0313150</td>\n",
       "      <td>short</td>\n",
       "      <td>'15'</td>\n",
       "      <td>'15'</td>\n",
       "      <td>2002</td>\n",
       "      <td>\\N</td>\n",
       "      <td>25</td>\n",
       "      <td>0</td>\n",
       "      <td>Comedy,Drama,Short</td>\n",
       "      <td>6.3</td>\n",
       "      <td>184</td>\n",
       "      <td>I'm totally agree with GarryJohal from Singapo...</td>\n",
       "      <td>9</td>\n",
       "      <td>pos</td>\n",
       "      <td>1</td>\n",
       "      <td>test</td>\n",
       "      <td>9281</td>\n",
       "    </tr>\n",
       "    <tr>\n",
       "      <th>...</th>\n",
       "      <td>...</td>\n",
       "      <td>...</td>\n",
       "      <td>...</td>\n",
       "      <td>...</td>\n",
       "      <td>...</td>\n",
       "      <td>...</td>\n",
       "      <td>...</td>\n",
       "      <td>...</td>\n",
       "      <td>...</td>\n",
       "      <td>...</td>\n",
       "      <td>...</td>\n",
       "      <td>...</td>\n",
       "      <td>...</td>\n",
       "      <td>...</td>\n",
       "      <td>...</td>\n",
       "      <td>...</td>\n",
       "      <td>...</td>\n",
       "    </tr>\n",
       "    <tr>\n",
       "      <th>47326</th>\n",
       "      <td>tt0068398</td>\n",
       "      <td>tvEpisode</td>\n",
       "      <td>Étude in Black</td>\n",
       "      <td>Étude in Black</td>\n",
       "      <td>1972</td>\n",
       "      <td>\\N</td>\n",
       "      <td>97</td>\n",
       "      <td>0</td>\n",
       "      <td>Crime,Drama,Mystery</td>\n",
       "      <td>7.7</td>\n",
       "      <td>2254</td>\n",
       "      <td>This is another of my favorite Columbos. It sp...</td>\n",
       "      <td>10</td>\n",
       "      <td>pos</td>\n",
       "      <td>1</td>\n",
       "      <td>test</td>\n",
       "      <td>6038</td>\n",
       "    </tr>\n",
       "    <tr>\n",
       "      <th>47327</th>\n",
       "      <td>tt0223503</td>\n",
       "      <td>tvMovie</td>\n",
       "      <td>Îhatôbu gensô: KENjI no haru</td>\n",
       "      <td>Îhatôbu gensô: KENjI no haru</td>\n",
       "      <td>1996</td>\n",
       "      <td>\\N</td>\n",
       "      <td>55</td>\n",
       "      <td>0</td>\n",
       "      <td>Animation,Biography,Drama</td>\n",
       "      <td>7.3</td>\n",
       "      <td>278</td>\n",
       "      <td>Talk about being boring! I got this expecting ...</td>\n",
       "      <td>4</td>\n",
       "      <td>neg</td>\n",
       "      <td>0</td>\n",
       "      <td>test</td>\n",
       "      <td>989</td>\n",
       "    </tr>\n",
       "    <tr>\n",
       "      <th>47328</th>\n",
       "      <td>tt0223503</td>\n",
       "      <td>tvMovie</td>\n",
       "      <td>Îhatôbu gensô: KENjI no haru</td>\n",
       "      <td>Îhatôbu gensô: KENjI no haru</td>\n",
       "      <td>1996</td>\n",
       "      <td>\\N</td>\n",
       "      <td>55</td>\n",
       "      <td>0</td>\n",
       "      <td>Animation,Biography,Drama</td>\n",
       "      <td>7.3</td>\n",
       "      <td>278</td>\n",
       "      <td>I never thought I'd say this about a biopic, b...</td>\n",
       "      <td>8</td>\n",
       "      <td>pos</td>\n",
       "      <td>1</td>\n",
       "      <td>test</td>\n",
       "      <td>4163</td>\n",
       "    </tr>\n",
       "    <tr>\n",
       "      <th>47329</th>\n",
       "      <td>tt0223503</td>\n",
       "      <td>tvMovie</td>\n",
       "      <td>Îhatôbu gensô: KENjI no haru</td>\n",
       "      <td>Îhatôbu gensô: KENjI no haru</td>\n",
       "      <td>1996</td>\n",
       "      <td>\\N</td>\n",
       "      <td>55</td>\n",
       "      <td>0</td>\n",
       "      <td>Animation,Biography,Drama</td>\n",
       "      <td>7.3</td>\n",
       "      <td>278</td>\n",
       "      <td>Spirit and Chaos is an artistic biopic of Miya...</td>\n",
       "      <td>9</td>\n",
       "      <td>pos</td>\n",
       "      <td>1</td>\n",
       "      <td>test</td>\n",
       "      <td>4164</td>\n",
       "    </tr>\n",
       "    <tr>\n",
       "      <th>47330</th>\n",
       "      <td>tt0223503</td>\n",
       "      <td>tvMovie</td>\n",
       "      <td>Îhatôbu gensô: KENjI no haru</td>\n",
       "      <td>Îhatôbu gensô: KENjI no haru</td>\n",
       "      <td>1996</td>\n",
       "      <td>\\N</td>\n",
       "      <td>55</td>\n",
       "      <td>0</td>\n",
       "      <td>Animation,Biography,Drama</td>\n",
       "      <td>7.3</td>\n",
       "      <td>278</td>\n",
       "      <td>I'll make this brief. This was a joy to watch....</td>\n",
       "      <td>10</td>\n",
       "      <td>pos</td>\n",
       "      <td>1</td>\n",
       "      <td>test</td>\n",
       "      <td>4165</td>\n",
       "    </tr>\n",
       "  </tbody>\n",
       "</table>\n",
       "<p>47331 rows × 17 columns</p>\n",
       "</div>"
      ],
      "text/plain": [
       "          tconst title_type                 primary_title  \\\n",
       "0      tt0068152      movie                             $   \n",
       "1      tt0068152      movie                             $   \n",
       "2      tt0313150      short                          '15'   \n",
       "3      tt0313150      short                          '15'   \n",
       "4      tt0313150      short                          '15'   \n",
       "...          ...        ...                           ...   \n",
       "47326  tt0068398  tvEpisode                Étude in Black   \n",
       "47327  tt0223503    tvMovie  Îhatôbu gensô: KENjI no haru   \n",
       "47328  tt0223503    tvMovie  Îhatôbu gensô: KENjI no haru   \n",
       "47329  tt0223503    tvMovie  Îhatôbu gensô: KENjI no haru   \n",
       "47330  tt0223503    tvMovie  Îhatôbu gensô: KENjI no haru   \n",
       "\n",
       "                     original_title  start_year end_year runtime_minutes  \\\n",
       "0                                 $        1971       \\N             121   \n",
       "1                                 $        1971       \\N             121   \n",
       "2                              '15'        2002       \\N              25   \n",
       "3                              '15'        2002       \\N              25   \n",
       "4                              '15'        2002       \\N              25   \n",
       "...                             ...         ...      ...             ...   \n",
       "47326                Étude in Black        1972       \\N              97   \n",
       "47327  Îhatôbu gensô: KENjI no haru        1996       \\N              55   \n",
       "47328  Îhatôbu gensô: KENjI no haru        1996       \\N              55   \n",
       "47329  Îhatôbu gensô: KENjI no haru        1996       \\N              55   \n",
       "47330  Îhatôbu gensô: KENjI no haru        1996       \\N              55   \n",
       "\n",
       "       is_adult                     genres  average_rating  votes  \\\n",
       "0             0         Comedy,Crime,Drama             6.3   2218   \n",
       "1             0         Comedy,Crime,Drama             6.3   2218   \n",
       "2             0         Comedy,Drama,Short             6.3    184   \n",
       "3             0         Comedy,Drama,Short             6.3    184   \n",
       "4             0         Comedy,Drama,Short             6.3    184   \n",
       "...         ...                        ...             ...    ...   \n",
       "47326         0        Crime,Drama,Mystery             7.7   2254   \n",
       "47327         0  Animation,Biography,Drama             7.3    278   \n",
       "47328         0  Animation,Biography,Drama             7.3    278   \n",
       "47329         0  Animation,Biography,Drama             7.3    278   \n",
       "47330         0  Animation,Biography,Drama             7.3    278   \n",
       "\n",
       "                                                  review  rating   sp  pos  \\\n",
       "0      The pakage implies that Warren Beatty and Gold...       1  neg    0   \n",
       "1      How the hell did they get this made?! Presenti...       1  neg    0   \n",
       "2      There is no real story the film seems more lik...       3  neg    0   \n",
       "3      Um .... a serious film about troubled teens in...       7  pos    1   \n",
       "4      I'm totally agree with GarryJohal from Singapo...       9  pos    1   \n",
       "...                                                  ...     ...  ...  ...   \n",
       "47326  This is another of my favorite Columbos. It sp...      10  pos    1   \n",
       "47327  Talk about being boring! I got this expecting ...       4  neg    0   \n",
       "47328  I never thought I'd say this about a biopic, b...       8  pos    1   \n",
       "47329  Spirit and Chaos is an artistic biopic of Miya...       9  pos    1   \n",
       "47330  I'll make this brief. This was a joy to watch....      10  pos    1   \n",
       "\n",
       "      ds_part   idx  \n",
       "0       train  8335  \n",
       "1       train  8336  \n",
       "2        test  2489  \n",
       "3        test  9280  \n",
       "4        test  9281  \n",
       "...       ...   ...  \n",
       "47326    test  6038  \n",
       "47327    test   989  \n",
       "47328    test  4163  \n",
       "47329    test  4164  \n",
       "47330    test  4165  \n",
       "\n",
       "[47331 rows x 17 columns]"
      ]
     },
     "execution_count": 5,
     "metadata": {},
     "output_type": "execute_result"
    }
   ],
   "source": [
    "df_reviews"
   ]
  },
  {
   "cell_type": "code",
   "execution_count": 6,
   "metadata": {},
   "outputs": [
    {
     "name": "stdout",
     "output_type": "stream",
     "text": [
      "<class 'pandas.core.frame.DataFrame'>\n",
      "RangeIndex: 47331 entries, 0 to 47330\n",
      "Data columns (total 17 columns):\n",
      " #   Column           Non-Null Count  Dtype  \n",
      "---  ------           --------------  -----  \n",
      " 0   tconst           47331 non-null  object \n",
      " 1   title_type       47331 non-null  object \n",
      " 2   primary_title    47331 non-null  object \n",
      " 3   original_title   47331 non-null  object \n",
      " 4   start_year       47331 non-null  int64  \n",
      " 5   end_year         47331 non-null  object \n",
      " 6   runtime_minutes  47331 non-null  object \n",
      " 7   is_adult         47331 non-null  int64  \n",
      " 8   genres           47331 non-null  object \n",
      " 9   average_rating   47329 non-null  float64\n",
      " 10  votes            47329 non-null  Int64  \n",
      " 11  review           47331 non-null  object \n",
      " 12  rating           47331 non-null  int64  \n",
      " 13  sp               47331 non-null  object \n",
      " 14  pos              47331 non-null  int64  \n",
      " 15  ds_part          47331 non-null  object \n",
      " 16  idx              47331 non-null  int64  \n",
      "dtypes: Int64(1), float64(1), int64(5), object(10)\n",
      "memory usage: 6.2+ MB\n"
     ]
    }
   ],
   "source": [
    "df_reviews.info()"
   ]
  },
  {
   "cell_type": "code",
   "execution_count": 7,
   "metadata": {
    "scrolled": true
   },
   "outputs": [
    {
     "data": {
      "text/plain": [
       "0"
      ]
     },
     "execution_count": 7,
     "metadata": {},
     "output_type": "execute_result"
    }
   ],
   "source": [
    "df_reviews.duplicated().sum()"
   ]
  },
  {
   "cell_type": "code",
   "execution_count": 8,
   "metadata": {
    "scrolled": true
   },
   "outputs": [
    {
     "data": {
      "text/plain": [
       "array([0, 1])"
      ]
     },
     "execution_count": 8,
     "metadata": {},
     "output_type": "execute_result"
    }
   ],
   "source": [
    "df_reviews['pos'].unique()"
   ]
  },
  {
   "cell_type": "markdown",
   "metadata": {},
   "source": [
    "Alizando brevemente la data, no existe información anómala, sobre todo en los datos principales que usaremos para el proyecto, por tanto avanzaremos con el dataset original"
   ]
  },
  {
   "cell_type": "markdown",
   "metadata": {},
   "source": [
    "<div class=\"alert alert-block alert-success\">\n",
    "<b>Comentario del revisor (1ra Iteracion)</b> <a class=“tocSkip”></a>\n",
    "\n",
    "Buen trabajo con la carga de datos y la exploración inicial!\n",
    "</div>"
   ]
  },
  {
   "cell_type": "markdown",
   "metadata": {},
   "source": [
    "## EDA"
   ]
  },
  {
   "cell_type": "markdown",
   "metadata": {},
   "source": [
    "Veamos el número de películas y reseñas a lo largo de los años."
   ]
  },
  {
   "cell_type": "code",
   "execution_count": 9,
   "metadata": {},
   "outputs": [
    {
     "data": {
      "image/png": "[encoded data removed]",
      "text/plain": [
       "<Figure size 1600x800 with 3 Axes>"
      ]
     },
     "metadata": {},
     "output_type": "display_data"
    }
   ],
   "source": [
    "fig, axs = plt.subplots(2, 1, figsize=(16, 8))\n",
    "\n",
    "ax = axs[0]\n",
    "\n",
    "dft1 = df_reviews[['tconst', 'start_year']].drop_duplicates() \\\n",
    "    ['start_year'].value_counts().sort_index()\n",
    "dft1 = dft1.reindex(index=np.arange(dft1.index.min(), max(dft1.index.max(), 2021))).fillna(0)\n",
    "dft1.plot(kind='bar', ax=ax)\n",
    "ax.set_title('Número de películas a lo largo de los años')\n",
    "\n",
    "ax = axs[1]\n",
    "\n",
    "dft2 = df_reviews.groupby(['start_year', 'pos'])['pos'].count().unstack()\n",
    "dft2 = dft2.reindex(index=np.arange(dft2.index.min(), max(dft2.index.max(), 2021))).fillna(0)\n",
    "\n",
    "dft2.plot(kind='bar', stacked=True, label='#reviews (neg, pos)', ax=ax)\n",
    "\n",
    "dft2 = df_reviews['start_year'].value_counts().sort_index()\n",
    "dft2 = dft2.reindex(index=np.arange(dft2.index.min(), max(dft2.index.max(), 2021))).fillna(0)\n",
    "dft3 = (dft2/dft1).fillna(0)\n",
    "axt = ax.twinx()\n",
    "dft3.reset_index(drop=True).rolling(5).mean().plot(color='orange', label='reviews per movie (avg over 5 years)', ax=axt)\n",
    "\n",
    "lines, labels = axt.get_legend_handles_labels()\n",
    "ax.legend(lines, labels, loc='upper left')\n",
    "\n",
    "ax.set_title('Número de reseñas a lo largo de los años')\n",
    "\n",
    "fig.tight_layout()"
   ]
  },
  {
   "cell_type": "markdown",
   "metadata": {},
   "source": [
    "Veamos la distribución del número de reseñas por película con el conteo exacto y KDE (solo para saber cómo puede diferir del conteo exacto)"
   ]
  },
  {
   "cell_type": "code",
   "execution_count": 10,
   "metadata": {},
   "outputs": [
    {
     "data": {
      "image/png": "[encoded data removed]",
      "text/plain": [
       "<Figure size 1600x500 with 2 Axes>"
      ]
     },
     "metadata": {},
     "output_type": "display_data"
    }
   ],
   "source": [
    "fig, axs = plt.subplots(1, 2, figsize=(16, 5))\n",
    "\n",
    "ax = axs[0]\n",
    "dft = df_reviews.groupby('tconst')['review'].count() \\\n",
    "    .value_counts() \\\n",
    "    .sort_index()\n",
    "dft.plot.bar(ax=ax)\n",
    "ax.set_title('Gráfico de barras de #Reseñas por película')\n",
    "\n",
    "ax = axs[1]\n",
    "dft = df_reviews.groupby('tconst')['review'].count()\n",
    "sns.kdeplot(dft, ax=ax)\n",
    "ax.set_title('Gráfico KDE de #Reseñas por película')\n",
    "\n",
    "fig.tight_layout()"
   ]
  },
  {
   "cell_type": "markdown",
   "metadata": {},
   "source": [
    "KDE suaviza los datos y puede mostrar tendencias generales que no son evidentes en el conteo exacto."
   ]
  },
  {
   "cell_type": "code",
   "execution_count": 11,
   "metadata": {},
   "outputs": [
    {
     "data": {
      "text/plain": [
       "0    23715\n",
       "1    23616\n",
       "Name: pos, dtype: int64"
      ]
     },
     "execution_count": 11,
     "metadata": {},
     "output_type": "execute_result"
    }
   ],
   "source": [
    "df_reviews['pos'].value_counts()"
   ]
  },
  {
   "cell_type": "code",
   "execution_count": 12,
   "metadata": {},
   "outputs": [
    {
     "data": {
      "image/png": "[encoded data removed]",
      "text/plain": [
       "<Figure size 1200x400 with 2 Axes>"
      ]
     },
     "metadata": {},
     "output_type": "display_data"
    }
   ],
   "source": [
    "fig, axs = plt.subplots(1, 2, figsize=(12, 4))\n",
    "\n",
    "ax = axs[0]\n",
    "dft = df_reviews.query('ds_part == \"train\"')['rating'].value_counts().sort_index()\n",
    "dft = dft.reindex(index=np.arange(min(dft.index.min(), 1), max(dft.index.max(), 11))).fillna(0)\n",
    "dft.plot.bar(ax=ax)\n",
    "ax.set_ylim([0, 5000])\n",
    "ax.set_title('El conjunto de entrenamiento: distribución de puntuaciones')\n",
    "\n",
    "ax = axs[1]\n",
    "dft = df_reviews.query('ds_part == \"test\"')['rating'].value_counts().sort_index()\n",
    "dft = dft.reindex(index=np.arange(min(dft.index.min(), 1), max(dft.index.max(), 11))).fillna(0)\n",
    "dft.plot.bar(ax=ax)\n",
    "ax.set_ylim([0, 5000])\n",
    "ax.set_title('El conjunto de prueba: distribución de puntuaciones')\n",
    "\n",
    "fig.tight_layout()"
   ]
  },
  {
   "cell_type": "markdown",
   "metadata": {},
   "source": [
    "De los gráficos se puede ver que existe una polaridad, reseñas menores a 5 y mayores a 6, que nos darán una matiz interesante sobre los comentarios buenos y malos"
   ]
  },
  {
   "cell_type": "markdown",
   "metadata": {},
   "source": [
    "Distribución de reseñas negativas y positivas a lo largo de los años para dos partes del conjunto de datos"
   ]
  },
  {
   "cell_type": "code",
   "execution_count": 13,
   "metadata": {
    "scrolled": true
   },
   "outputs": [
    {
     "name": "stderr",
     "output_type": "stream",
     "text": [
      "/opt/conda/envs/python3/lib/python3.9/site-packages/seaborn/distributions.py:1666: UserWarning: Support for alternate kernels has been removed. Using Gaussian kernel.\n",
      "  warnings.warn(msg, UserWarning)\n",
      "/opt/conda/envs/python3/lib/python3.9/site-packages/seaborn/distributions.py:1666: UserWarning: Support for alternate kernels has been removed. Using Gaussian kernel.\n",
      "  warnings.warn(msg, UserWarning)\n",
      "/opt/conda/envs/python3/lib/python3.9/site-packages/seaborn/distributions.py:1666: UserWarning: Support for alternate kernels has been removed. Using Gaussian kernel.\n",
      "  warnings.warn(msg, UserWarning)\n",
      "/opt/conda/envs/python3/lib/python3.9/site-packages/seaborn/distributions.py:1666: UserWarning: Support for alternate kernels has been removed. Using Gaussian kernel.\n",
      "  warnings.warn(msg, UserWarning)\n"
     ]
    },
    {
     "data": {
      "image/png": "[encoded data removed]",
      "text/plain": [
       "<Figure size 1600x800 with 4 Axes>"
      ]
     },
     "metadata": {},
     "output_type": "display_data"
    }
   ],
   "source": [
    "fig, axs = plt.subplots(2, 2, figsize=(16, 8), gridspec_kw=dict(width_ratios=(2, 1), height_ratios=(1, 1)))\n",
    "\n",
    "ax = axs[0][0]\n",
    "\n",
    "dft = df_reviews.query('ds_part == \"train\"').groupby(['start_year', 'pos'])['pos'].count().unstack()\n",
    "dft.index = dft.index.astype('int')\n",
    "dft = dft.reindex(index=np.arange(dft.index.min(), max(dft.index.max(), 2020))).fillna(0)\n",
    "dft.plot(kind='bar', stacked=True, ax=ax)\n",
    "ax.set_title('El conjunto de entrenamiento: número de reseñas de diferentes polaridades por año')\n",
    "\n",
    "ax = axs[0][1]\n",
    "\n",
    "dft = df_reviews.query('ds_part == \"train\"').groupby(['tconst', 'pos'])['pos'].count().unstack()\n",
    "sns.kdeplot(dft[0], color='blue', label='negative', kernel='epa', ax=ax)\n",
    "sns.kdeplot(dft[1], color='green', label='positive', kernel='epa', ax=ax)\n",
    "ax.legend()\n",
    "ax.set_title('El conjunto de entrenamiento: distribución de diferentes polaridades por película')\n",
    "\n",
    "ax = axs[1][0]\n",
    "\n",
    "dft = df_reviews.query('ds_part == \"test\"').groupby(['start_year', 'pos'])['pos'].count().unstack()\n",
    "dft.index = dft.index.astype('int')\n",
    "dft = dft.reindex(index=np.arange(dft.index.min(), max(dft.index.max(), 2020))).fillna(0)\n",
    "dft.plot(kind='bar', stacked=True, ax=ax)\n",
    "ax.set_title('El conjunto de prueba: número de reseñas de diferentes polaridades por año')\n",
    "\n",
    "ax = axs[1][1]\n",
    "\n",
    "dft = df_reviews.query('ds_part == \"test\"').groupby(['tconst', 'pos'])['pos'].count().unstack()\n",
    "sns.kdeplot(dft[0], color='blue', label='negative', kernel='epa', ax=ax)\n",
    "sns.kdeplot(dft[1], color='green', label='positive', kernel='epa', ax=ax)\n",
    "ax.legend()\n",
    "ax.set_title('El conjunto de prueba: distribución de diferentes polaridades por película')\n",
    "\n",
    "fig.tight_layout()"
   ]
  },
  {
   "cell_type": "markdown",
   "metadata": {},
   "source": [
    "<div class=\"alert alert-block alert-warning\">\n",
    "<b>Comentario del revisor (1ra Iteracion)</b> <a class=“tocSkip”></a>\n",
    "\n",
    "Correcto! Recuerda que el EDA es para entender mejor nuestros datos, por lo que te recomendaría redactar conclusiones un poco más detalladas y hacer un poco de referencia a como podría afectar a los modelos\n",
    "</div>"
   ]
  },
  {
   "cell_type": "markdown",
   "metadata": {},
   "source": [
    "## Procedimiento de evaluación"
   ]
  },
  {
   "cell_type": "markdown",
   "metadata": {},
   "source": [
    "Composición de una rutina de evaluación que se pueda usar para todos los modelos en este proyecto"
   ]
  },
  {
   "cell_type": "code",
   "execution_count": 14,
   "metadata": {},
   "outputs": [],
   "source": [
    "import sklearn.metrics as metrics\n",
    "def evaluate_model(model, train_features, train_target, test_features, test_target):\n",
    "    \n",
    "    eval_stats = {}\n",
    "    \n",
    "    fig, axs = plt.subplots(1, 3, figsize=(20, 6)) \n",
    "    \n",
    "    for type, features, target in (('train', train_features, train_target), ('test', test_features, test_target)):\n",
    "        \n",
    "        eval_stats[type] = {}\n",
    "    \n",
    "        pred_target = model.predict(features)\n",
    "        pred_proba = model.predict_proba(features)[:, 1]\n",
    "        \n",
    "        # F1\n",
    "        f1_thresholds = np.arange(0, 1.01, 0.05)\n",
    "        f1_scores = [metrics.f1_score(target, pred_proba>=threshold) for threshold in f1_thresholds]\n",
    "        \n",
    "        # ROC\n",
    "        fpr, tpr, roc_thresholds = metrics.roc_curve(target, pred_proba)\n",
    "        roc_auc = metrics.roc_auc_score(target, pred_proba)    \n",
    "        eval_stats[type]['ROC AUC'] = roc_auc\n",
    "\n",
    "        # PRC\n",
    "        precision, recall, pr_thresholds = metrics.precision_recall_curve(target, pred_proba)\n",
    "        aps = metrics.average_precision_score(target, pred_proba)\n",
    "        eval_stats[type]['APS'] = aps\n",
    "        \n",
    "        if type == 'train':\n",
    "            color = 'blue'\n",
    "        else:\n",
    "            color = 'green'\n",
    "\n",
    "        # Valor F1\n",
    "        ax = axs[0]\n",
    "        max_f1_score_idx = np.argmax(f1_scores)\n",
    "        ax.plot(f1_thresholds, f1_scores, color=color, label=f'{type}, max={f1_scores[max_f1_score_idx]:.2f} @ {f1_thresholds[max_f1_score_idx]:.2f}')\n",
    "        # establecer cruces para algunos umbrales        \n",
    "        for threshold in (0.2, 0.4, 0.5, 0.6, 0.8):\n",
    "            closest_value_idx = np.argmin(np.abs(f1_thresholds-threshold))\n",
    "            marker_color = 'orange' if threshold != 0.5 else 'red'\n",
    "            ax.plot(f1_thresholds[closest_value_idx], f1_scores[closest_value_idx], color=marker_color, marker='X', markersize=7)\n",
    "        ax.set_xlim([-0.02, 1.02])    \n",
    "        ax.set_ylim([-0.02, 1.02])\n",
    "        ax.set_xlabel('threshold')\n",
    "        ax.set_ylabel('F1')\n",
    "        ax.legend(loc='lower center')\n",
    "        ax.set_title(f'Valor F1') \n",
    "\n",
    "        # ROC\n",
    "        ax = axs[1]    \n",
    "        ax.plot(fpr, tpr, color=color, label=f'{type}, ROC AUC={roc_auc:.2f}')\n",
    "        # establecer cruces para algunos umbrales        \n",
    "        for threshold in (0.2, 0.4, 0.5, 0.6, 0.8):\n",
    "            closest_value_idx = np.argmin(np.abs(roc_thresholds-threshold))\n",
    "            marker_color = 'orange' if threshold != 0.5 else 'red'            \n",
    "            ax.plot(fpr[closest_value_idx], tpr[closest_value_idx], color=marker_color, marker='X', markersize=7)\n",
    "        ax.plot([0, 1], [0, 1], color='grey', linestyle='--')\n",
    "        ax.set_xlim([-0.02, 1.02])    \n",
    "        ax.set_ylim([-0.02, 1.02])\n",
    "        ax.set_xlabel('FPR')\n",
    "        ax.set_ylabel('TPR')\n",
    "        ax.legend(loc='lower center')        \n",
    "        ax.set_title(f'Curva ROC')\n",
    "        \n",
    "        # PRC\n",
    "        ax = axs[2]\n",
    "        ax.plot(recall, precision, color=color, label=f'{type}, AP={aps:.2f}')\n",
    "        # establecer cruces para algunos umbrales        \n",
    "        for threshold in (0.2, 0.4, 0.5, 0.6, 0.8):\n",
    "            closest_value_idx = np.argmin(np.abs(pr_thresholds-threshold))\n",
    "            marker_color = 'orange' if threshold != 0.5 else 'red'\n",
    "            ax.plot(recall[closest_value_idx], precision[closest_value_idx], color=marker_color, marker='X', markersize=7)\n",
    "        ax.set_xlim([-0.02, 1.02])    \n",
    "        ax.set_ylim([-0.02, 1.02])\n",
    "        ax.set_xlabel('recall')\n",
    "        ax.set_ylabel('precision')\n",
    "        ax.legend(loc='lower center')\n",
    "        ax.set_title(f'PRC')        \n",
    "\n",
    "        eval_stats[type]['Accuracy'] = metrics.accuracy_score(target, pred_target)\n",
    "        eval_stats[type]['F1'] = metrics.f1_score(target, pred_target)\n",
    "    \n",
    "    df_eval_stats = pd.DataFrame(eval_stats)\n",
    "    df_eval_stats = df_eval_stats.round(2)\n",
    "    df_eval_stats = df_eval_stats.reindex(index=('Exactitud', 'F1', 'APS', 'ROC AUC'))\n",
    "    \n",
    "    print(df_eval_stats)\n",
    "    \n",
    "    return"
   ]
  },
  {
   "cell_type": "markdown",
   "metadata": {},
   "source": [
    "## Normalización"
   ]
  },
  {
   "cell_type": "markdown",
   "metadata": {},
   "source": [
    "Suponemos que todos los modelos a continuación aceptan textos en minúsculas y sin dígitos, signos de puntuación, etc."
   ]
  },
  {
   "cell_type": "code",
   "execution_count": 15,
   "metadata": {},
   "outputs": [
    {
     "name": "stderr",
     "output_type": "stream",
     "text": [
      "[nltk_data] Downloading package stopwords to /home/jovyan/nltk_data...\n",
      "[nltk_data]   Package stopwords is already up-to-date!\n"
     ]
    }
   ],
   "source": [
    "#Convertir a minúsculas \n",
    "df_reviews['review_norm'] = df_reviews['review'].str.lower() \n",
    "\n",
    "# Eliminar puntuación y caracteres especiales \n",
    "df_reviews['review_norm'] = df_reviews['review_norm'].apply(lambda x: re.sub(r'[^\\w\\s]', '', x)) \n",
    "\n",
    "# Asegurarse de descargar las stopwords \n",
    "\n",
    "import nltk \n",
    "\n",
    "nltk.download('stopwords') \n",
    "\n",
    "# Eliminar palabras vacías (stop words) en inglés \n",
    "\n",
    "stop_words = set(nltk_stopwords.words('english'))\n",
    "\n",
    "df_reviews['review_norm'] = df_reviews['review_norm'].apply(lambda x: ' '.join([word for word in x.split() if word not in stop_words])) \n",
    "\n"
   ]
  },
  {
   "cell_type": "code",
   "execution_count": 16,
   "metadata": {
    "scrolled": true
   },
   "outputs": [
    {
     "data": {
      "text/html": [
       "<div>\n",
       "<style scoped>\n",
       "    .dataframe tbody tr th:only-of-type {\n",
       "        vertical-align: middle;\n",
       "    }\n",
       "\n",
       "    .dataframe tbody tr th {\n",
       "        vertical-align: top;\n",
       "    }\n",
       "\n",
       "    .dataframe thead th {\n",
       "        text-align: right;\n",
       "    }\n",
       "</style>\n",
       "<table border=\"1\" class=\"dataframe\">\n",
       "  <thead>\n",
       "    <tr style=\"text-align: right;\">\n",
       "      <th></th>\n",
       "      <th>tconst</th>\n",
       "      <th>title_type</th>\n",
       "      <th>primary_title</th>\n",
       "      <th>original_title</th>\n",
       "      <th>start_year</th>\n",
       "      <th>end_year</th>\n",
       "      <th>runtime_minutes</th>\n",
       "      <th>is_adult</th>\n",
       "      <th>genres</th>\n",
       "      <th>average_rating</th>\n",
       "      <th>votes</th>\n",
       "      <th>review</th>\n",
       "      <th>rating</th>\n",
       "      <th>sp</th>\n",
       "      <th>pos</th>\n",
       "      <th>ds_part</th>\n",
       "      <th>idx</th>\n",
       "      <th>review_norm</th>\n",
       "    </tr>\n",
       "  </thead>\n",
       "  <tbody>\n",
       "    <tr>\n",
       "      <th>0</th>\n",
       "      <td>tt0068152</td>\n",
       "      <td>movie</td>\n",
       "      <td>$</td>\n",
       "      <td>$</td>\n",
       "      <td>1971</td>\n",
       "      <td>\\N</td>\n",
       "      <td>121</td>\n",
       "      <td>0</td>\n",
       "      <td>Comedy,Crime,Drama</td>\n",
       "      <td>6.3</td>\n",
       "      <td>2218</td>\n",
       "      <td>The pakage implies that Warren Beatty and Gold...</td>\n",
       "      <td>1</td>\n",
       "      <td>neg</td>\n",
       "      <td>0</td>\n",
       "      <td>train</td>\n",
       "      <td>8335</td>\n",
       "      <td>pakage implies warren beatty goldie hawn pulli...</td>\n",
       "    </tr>\n",
       "    <tr>\n",
       "      <th>1</th>\n",
       "      <td>tt0068152</td>\n",
       "      <td>movie</td>\n",
       "      <td>$</td>\n",
       "      <td>$</td>\n",
       "      <td>1971</td>\n",
       "      <td>\\N</td>\n",
       "      <td>121</td>\n",
       "      <td>0</td>\n",
       "      <td>Comedy,Crime,Drama</td>\n",
       "      <td>6.3</td>\n",
       "      <td>2218</td>\n",
       "      <td>How the hell did they get this made?! Presenti...</td>\n",
       "      <td>1</td>\n",
       "      <td>neg</td>\n",
       "      <td>0</td>\n",
       "      <td>train</td>\n",
       "      <td>8336</td>\n",
       "      <td>hell get made presenting caper comedy misbegot...</td>\n",
       "    </tr>\n",
       "    <tr>\n",
       "      <th>2</th>\n",
       "      <td>tt0313150</td>\n",
       "      <td>short</td>\n",
       "      <td>'15'</td>\n",
       "      <td>'15'</td>\n",
       "      <td>2002</td>\n",
       "      <td>\\N</td>\n",
       "      <td>25</td>\n",
       "      <td>0</td>\n",
       "      <td>Comedy,Drama,Short</td>\n",
       "      <td>6.3</td>\n",
       "      <td>184</td>\n",
       "      <td>There is no real story the film seems more lik...</td>\n",
       "      <td>3</td>\n",
       "      <td>neg</td>\n",
       "      <td>0</td>\n",
       "      <td>test</td>\n",
       "      <td>2489</td>\n",
       "      <td>real story film seems like fly wall dramadocum...</td>\n",
       "    </tr>\n",
       "    <tr>\n",
       "      <th>3</th>\n",
       "      <td>tt0313150</td>\n",
       "      <td>short</td>\n",
       "      <td>'15'</td>\n",
       "      <td>'15'</td>\n",
       "      <td>2002</td>\n",
       "      <td>\\N</td>\n",
       "      <td>25</td>\n",
       "      <td>0</td>\n",
       "      <td>Comedy,Drama,Short</td>\n",
       "      <td>6.3</td>\n",
       "      <td>184</td>\n",
       "      <td>Um .... a serious film about troubled teens in...</td>\n",
       "      <td>7</td>\n",
       "      <td>pos</td>\n",
       "      <td>1</td>\n",
       "      <td>test</td>\n",
       "      <td>9280</td>\n",
       "      <td>um serious film troubled teens singapore count...</td>\n",
       "    </tr>\n",
       "    <tr>\n",
       "      <th>4</th>\n",
       "      <td>tt0313150</td>\n",
       "      <td>short</td>\n",
       "      <td>'15'</td>\n",
       "      <td>'15'</td>\n",
       "      <td>2002</td>\n",
       "      <td>\\N</td>\n",
       "      <td>25</td>\n",
       "      <td>0</td>\n",
       "      <td>Comedy,Drama,Short</td>\n",
       "      <td>6.3</td>\n",
       "      <td>184</td>\n",
       "      <td>I'm totally agree with GarryJohal from Singapo...</td>\n",
       "      <td>9</td>\n",
       "      <td>pos</td>\n",
       "      <td>1</td>\n",
       "      <td>test</td>\n",
       "      <td>9281</td>\n",
       "      <td>im totally agree garryjohal singapores comment...</td>\n",
       "    </tr>\n",
       "    <tr>\n",
       "      <th>...</th>\n",
       "      <td>...</td>\n",
       "      <td>...</td>\n",
       "      <td>...</td>\n",
       "      <td>...</td>\n",
       "      <td>...</td>\n",
       "      <td>...</td>\n",
       "      <td>...</td>\n",
       "      <td>...</td>\n",
       "      <td>...</td>\n",
       "      <td>...</td>\n",
       "      <td>...</td>\n",
       "      <td>...</td>\n",
       "      <td>...</td>\n",
       "      <td>...</td>\n",
       "      <td>...</td>\n",
       "      <td>...</td>\n",
       "      <td>...</td>\n",
       "      <td>...</td>\n",
       "    </tr>\n",
       "    <tr>\n",
       "      <th>47326</th>\n",
       "      <td>tt0068398</td>\n",
       "      <td>tvEpisode</td>\n",
       "      <td>Étude in Black</td>\n",
       "      <td>Étude in Black</td>\n",
       "      <td>1972</td>\n",
       "      <td>\\N</td>\n",
       "      <td>97</td>\n",
       "      <td>0</td>\n",
       "      <td>Crime,Drama,Mystery</td>\n",
       "      <td>7.7</td>\n",
       "      <td>2254</td>\n",
       "      <td>This is another of my favorite Columbos. It sp...</td>\n",
       "      <td>10</td>\n",
       "      <td>pos</td>\n",
       "      <td>1</td>\n",
       "      <td>test</td>\n",
       "      <td>6038</td>\n",
       "      <td>another favorite columbos sports topnotch cast...</td>\n",
       "    </tr>\n",
       "    <tr>\n",
       "      <th>47327</th>\n",
       "      <td>tt0223503</td>\n",
       "      <td>tvMovie</td>\n",
       "      <td>Îhatôbu gensô: KENjI no haru</td>\n",
       "      <td>Îhatôbu gensô: KENjI no haru</td>\n",
       "      <td>1996</td>\n",
       "      <td>\\N</td>\n",
       "      <td>55</td>\n",
       "      <td>0</td>\n",
       "      <td>Animation,Biography,Drama</td>\n",
       "      <td>7.3</td>\n",
       "      <td>278</td>\n",
       "      <td>Talk about being boring! I got this expecting ...</td>\n",
       "      <td>4</td>\n",
       "      <td>neg</td>\n",
       "      <td>0</td>\n",
       "      <td>test</td>\n",
       "      <td>989</td>\n",
       "      <td>talk boring got expecting fascinating insight ...</td>\n",
       "    </tr>\n",
       "    <tr>\n",
       "      <th>47328</th>\n",
       "      <td>tt0223503</td>\n",
       "      <td>tvMovie</td>\n",
       "      <td>Îhatôbu gensô: KENjI no haru</td>\n",
       "      <td>Îhatôbu gensô: KENjI no haru</td>\n",
       "      <td>1996</td>\n",
       "      <td>\\N</td>\n",
       "      <td>55</td>\n",
       "      <td>0</td>\n",
       "      <td>Animation,Biography,Drama</td>\n",
       "      <td>7.3</td>\n",
       "      <td>278</td>\n",
       "      <td>I never thought I'd say this about a biopic, b...</td>\n",
       "      <td>8</td>\n",
       "      <td>pos</td>\n",
       "      <td>1</td>\n",
       "      <td>test</td>\n",
       "      <td>4163</td>\n",
       "      <td>never thought id say biopic near overabundance...</td>\n",
       "    </tr>\n",
       "    <tr>\n",
       "      <th>47329</th>\n",
       "      <td>tt0223503</td>\n",
       "      <td>tvMovie</td>\n",
       "      <td>Îhatôbu gensô: KENjI no haru</td>\n",
       "      <td>Îhatôbu gensô: KENjI no haru</td>\n",
       "      <td>1996</td>\n",
       "      <td>\\N</td>\n",
       "      <td>55</td>\n",
       "      <td>0</td>\n",
       "      <td>Animation,Biography,Drama</td>\n",
       "      <td>7.3</td>\n",
       "      <td>278</td>\n",
       "      <td>Spirit and Chaos is an artistic biopic of Miya...</td>\n",
       "      <td>9</td>\n",
       "      <td>pos</td>\n",
       "      <td>1</td>\n",
       "      <td>test</td>\n",
       "      <td>4164</td>\n",
       "      <td>spirit chaos artistic biopic miyazawa kenji ja...</td>\n",
       "    </tr>\n",
       "    <tr>\n",
       "      <th>47330</th>\n",
       "      <td>tt0223503</td>\n",
       "      <td>tvMovie</td>\n",
       "      <td>Îhatôbu gensô: KENjI no haru</td>\n",
       "      <td>Îhatôbu gensô: KENjI no haru</td>\n",
       "      <td>1996</td>\n",
       "      <td>\\N</td>\n",
       "      <td>55</td>\n",
       "      <td>0</td>\n",
       "      <td>Animation,Biography,Drama</td>\n",
       "      <td>7.3</td>\n",
       "      <td>278</td>\n",
       "      <td>I'll make this brief. This was a joy to watch....</td>\n",
       "      <td>10</td>\n",
       "      <td>pos</td>\n",
       "      <td>1</td>\n",
       "      <td>test</td>\n",
       "      <td>4165</td>\n",
       "      <td>ill make brief joy watch may may effective cha...</td>\n",
       "    </tr>\n",
       "  </tbody>\n",
       "</table>\n",
       "<p>47331 rows × 18 columns</p>\n",
       "</div>"
      ],
      "text/plain": [
       "          tconst title_type                 primary_title  \\\n",
       "0      tt0068152      movie                             $   \n",
       "1      tt0068152      movie                             $   \n",
       "2      tt0313150      short                          '15'   \n",
       "3      tt0313150      short                          '15'   \n",
       "4      tt0313150      short                          '15'   \n",
       "...          ...        ...                           ...   \n",
       "47326  tt0068398  tvEpisode                Étude in Black   \n",
       "47327  tt0223503    tvMovie  Îhatôbu gensô: KENjI no haru   \n",
       "47328  tt0223503    tvMovie  Îhatôbu gensô: KENjI no haru   \n",
       "47329  tt0223503    tvMovie  Îhatôbu gensô: KENjI no haru   \n",
       "47330  tt0223503    tvMovie  Îhatôbu gensô: KENjI no haru   \n",
       "\n",
       "                     original_title  start_year end_year runtime_minutes  \\\n",
       "0                                 $        1971       \\N             121   \n",
       "1                                 $        1971       \\N             121   \n",
       "2                              '15'        2002       \\N              25   \n",
       "3                              '15'        2002       \\N              25   \n",
       "4                              '15'        2002       \\N              25   \n",
       "...                             ...         ...      ...             ...   \n",
       "47326                Étude in Black        1972       \\N              97   \n",
       "47327  Îhatôbu gensô: KENjI no haru        1996       \\N              55   \n",
       "47328  Îhatôbu gensô: KENjI no haru        1996       \\N              55   \n",
       "47329  Îhatôbu gensô: KENjI no haru        1996       \\N              55   \n",
       "47330  Îhatôbu gensô: KENjI no haru        1996       \\N              55   \n",
       "\n",
       "       is_adult                     genres  average_rating  votes  \\\n",
       "0             0         Comedy,Crime,Drama             6.3   2218   \n",
       "1             0         Comedy,Crime,Drama             6.3   2218   \n",
       "2             0         Comedy,Drama,Short             6.3    184   \n",
       "3             0         Comedy,Drama,Short             6.3    184   \n",
       "4             0         Comedy,Drama,Short             6.3    184   \n",
       "...         ...                        ...             ...    ...   \n",
       "47326         0        Crime,Drama,Mystery             7.7   2254   \n",
       "47327         0  Animation,Biography,Drama             7.3    278   \n",
       "47328         0  Animation,Biography,Drama             7.3    278   \n",
       "47329         0  Animation,Biography,Drama             7.3    278   \n",
       "47330         0  Animation,Biography,Drama             7.3    278   \n",
       "\n",
       "                                                  review  rating   sp  pos  \\\n",
       "0      The pakage implies that Warren Beatty and Gold...       1  neg    0   \n",
       "1      How the hell did they get this made?! Presenti...       1  neg    0   \n",
       "2      There is no real story the film seems more lik...       3  neg    0   \n",
       "3      Um .... a serious film about troubled teens in...       7  pos    1   \n",
       "4      I'm totally agree with GarryJohal from Singapo...       9  pos    1   \n",
       "...                                                  ...     ...  ...  ...   \n",
       "47326  This is another of my favorite Columbos. It sp...      10  pos    1   \n",
       "47327  Talk about being boring! I got this expecting ...       4  neg    0   \n",
       "47328  I never thought I'd say this about a biopic, b...       8  pos    1   \n",
       "47329  Spirit and Chaos is an artistic biopic of Miya...       9  pos    1   \n",
       "47330  I'll make this brief. This was a joy to watch....      10  pos    1   \n",
       "\n",
       "      ds_part   idx                                        review_norm  \n",
       "0       train  8335  pakage implies warren beatty goldie hawn pulli...  \n",
       "1       train  8336  hell get made presenting caper comedy misbegot...  \n",
       "2        test  2489  real story film seems like fly wall dramadocum...  \n",
       "3        test  9280  um serious film troubled teens singapore count...  \n",
       "4        test  9281  im totally agree garryjohal singapores comment...  \n",
       "...       ...   ...                                                ...  \n",
       "47326    test  6038  another favorite columbos sports topnotch cast...  \n",
       "47327    test   989  talk boring got expecting fascinating insight ...  \n",
       "47328    test  4163  never thought id say biopic near overabundance...  \n",
       "47329    test  4164  spirit chaos artistic biopic miyazawa kenji ja...  \n",
       "47330    test  4165  ill make brief joy watch may may effective cha...  \n",
       "\n",
       "[47331 rows x 18 columns]"
      ]
     },
     "execution_count": 16,
     "metadata": {},
     "output_type": "execute_result"
    }
   ],
   "source": [
    "df_reviews"
   ]
  },
  {
   "cell_type": "markdown",
   "metadata": {},
   "source": [
    "<div class=\"alert alert-block alert-danger\">\n",
    "<b>Comentario del revisor (1ra Iteracion)</b> <a class=“tocSkip”></a>\n",
    "\n",
    "Por favor aplica la normalización de tus reviews\n",
    "</div>"
   ]
  },
  {
   "cell_type": "markdown",
   "metadata": {},
   "source": [
    "<div class=\"alert alert-block alert-info\">\n",
    "<b>Se ejecuta la normalización de acuerdo con la indicación del revisor\n",
    "</div>"
   ]
  },
  {
   "cell_type": "markdown",
   "metadata": {},
   "source": [
    "<div class=\"alert alert-block alert-success\">\n",
    "<b>Comentario del revisor (2da Iteracion)</b> <a class=“tocSkip”></a>\n",
    "\n",
    "Buen trabajo! Este paso es importante cuando se trabaja con texto\n",
    "\n",
    "</div>"
   ]
  },
  {
   "cell_type": "markdown",
   "metadata": {},
   "source": [
    "## División entrenamiento / prueba"
   ]
  },
  {
   "cell_type": "markdown",
   "metadata": {},
   "source": [
    "Por fortuna, todo el conjunto de datos ya está dividido en partes de entrenamiento/prueba; 'ds_part' es el indicador correspondiente."
   ]
  },
  {
   "cell_type": "code",
   "execution_count": 17,
   "metadata": {},
   "outputs": [
    {
     "name": "stdout",
     "output_type": "stream",
     "text": [
      "(23796, 18)\n",
      "(23535, 18)\n"
     ]
    }
   ],
   "source": [
    "df_reviews_train = df_reviews.query('ds_part == \"train\"').copy()\n",
    "df_reviews_test = df_reviews.query('ds_part == \"test\"').copy()\n",
    "\n",
    "train_target = df_reviews_train['pos']\n",
    "test_target = df_reviews_test['pos']\n",
    "\n",
    "print(df_reviews_train.shape)\n",
    "print(df_reviews_test.shape)"
   ]
  },
  {
   "cell_type": "markdown",
   "metadata": {},
   "source": [
    "## Trabajar con modelos"
   ]
  },
  {
   "cell_type": "markdown",
   "metadata": {},
   "source": [
    "### Modelo 0 - Constante"
   ]
  },
  {
   "cell_type": "code",
   "execution_count": 18,
   "metadata": {},
   "outputs": [],
   "source": [
    "import pandas as pd\n",
    "from sklearn.dummy import DummyClassifier\n",
    "from sklearn.feature_extraction.text import CountVectorizer\n",
    "from sklearn.model_selection import train_test_split\n",
    "from sklearn.metrics import accuracy_score"
   ]
  },
  {
   "cell_type": "code",
   "execution_count": 19,
   "metadata": {
    "scrolled": true
   },
   "outputs": [
    {
     "data": {
      "text/plain": [
       "DummyClassifier(strategy='most_frequent')"
      ]
     },
     "execution_count": 19,
     "metadata": {},
     "output_type": "execute_result"
    }
   ],
   "source": [
    "# Extraer los textos y etiquetas del DataFrame\n",
    "texts = df_reviews['review'].tolist()\n",
    "labels = df_reviews['sp'].tolist()\n",
    "\n",
    "# Crear el vectorizador\n",
    "vectorizer = CountVectorizer()\n",
    "X = vectorizer.fit_transform(texts)\n",
    "\n",
    "# Dividir los datos en entrenamiento y prueba\n",
    "X_train, X_test, y_train, y_test = train_test_split(X, labels, test_size=0.2, random_state=42)\n",
    "\n",
    "# Crear y entrenar el DummyClassifier\n",
    "dummy_clf = DummyClassifier(strategy=\"most_frequent\")\n",
    "dummy_clf.fit(X_train, y_train)\n",
    "\n",
    "\n"
   ]
  },
  {
   "cell_type": "code",
   "execution_count": 20,
   "metadata": {
    "scrolled": true
   },
   "outputs": [
    {
     "name": "stdout",
     "output_type": "stream",
     "text": [
      "Precisión del DummyClassifier: 0.5037498679623957\n"
     ]
    }
   ],
   "source": [
    "# Predecir y evaluar el DummyClassifier\n",
    "y_pred = dummy_clf.predict(X_test)\n",
    "print(\"Precisión del DummyClassifier:\", accuracy_score(y_test, y_pred))"
   ]
  },
  {
   "cell_type": "markdown",
   "metadata": {},
   "source": [
    "El modelo de DummyClassifier nos arroja un resultado de 0.50, muy por debajo del objetivo de 0.85, por lo que seguiremos validando otros modelos."
   ]
  },
  {
   "cell_type": "markdown",
   "metadata": {},
   "source": [
    "### Modelo 1 - NLTK, TF-IDF y LR"
   ]
  },
  {
   "cell_type": "markdown",
   "metadata": {},
   "source": [
    "TF-IDF"
   ]
  },
  {
   "cell_type": "code",
   "execution_count": 21,
   "metadata": {},
   "outputs": [],
   "source": [
    "import nltk\n",
    "\n",
    "from nltk.tokenize import word_tokenize\n",
    "from nltk.stem import WordNetLemmatizer\n",
    "from sklearn.feature_extraction.text import TfidfVectorizer\n",
    "from sklearn.linear_model import LogisticRegression\n",
    "from nltk.corpus import stopwords as nltk_stopwords"
   ]
  },
  {
   "cell_type": "code",
   "execution_count": 22,
   "metadata": {},
   "outputs": [],
   "source": [
    "corpus = df_reviews['review']\n"
   ]
  },
  {
   "cell_type": "code",
   "execution_count": 23,
   "metadata": {},
   "outputs": [],
   "source": [
    "def clear_text(text):\n",
    "    clean_text = re.sub(r\"[^a-zA-z\\']\", ' ', text)\n",
    "    clean_text = \" \".join(clean_text.split())\n",
    "    return clean_text"
   ]
  },
  {
   "cell_type": "code",
   "execution_count": 24,
   "metadata": {},
   "outputs": [],
   "source": [
    "def word_lemmatize(texts):\n",
    "    text = word_tokenize(texts.lower())\n",
    "    return ' '.join(text)"
   ]
  },
  {
   "cell_type": "code",
   "execution_count": 25,
   "metadata": {},
   "outputs": [
    {
     "name": "stdout",
     "output_type": "stream",
     "text": [
      "Tiempo de lematizacion:  30.49\n"
     ]
    }
   ],
   "source": [
    "norm = []\n",
    "start_time = time.time()\n",
    "for x in range(len(corpus)):\n",
    "    norm.append(word_lemmatize(clear_text(corpus[x])))\n",
    "end_time = time.time()\n",
    "print('Tiempo de lematizacion: ',round(end_time - start_time,2))"
   ]
  },
  {
   "cell_type": "code",
   "execution_count": 26,
   "metadata": {},
   "outputs": [],
   "source": [
    "df_reviews['review_norm'] = norm"
   ]
  },
  {
   "cell_type": "code",
   "execution_count": 27,
   "metadata": {},
   "outputs": [
    {
     "name": "stdout",
     "output_type": "stream",
     "text": [
      "(23796, 18)\n",
      "(23535, 18)\n"
     ]
    }
   ],
   "source": [
    "df_reviews_train = df_reviews.query('ds_part == \"train\"').copy()\n",
    "df_reviews_test = df_reviews.query('ds_part == \"test\"').copy()\n",
    "\n",
    "train_target = df_reviews_train['pos']\n",
    "test_target = df_reviews_test['pos']\n",
    "\n",
    "print(df_reviews_train.shape)\n",
    "print(df_reviews_test.shape)"
   ]
  },
  {
   "cell_type": "code",
   "execution_count": 28,
   "metadata": {},
   "outputs": [],
   "source": [
    "stop_words = set(nltk_stopwords.words('english'))\n",
    "count_tf_idf = TfidfVectorizer(stop_words=stop_words).fit(df_reviews_train['review_norm'])\n",
    "tf_train = count_tf_idf.transform(df_reviews_train['review_norm'])\n",
    "tf_test = count_tf_idf.transform(df_reviews_test['review_norm'])"
   ]
  },
  {
   "cell_type": "code",
   "execution_count": 29,
   "metadata": {},
   "outputs": [
    {
     "data": {
      "text/plain": [
       "['tfidf_vectorizer.pkl']"
      ]
     },
     "execution_count": 29,
     "metadata": {},
     "output_type": "execute_result"
    }
   ],
   "source": [
    "model_1 = LogisticRegression() \n",
    "model_1.fit(tf_train,train_target)\n",
    "\n",
    "# Guardar el modelo entrenado \n",
    "joblib.dump(model_1, 'logistic_regression_model.pkl') \n",
    "\n",
    "# Guardar el vectorizador TF-IDF ajustado \n",
    "\n",
    "joblib.dump(count_tf_idf, 'tfidf_vectorizer.pkl')"
   ]
  },
  {
   "cell_type": "code",
   "execution_count": 30,
   "metadata": {},
   "outputs": [
    {
     "name": "stdout",
     "output_type": "stream",
     "text": [
      "           train  test\n",
      "Exactitud    NaN   NaN\n",
      "F1          0.94  0.88\n",
      "APS         0.98  0.95\n",
      "ROC AUC     0.98  0.95\n"
     ]
    },
    {
     "data": {
      "image/png": "[encoded data removed]",
      "text/plain": [
       "<Figure size 2000x600 with 3 Axes>"
      ]
     },
     "metadata": {},
     "output_type": "display_data"
    }
   ],
   "source": [
    "evaluate_model(model_1, tf_train, train_target, tf_test, test_target)"
   ]
  },
  {
   "cell_type": "markdown",
   "metadata": {},
   "source": [
    "En el modelo con lematizacion y stopwords con libreria NLTK con un modelo de LogisticRegression simple nos da un valor de F1 de 0.88 con lo cual se cumple y supera el oibjetivo de 0.85 de puntuacion en F1."
   ]
  },
  {
   "cell_type": "markdown",
   "metadata": {},
   "source": [
    "### Modelo 3 - spaCy, TF-IDF y LR"
   ]
  },
  {
   "cell_type": "code",
   "execution_count": 31,
   "metadata": {},
   "outputs": [],
   "source": [
    "import spacy\n",
    "\n",
    "nlp = spacy.load('en_core_web_sm', disable=['parser', 'ner'])"
   ]
  },
  {
   "cell_type": "code",
   "execution_count": 32,
   "metadata": {},
   "outputs": [],
   "source": [
    "def lemmatize(text):\n",
    "    doc = nlp(text.lower())\n",
    "    lemmas = []\n",
    "    for token in doc:\n",
    "        lemmas.append(token.lemma_)\n",
    "    return ' '.join(lemmas)"
   ]
  },
  {
   "cell_type": "code",
   "execution_count": 33,
   "metadata": {},
   "outputs": [
    {
     "name": "stdout",
     "output_type": "stream",
     "text": [
      "Tiempo de lematizacion:  433.92\n"
     ]
    }
   ],
   "source": [
    "norm = []\n",
    "start_time = time.time()\n",
    "for x in range(len(corpus)):\n",
    "    norm.append(lemmatize(clear_text(corpus[x])))\n",
    "end_time = time.time()\n",
    "print('Tiempo de lematizacion: ',round(end_time - start_time,2))"
   ]
  },
  {
   "cell_type": "code",
   "execution_count": 34,
   "metadata": {},
   "outputs": [],
   "source": [
    "df_reviews['review_norm'] = norm"
   ]
  },
  {
   "cell_type": "code",
   "execution_count": 35,
   "metadata": {},
   "outputs": [
    {
     "name": "stdout",
     "output_type": "stream",
     "text": [
      "(23796, 18)\n",
      "(23535, 18)\n"
     ]
    }
   ],
   "source": [
    "df_reviews_train = df_reviews.query('ds_part == \"train\"').copy()\n",
    "df_reviews_test = df_reviews.query('ds_part == \"test\"').copy()\n",
    "\n",
    "train_target = df_reviews_train['pos']\n",
    "test_target = df_reviews_test['pos']\n",
    "\n",
    "print(df_reviews_train.shape)\n",
    "print(df_reviews_test.shape)"
   ]
  },
  {
   "cell_type": "code",
   "execution_count": 36,
   "metadata": {},
   "outputs": [],
   "source": [
    "en = spacy.load('en_core_web_sm')\n",
    "stopwords = en.Defaults.stop_words"
   ]
  },
  {
   "cell_type": "code",
   "execution_count": 37,
   "metadata": {},
   "outputs": [
    {
     "name": "stderr",
     "output_type": "stream",
     "text": [
      "/opt/conda/envs/python3/lib/python3.9/site-packages/sklearn/feature_extraction/text.py:388: UserWarning: Your stop_words may be inconsistent with your preprocessing. Tokenizing the stop words generated tokens ['ll', 've'] not in stop_words.\n",
      "  warnings.warn('Your stop_words may be inconsistent with '\n"
     ]
    }
   ],
   "source": [
    "count_tf_idf = TfidfVectorizer(stop_words=stopwords)\n",
    "tf_train = count_tf_idf.fit_transform(df_reviews_train['review_norm'])\n",
    "tf_test = count_tf_idf.transform(df_reviews_test['review_norm'])"
   ]
  },
  {
   "cell_type": "code",
   "execution_count": 38,
   "metadata": {},
   "outputs": [
    {
     "data": {
      "text/plain": [
       "LogisticRegression()"
      ]
     },
     "execution_count": 38,
     "metadata": {},
     "output_type": "execute_result"
    }
   ],
   "source": [
    "model_2 = LogisticRegression()\n",
    "model_2.fit(tf_train,train_target)"
   ]
  },
  {
   "cell_type": "code",
   "execution_count": 39,
   "metadata": {},
   "outputs": [
    {
     "name": "stdout",
     "output_type": "stream",
     "text": [
      "           train  test\n",
      "Exactitud    NaN   NaN\n",
      "F1          0.93  0.87\n",
      "APS         0.98  0.94\n",
      "ROC AUC     0.98  0.95\n"
     ]
    },
    {
     "data": {
      "image/png": "[encoded data removed]",
      "text/plain": [
       "<Figure size 2000x600 with 3 Axes>"
      ]
     },
     "metadata": {},
     "output_type": "display_data"
    }
   ],
   "source": [
    "evaluate_model(model_2, tf_train, train_target, tf_test, test_target)"
   ]
  },
  {
   "cell_type": "markdown",
   "metadata": {},
   "source": [
    "Con modelo con lematizacion y stopwords con libreria spaCy con un modelo de LogisticRegression simple nos da un valor de F1 de 0.87 con lo cual también se cumple el objetivo de 0.85 de puntuacion en F1."
   ]
  },
  {
   "cell_type": "markdown",
   "metadata": {},
   "source": [
    "### Modelo 4 - spaCy, TF-IDF y LGBMClassifier"
   ]
  },
  {
   "cell_type": "code",
   "execution_count": 40,
   "metadata": {},
   "outputs": [],
   "source": [
    "from lightgbm import LGBMClassifier\n",
    "import lightgbm as lgb"
   ]
  },
  {
   "cell_type": "code",
   "execution_count": 41,
   "metadata": {},
   "outputs": [],
   "source": [
    "model_3 = LGBMClassifier()\n"
   ]
  },
  {
   "cell_type": "code",
   "execution_count": 42,
   "metadata": {},
   "outputs": [
    {
     "data": {
      "text/plain": [
       "LGBMClassifier()"
      ]
     },
     "execution_count": 42,
     "metadata": {},
     "output_type": "execute_result"
    }
   ],
   "source": [
    "model_3.fit(tf_train,train_target)"
   ]
  },
  {
   "cell_type": "code",
   "execution_count": 43,
   "metadata": {},
   "outputs": [
    {
     "name": "stdout",
     "output_type": "stream",
     "text": [
      "           train  test\n",
      "Exactitud    NaN   NaN\n",
      "F1          0.91  0.85\n",
      "APS         0.97  0.93\n",
      "ROC AUC     0.97  0.93\n"
     ]
    },
    {
     "data": {
      "image/png": "[encoded data removed]",
      "text/plain": [
       "<Figure size 2000x600 with 3 Axes>"
      ]
     },
     "metadata": {},
     "output_type": "display_data"
    }
   ],
   "source": [
    "evaluate_model(model_3, tf_train, train_target, tf_test, test_target)"
   ]
  },
  {
   "cell_type": "markdown",
   "metadata": {},
   "source": [
    "Con el modelo con lematizacion y stopwords con libreria NLTK con un modelo de LightGBMClassifier simple nos da un valor de F1 de 0.85 con lo cual se cummple el objetivo de manera justa que es de 0.85 de puntuacion en F1."
   ]
  },
  {
   "cell_type": "markdown",
   "metadata": {},
   "source": [
    "<div class=\"alert alert-block alert-success\">\n",
    "<b>Comentario del revisor (1ra Iteracion)</b> <a class=“tocSkip”></a>\n",
    "\n",
    "Excelente! Entrenaste diferentes modelos y se obtuvieron métricas buenas con algunos de ellos\n",
    "</div>"
   ]
  },
  {
   "cell_type": "markdown",
   "metadata": {},
   "source": [
    "###  Modelo 9 - BERT"
   ]
  },
  {
   "cell_type": "markdown",
   "metadata": {},
   "source": [
    "Para este proyecto NO se ha usado BERT debido a la cantidad de tiempo que esto significaría procesar los datos. Se dejan sin manipular las líneas de código pre cargadas."
   ]
  },
  {
   "cell_type": "code",
   "execution_count": 70,
   "metadata": {},
   "outputs": [],
   "source": [
    "import torch\n",
    "import transformers"
   ]
  },
  {
   "cell_type": "code",
   "execution_count": 71,
   "metadata": {},
   "outputs": [
    {
     "name": "stderr",
     "output_type": "stream",
     "text": [
      "Some weights of the model checkpoint at bert-base-uncased were not used when initializing BertModel: ['cls.seq_relationship.bias', 'cls.seq_relationship.weight', 'cls.predictions.decoder.weight', 'cls.predictions.transform.LayerNorm.weight', 'cls.predictions.bias', 'cls.predictions.transform.dense.bias', 'cls.predictions.transform.LayerNorm.bias', 'cls.predictions.transform.dense.weight']\n",
      "- This IS expected if you are initializing BertModel from the checkpoint of a model trained on another task or with another architecture (e.g. initializing a BertForSequenceClassification model from a BertForPreTraining model).\n",
      "- This IS NOT expected if you are initializing BertModel from the checkpoint of a model that you expect to be exactly identical (initializing a BertForSequenceClassification model from a BertForSequenceClassification model).\n"
     ]
    }
   ],
   "source": [
    "tokenizer = transformers.BertTokenizer.from_pretrained('bert-base-uncased')\n",
    "config = transformers.BertConfig.from_pretrained('bert-base-uncased')\n",
    "model = transformers.BertModel.from_pretrained('bert-base-uncased')"
   ]
  },
  {
   "cell_type": "code",
   "execution_count": 72,
   "metadata": {},
   "outputs": [],
   "source": [
    "def BERT_text_to_embeddings(texts, max_length=512, batch_size=100, force_device=None, disable_progress_bar=False):\n",
    "    \n",
    "    ids_list = []\n",
    "    attention_mask_list = []\n",
    "\n",
    "    # texto al id de relleno de tokens junto con sus máscaras de atención \n",
    "       \n",
    "    # <escribe tu código aquí para crear ids_list y attention_mask_list>\n",
    "    \n",
    "    if force_device is not None:\n",
    "        device = torch.device(force_device)\n",
    "    else:\n",
    "        device = torch.device('cuda' if torch.cuda.is_available() else 'cpu')\n",
    "        \n",
    "    model.to(device)\n",
    "    if not disable_progress_bar:\n",
    "        print(f'Uso del dispositivo {device}.')\n",
    "    \n",
    "    # obtener insertados en lotes\n",
    "    \n",
    "    embeddings = []\n",
    "\n",
    "    for i in tqdm(range(math.ceil(len(ids_list)/batch_size)), disable=disable_progress_bar):\n",
    "            \n",
    "        ids_batch = torch.LongTensor(ids_list[batch_size*i:batch_size*(i+1)]).to(device)\n",
    "        # <escribe tu código aquí para crear attention_mask_batch\n",
    "            \n",
    "        with torch.no_grad():            \n",
    "            model.eval()\n",
    "            batch_embeddings = model(input_ids=ids_batch, attention_mask=attention_mask_batch)   \n",
    "        embeddings.append(batch_embeddings[0][:,0,:].detach().cpu().numpy())\n",
    "        \n",
    "    return np.concatenate(embeddings)"
   ]
  },
  {
   "cell_type": "code",
   "execution_count": 73,
   "metadata": {},
   "outputs": [
    {
     "ename": "RuntimeError",
     "evalue": "Found no NVIDIA driver on your system. Please check that you have an NVIDIA GPU and installed a driver from http://www.nvidia.com/Download/index.aspx",
     "output_type": "error",
     "traceback": [
      "\u001b[0;31m---------------------------------------------------------------------------\u001b[0m",
      "\u001b[0;31mRuntimeError\u001b[0m                              Traceback (most recent call last)",
      "Cell \u001b[0;32mIn[73], line 2\u001b[0m\n\u001b[1;32m      1\u001b[0m \u001b[38;5;66;03m# ¡Atención! La ejecución de BERT para miles de textos puede llevar mucho tiempo en la CPU, al menos varias horas\u001b[39;00m\n\u001b[0;32m----> 2\u001b[0m train_features_9 \u001b[38;5;241m=\u001b[39m \u001b[43mBERT_text_to_embeddings\u001b[49m\u001b[43m(\u001b[49m\u001b[43mdf_reviews_train\u001b[49m\u001b[43m[\u001b[49m\u001b[38;5;124;43m'\u001b[39;49m\u001b[38;5;124;43mreview_norm\u001b[39;49m\u001b[38;5;124;43m'\u001b[39;49m\u001b[43m]\u001b[49m\u001b[43m,\u001b[49m\u001b[43m \u001b[49m\u001b[43mforce_device\u001b[49m\u001b[38;5;241;43m=\u001b[39;49m\u001b[38;5;124;43m'\u001b[39;49m\u001b[38;5;124;43mcuda\u001b[39;49m\u001b[38;5;124;43m'\u001b[39;49m\u001b[43m)\u001b[49m\n",
      "Cell \u001b[0;32mIn[72], line 15\u001b[0m, in \u001b[0;36mBERT_text_to_embeddings\u001b[0;34m(texts, max_length, batch_size, force_device, disable_progress_bar)\u001b[0m\n\u001b[1;32m     12\u001b[0m \u001b[38;5;28;01melse\u001b[39;00m:\n\u001b[1;32m     13\u001b[0m     device \u001b[38;5;241m=\u001b[39m torch\u001b[38;5;241m.\u001b[39mdevice(\u001b[38;5;124m'\u001b[39m\u001b[38;5;124mcuda\u001b[39m\u001b[38;5;124m'\u001b[39m \u001b[38;5;28;01mif\u001b[39;00m torch\u001b[38;5;241m.\u001b[39mcuda\u001b[38;5;241m.\u001b[39mis_available() \u001b[38;5;28;01melse\u001b[39;00m \u001b[38;5;124m'\u001b[39m\u001b[38;5;124mcpu\u001b[39m\u001b[38;5;124m'\u001b[39m)\n\u001b[0;32m---> 15\u001b[0m \u001b[43mmodel\u001b[49m\u001b[38;5;241;43m.\u001b[39;49m\u001b[43mto\u001b[49m\u001b[43m(\u001b[49m\u001b[43mdevice\u001b[49m\u001b[43m)\u001b[49m\n\u001b[1;32m     16\u001b[0m \u001b[38;5;28;01mif\u001b[39;00m \u001b[38;5;129;01mnot\u001b[39;00m disable_progress_bar:\n\u001b[1;32m     17\u001b[0m     \u001b[38;5;28mprint\u001b[39m(\u001b[38;5;124mf\u001b[39m\u001b[38;5;124m'\u001b[39m\u001b[38;5;124mUso del dispositivo \u001b[39m\u001b[38;5;132;01m{\u001b[39;00mdevice\u001b[38;5;132;01m}\u001b[39;00m\u001b[38;5;124m.\u001b[39m\u001b[38;5;124m'\u001b[39m)\n",
      "File \u001b[0;32m/opt/conda/envs/python3/lib/python3.9/site-packages/torch/nn/modules/module.py:899\u001b[0m, in \u001b[0;36mModule.to\u001b[0;34m(self, *args, **kwargs)\u001b[0m\n\u001b[1;32m    895\u001b[0m         \u001b[38;5;28;01mreturn\u001b[39;00m t\u001b[38;5;241m.\u001b[39mto(device, dtype \u001b[38;5;28;01mif\u001b[39;00m t\u001b[38;5;241m.\u001b[39mis_floating_point() \u001b[38;5;129;01mor\u001b[39;00m t\u001b[38;5;241m.\u001b[39mis_complex() \u001b[38;5;28;01melse\u001b[39;00m \u001b[38;5;28;01mNone\u001b[39;00m,\n\u001b[1;32m    896\u001b[0m                     non_blocking, memory_format\u001b[38;5;241m=\u001b[39mconvert_to_format)\n\u001b[1;32m    897\u001b[0m     \u001b[38;5;28;01mreturn\u001b[39;00m t\u001b[38;5;241m.\u001b[39mto(device, dtype \u001b[38;5;28;01mif\u001b[39;00m t\u001b[38;5;241m.\u001b[39mis_floating_point() \u001b[38;5;129;01mor\u001b[39;00m t\u001b[38;5;241m.\u001b[39mis_complex() \u001b[38;5;28;01melse\u001b[39;00m \u001b[38;5;28;01mNone\u001b[39;00m, non_blocking)\n\u001b[0;32m--> 899\u001b[0m \u001b[38;5;28;01mreturn\u001b[39;00m \u001b[38;5;28;43mself\u001b[39;49m\u001b[38;5;241;43m.\u001b[39;49m\u001b[43m_apply\u001b[49m\u001b[43m(\u001b[49m\u001b[43mconvert\u001b[49m\u001b[43m)\u001b[49m\n",
      "File \u001b[0;32m/opt/conda/envs/python3/lib/python3.9/site-packages/torch/nn/modules/module.py:570\u001b[0m, in \u001b[0;36mModule._apply\u001b[0;34m(self, fn)\u001b[0m\n\u001b[1;32m    568\u001b[0m \u001b[38;5;28;01mdef\u001b[39;00m \u001b[38;5;21m_apply\u001b[39m(\u001b[38;5;28mself\u001b[39m, fn):\n\u001b[1;32m    569\u001b[0m     \u001b[38;5;28;01mfor\u001b[39;00m module \u001b[38;5;129;01min\u001b[39;00m \u001b[38;5;28mself\u001b[39m\u001b[38;5;241m.\u001b[39mchildren():\n\u001b[0;32m--> 570\u001b[0m         \u001b[43mmodule\u001b[49m\u001b[38;5;241;43m.\u001b[39;49m\u001b[43m_apply\u001b[49m\u001b[43m(\u001b[49m\u001b[43mfn\u001b[49m\u001b[43m)\u001b[49m\n\u001b[1;32m    572\u001b[0m     \u001b[38;5;28;01mdef\u001b[39;00m \u001b[38;5;21mcompute_should_use_set_data\u001b[39m(tensor, tensor_applied):\n\u001b[1;32m    573\u001b[0m         \u001b[38;5;28;01mif\u001b[39;00m torch\u001b[38;5;241m.\u001b[39m_has_compatible_shallow_copy_type(tensor, tensor_applied):\n\u001b[1;32m    574\u001b[0m             \u001b[38;5;66;03m# If the new tensor has compatible tensor type as the existing tensor,\u001b[39;00m\n\u001b[1;32m    575\u001b[0m             \u001b[38;5;66;03m# the current behavior is to change the tensor in-place using `.data =`,\u001b[39;00m\n\u001b[0;32m   (...)\u001b[0m\n\u001b[1;32m    580\u001b[0m             \u001b[38;5;66;03m# global flag to let the user control whether they want the future\u001b[39;00m\n\u001b[1;32m    581\u001b[0m             \u001b[38;5;66;03m# behavior of overwriting the existing tensor or not.\u001b[39;00m\n",
      "File \u001b[0;32m/opt/conda/envs/python3/lib/python3.9/site-packages/torch/nn/modules/module.py:570\u001b[0m, in \u001b[0;36mModule._apply\u001b[0;34m(self, fn)\u001b[0m\n\u001b[1;32m    568\u001b[0m \u001b[38;5;28;01mdef\u001b[39;00m \u001b[38;5;21m_apply\u001b[39m(\u001b[38;5;28mself\u001b[39m, fn):\n\u001b[1;32m    569\u001b[0m     \u001b[38;5;28;01mfor\u001b[39;00m module \u001b[38;5;129;01min\u001b[39;00m \u001b[38;5;28mself\u001b[39m\u001b[38;5;241m.\u001b[39mchildren():\n\u001b[0;32m--> 570\u001b[0m         \u001b[43mmodule\u001b[49m\u001b[38;5;241;43m.\u001b[39;49m\u001b[43m_apply\u001b[49m\u001b[43m(\u001b[49m\u001b[43mfn\u001b[49m\u001b[43m)\u001b[49m\n\u001b[1;32m    572\u001b[0m     \u001b[38;5;28;01mdef\u001b[39;00m \u001b[38;5;21mcompute_should_use_set_data\u001b[39m(tensor, tensor_applied):\n\u001b[1;32m    573\u001b[0m         \u001b[38;5;28;01mif\u001b[39;00m torch\u001b[38;5;241m.\u001b[39m_has_compatible_shallow_copy_type(tensor, tensor_applied):\n\u001b[1;32m    574\u001b[0m             \u001b[38;5;66;03m# If the new tensor has compatible tensor type as the existing tensor,\u001b[39;00m\n\u001b[1;32m    575\u001b[0m             \u001b[38;5;66;03m# the current behavior is to change the tensor in-place using `.data =`,\u001b[39;00m\n\u001b[0;32m   (...)\u001b[0m\n\u001b[1;32m    580\u001b[0m             \u001b[38;5;66;03m# global flag to let the user control whether they want the future\u001b[39;00m\n\u001b[1;32m    581\u001b[0m             \u001b[38;5;66;03m# behavior of overwriting the existing tensor or not.\u001b[39;00m\n",
      "File \u001b[0;32m/opt/conda/envs/python3/lib/python3.9/site-packages/torch/nn/modules/module.py:593\u001b[0m, in \u001b[0;36mModule._apply\u001b[0;34m(self, fn)\u001b[0m\n\u001b[1;32m    589\u001b[0m \u001b[38;5;66;03m# Tensors stored in modules are graph leaves, and we don't want to\u001b[39;00m\n\u001b[1;32m    590\u001b[0m \u001b[38;5;66;03m# track autograd history of `param_applied`, so we have to use\u001b[39;00m\n\u001b[1;32m    591\u001b[0m \u001b[38;5;66;03m# `with torch.no_grad():`\u001b[39;00m\n\u001b[1;32m    592\u001b[0m \u001b[38;5;28;01mwith\u001b[39;00m torch\u001b[38;5;241m.\u001b[39mno_grad():\n\u001b[0;32m--> 593\u001b[0m     param_applied \u001b[38;5;241m=\u001b[39m \u001b[43mfn\u001b[49m\u001b[43m(\u001b[49m\u001b[43mparam\u001b[49m\u001b[43m)\u001b[49m\n\u001b[1;32m    594\u001b[0m should_use_set_data \u001b[38;5;241m=\u001b[39m compute_should_use_set_data(param, param_applied)\n\u001b[1;32m    595\u001b[0m \u001b[38;5;28;01mif\u001b[39;00m should_use_set_data:\n",
      "File \u001b[0;32m/opt/conda/envs/python3/lib/python3.9/site-packages/torch/nn/modules/module.py:897\u001b[0m, in \u001b[0;36mModule.to.<locals>.convert\u001b[0;34m(t)\u001b[0m\n\u001b[1;32m    894\u001b[0m \u001b[38;5;28;01mif\u001b[39;00m convert_to_format \u001b[38;5;129;01mis\u001b[39;00m \u001b[38;5;129;01mnot\u001b[39;00m \u001b[38;5;28;01mNone\u001b[39;00m \u001b[38;5;129;01mand\u001b[39;00m t\u001b[38;5;241m.\u001b[39mdim() \u001b[38;5;129;01min\u001b[39;00m (\u001b[38;5;241m4\u001b[39m, \u001b[38;5;241m5\u001b[39m):\n\u001b[1;32m    895\u001b[0m     \u001b[38;5;28;01mreturn\u001b[39;00m t\u001b[38;5;241m.\u001b[39mto(device, dtype \u001b[38;5;28;01mif\u001b[39;00m t\u001b[38;5;241m.\u001b[39mis_floating_point() \u001b[38;5;129;01mor\u001b[39;00m t\u001b[38;5;241m.\u001b[39mis_complex() \u001b[38;5;28;01melse\u001b[39;00m \u001b[38;5;28;01mNone\u001b[39;00m,\n\u001b[1;32m    896\u001b[0m                 non_blocking, memory_format\u001b[38;5;241m=\u001b[39mconvert_to_format)\n\u001b[0;32m--> 897\u001b[0m \u001b[38;5;28;01mreturn\u001b[39;00m \u001b[43mt\u001b[49m\u001b[38;5;241;43m.\u001b[39;49m\u001b[43mto\u001b[49m\u001b[43m(\u001b[49m\u001b[43mdevice\u001b[49m\u001b[43m,\u001b[49m\u001b[43m \u001b[49m\u001b[43mdtype\u001b[49m\u001b[43m \u001b[49m\u001b[38;5;28;43;01mif\u001b[39;49;00m\u001b[43m \u001b[49m\u001b[43mt\u001b[49m\u001b[38;5;241;43m.\u001b[39;49m\u001b[43mis_floating_point\u001b[49m\u001b[43m(\u001b[49m\u001b[43m)\u001b[49m\u001b[43m \u001b[49m\u001b[38;5;129;43;01mor\u001b[39;49;00m\u001b[43m \u001b[49m\u001b[43mt\u001b[49m\u001b[38;5;241;43m.\u001b[39;49m\u001b[43mis_complex\u001b[49m\u001b[43m(\u001b[49m\u001b[43m)\u001b[49m\u001b[43m \u001b[49m\u001b[38;5;28;43;01melse\u001b[39;49;00m\u001b[43m \u001b[49m\u001b[38;5;28;43;01mNone\u001b[39;49;00m\u001b[43m,\u001b[49m\u001b[43m \u001b[49m\u001b[43mnon_blocking\u001b[49m\u001b[43m)\u001b[49m\n",
      "File \u001b[0;32m/opt/conda/envs/python3/lib/python3.9/site-packages/torch/cuda/__init__.py:214\u001b[0m, in \u001b[0;36m_lazy_init\u001b[0;34m()\u001b[0m\n\u001b[1;32m    210\u001b[0m     \u001b[38;5;28;01mraise\u001b[39;00m \u001b[38;5;167;01mAssertionError\u001b[39;00m(\n\u001b[1;32m    211\u001b[0m         \u001b[38;5;124m\"\u001b[39m\u001b[38;5;124mlibcudart functions unavailable. It looks like you have a broken build?\u001b[39m\u001b[38;5;124m\"\u001b[39m)\n\u001b[1;32m    212\u001b[0m \u001b[38;5;66;03m# This function throws if there's a driver initialization error, no GPUs\u001b[39;00m\n\u001b[1;32m    213\u001b[0m \u001b[38;5;66;03m# are found or any other error occurs\u001b[39;00m\n\u001b[0;32m--> 214\u001b[0m \u001b[43mtorch\u001b[49m\u001b[38;5;241;43m.\u001b[39;49m\u001b[43m_C\u001b[49m\u001b[38;5;241;43m.\u001b[39;49m\u001b[43m_cuda_init\u001b[49m\u001b[43m(\u001b[49m\u001b[43m)\u001b[49m\n\u001b[1;32m    215\u001b[0m \u001b[38;5;66;03m# Some of the queued calls may reentrantly call _lazy_init();\u001b[39;00m\n\u001b[1;32m    216\u001b[0m \u001b[38;5;66;03m# we need to just return without initializing in that case.\u001b[39;00m\n\u001b[1;32m    217\u001b[0m \u001b[38;5;66;03m# However, we must not let any *other* threads in!\u001b[39;00m\n\u001b[1;32m    218\u001b[0m _tls\u001b[38;5;241m.\u001b[39mis_initializing \u001b[38;5;241m=\u001b[39m \u001b[38;5;28;01mTrue\u001b[39;00m\n",
      "\u001b[0;31mRuntimeError\u001b[0m: Found no NVIDIA driver on your system. Please check that you have an NVIDIA GPU and installed a driver from http://www.nvidia.com/Download/index.aspx"
     ]
    }
   ],
   "source": [
    "# ¡Atención! La ejecución de BERT para miles de textos puede llevar mucho tiempo en la CPU, al menos varias horas\n",
    "train_features_9 = BERT_text_to_embeddings(df_reviews_train['review_norm'], force_device='cuda')"
   ]
  },
  {
   "cell_type": "code",
   "execution_count": null,
   "metadata": {},
   "outputs": [],
   "source": [
    "print(df_reviews_train['review_norm'].shape)\n",
    "print(train_features_9.shape)\n",
    "print(train_target.shape)"
   ]
  },
  {
   "cell_type": "code",
   "execution_count": null,
   "metadata": {},
   "outputs": [],
   "source": [
    "# si ya obtuviste los insertados, te recomendamos guardarlos para tenerlos listos si\n",
    "# np.savez_compressed('features_9.npz', train_features_9=train_features_9, test_features_9=test_features_9)\n",
    "\n",
    "# y cargar...\n",
    "# with np.load('features_9.npz') as data:\n",
    "#     train_features_9 = data['train_features_9']\n",
    "#     test_features_9 = data['test_features_9']"
   ]
  },
  {
   "cell_type": "markdown",
   "metadata": {},
   "source": [
    "## Mis reseñas"
   ]
  },
  {
   "cell_type": "code",
   "execution_count": 44,
   "metadata": {},
   "outputs": [
    {
     "data": {
      "text/html": [
       "<div>\n",
       "<style scoped>\n",
       "    .dataframe tbody tr th:only-of-type {\n",
       "        vertical-align: middle;\n",
       "    }\n",
       "\n",
       "    .dataframe tbody tr th {\n",
       "        vertical-align: top;\n",
       "    }\n",
       "\n",
       "    .dataframe thead th {\n",
       "        text-align: right;\n",
       "    }\n",
       "</style>\n",
       "<table border=\"1\" class=\"dataframe\">\n",
       "  <thead>\n",
       "    <tr style=\"text-align: right;\">\n",
       "      <th></th>\n",
       "      <th>review</th>\n",
       "      <th>review_norm</th>\n",
       "    </tr>\n",
       "  </thead>\n",
       "  <tbody>\n",
       "    <tr>\n",
       "      <th>0</th>\n",
       "      <td>I did not simply like it, not my kind of movie.</td>\n",
       "      <td>simply like kind movie</td>\n",
       "    </tr>\n",
       "    <tr>\n",
       "      <th>1</th>\n",
       "      <td>Well, I was bored and felt asleep in the middl...</td>\n",
       "      <td>well bored felt asleep middle movie</td>\n",
       "    </tr>\n",
       "    <tr>\n",
       "      <th>2</th>\n",
       "      <td>I was really fascinated with the movie</td>\n",
       "      <td>really fascinated movie</td>\n",
       "    </tr>\n",
       "    <tr>\n",
       "      <th>3</th>\n",
       "      <td>Even the actors looked really old and disinter...</td>\n",
       "      <td>even actors looked really old disinterested go...</td>\n",
       "    </tr>\n",
       "    <tr>\n",
       "      <th>4</th>\n",
       "      <td>I didn't expect the reboot to be so good! Writ...</td>\n",
       "      <td>didnt expect reboot good writers really cared ...</td>\n",
       "    </tr>\n",
       "    <tr>\n",
       "      <th>5</th>\n",
       "      <td>The movie had its upsides and downsides, but I...</td>\n",
       "      <td>movie upsides downsides feel like overall dece...</td>\n",
       "    </tr>\n",
       "    <tr>\n",
       "      <th>6</th>\n",
       "      <td>What a rotten attempt at a comedy. Not a singl...</td>\n",
       "      <td>rotten attempt comedy single joke lands everyo...</td>\n",
       "    </tr>\n",
       "    <tr>\n",
       "      <th>7</th>\n",
       "      <td>Launching on Netflix was a brave move &amp; I real...</td>\n",
       "      <td>launching netflix brave move really appreciate...</td>\n",
       "    </tr>\n",
       "  </tbody>\n",
       "</table>\n",
       "</div>"
      ],
      "text/plain": [
       "                                              review  \\\n",
       "0    I did not simply like it, not my kind of movie.   \n",
       "1  Well, I was bored and felt asleep in the middl...   \n",
       "2             I was really fascinated with the movie   \n",
       "3  Even the actors looked really old and disinter...   \n",
       "4  I didn't expect the reboot to be so good! Writ...   \n",
       "5  The movie had its upsides and downsides, but I...   \n",
       "6  What a rotten attempt at a comedy. Not a singl...   \n",
       "7  Launching on Netflix was a brave move & I real...   \n",
       "\n",
       "                                         review_norm  \n",
       "0                             simply like kind movie  \n",
       "1                well bored felt asleep middle movie  \n",
       "2                            really fascinated movie  \n",
       "3  even actors looked really old disinterested go...  \n",
       "4  didnt expect reboot good writers really cared ...  \n",
       "5  movie upsides downsides feel like overall dece...  \n",
       "6  rotten attempt comedy single joke lands everyo...  \n",
       "7  launching netflix brave move really appreciate...  "
      ]
     },
     "execution_count": 44,
     "metadata": {},
     "output_type": "execute_result"
    }
   ],
   "source": [
    "# puedes eliminar por completo estas reseñas y probar tus modelos en tus propias reseñas; las que se muestran a continuación son solo ejemplos\n",
    "\n",
    "my_reviews = pd.DataFrame([\n",
    "    'I did not simply like it, not my kind of movie.',\n",
    "    'Well, I was bored and felt asleep in the middle of the movie.',\n",
    "    'I was really fascinated with the movie',    \n",
    "    'Even the actors looked really old and disinterested, and they got paid to be in the movie. What a soulless cash grab.',\n",
    "    'I didn\\'t expect the reboot to be so good! Writers really cared about the source material',\n",
    "    'The movie had its upsides and downsides, but I feel like overall it\\'s a decent flick. I could see myself going to see it again.',\n",
    "    'What a rotten attempt at a comedy. Not a single joke lands, everyone acts annoying and loud, even kids won\\'t like this!',\n",
    "    'Launching on Netflix was a brave move & I really appreciate being able to binge on episode after episode, of this exciting intelligent new drama.'\n",
    "], columns=['review'])\n",
    "\n",
    "\"\"\"\n",
    "my_reviews = pd.DataFrame([\n",
    "    'Simplemente no me gustó, no es mi tipo de película.',\n",
    "    'Bueno, estaba aburrido y me quedé dormido a media película.',\n",
    "    'Estaba realmente fascinada con la película',    \n",
    "    'Hasta los actores parecían muy viejos y desinteresados, y les pagaron por estar en la película. Qué robo tan desalmado.',\n",
    "    '¡No esperaba que el relanzamiento fuera tan bueno! Los escritores realmente se preocuparon por el material original',\n",
    "    'La película tuvo sus altibajos, pero siento que, en general, es una película decente. Sí la volvería a ver',\n",
    "    'Qué pésimo intento de comedia. Ni una sola broma tiene sentido, todos actúan de forma irritante y ruidosa, ¡ni siquiera a los niños les gustará esto!',\n",
    "    'Fue muy valiente el lanzamiento en Netflix y realmente aprecio poder seguir viendo episodio tras episodio de este nuevo drama tan emocionante e inteligente.'\n",
    "], columns=['review'])\n",
    "\"\"\"\n",
    "\n",
    "#Convertir a minúsculas \n",
    "my_reviews['review_norm'] = my_reviews['review'].str.lower() \n",
    "\n",
    "# Eliminar puntuación y caracteres especiales \n",
    "my_reviews['review_norm'] = my_reviews['review_norm'].apply(lambda x: re.sub(r'[^\\w\\s]', '', x)) \n",
    "\n",
    "# Eliminar palabras vacías (stop words) en inglés \n",
    "\n",
    "stop_words = set(nltk_stopwords.words('english'))\n",
    "\n",
    "my_reviews['review_norm'] = my_reviews['review_norm'].apply(lambda x: ' '.join([word for word in x.split() if word not in stop_words])) \n",
    "\n",
    "my_reviews"
   ]
  },
  {
   "cell_type": "markdown",
   "metadata": {},
   "source": [
    "<div class=\"alert alert-block alert-danger\">\n",
    "<b>Comentario del revisor (1ra Iteracion)</b> <a class=“tocSkip”></a>\n",
    "\n",
    "Hay una confusión en esta parte. Si de te das cuenta generaste nuevas reviews a las cuales debes aplicarle el proceso de normalización y luego utilizar los modelos **ya entrenados** para predecir la clase que le dan a las reviews. Aquí no se debe volver a entrenar un modelo sino probar los que ya entrenaste.\n",
    "</div>"
   ]
  },
  {
   "cell_type": "markdown",
   "metadata": {},
   "source": [
    "<div class=\"alert alert-block alert-info\">\n",
    "<b>He realizado el uso del modelo sin entrenarlo de nuevo, tento un error que no me deja avanzar y no localizo cual es, agradezco tu ayuda guiándome sobre este tema.\n",
    "</div>"
   ]
  },
  {
   "cell_type": "markdown",
   "metadata": {},
   "source": [
    "<div class=\"alert alert-block alert-danger\">\n",
    "<b>Comentario del revisor (2da Iteracion)</b> <a class=“tocSkip”></a>\n",
    "\n",
    "El problema es porque estás usando la función de evaluación, en esta sección debes utilizar los modelos para **predecir** los labels de cada review y que puedas comprobar el funcionamiento de tus modelos.\n",
    "    \n",
    "**No** debes entrenar **ni** evaluar en esta sección solo debes realizar las predicciones\n",
    "</div>"
   ]
  },
  {
   "cell_type": "markdown",
   "metadata": {},
   "source": [
    "### Modelo 1"
   ]
  },
  {
   "cell_type": "code",
   "execution_count": 45,
   "metadata": {
    "scrolled": false
   },
   "outputs": [
    {
     "name": "stdout",
     "output_type": "stream",
     "text": [
      "Tiempo de lematizacion:  0.0\n"
     ]
    }
   ],
   "source": [
    "# Normalizar las reseñas\n",
    "norm = []\n",
    "start_time = time.time()\n",
    "for x in range(len(my_reviews)):\n",
    "    norm.append(word_lemmatize(clear_text(my_reviews.loc[x, 'review'])))\n",
    "end_time = time.time()\n",
    "print('Tiempo de lematizacion: ', round(end_time - start_time, 2))\n",
    "\n",
    "my_reviews['review_norm'] = norm\n",
    "\n",
    "\n",
    "\n"
   ]
  },
  {
   "cell_type": "code",
   "execution_count": 46,
   "metadata": {
    "scrolled": true
   },
   "outputs": [
    {
     "name": "stderr",
     "output_type": "stream",
     "text": [
      "[nltk_data] Downloading package stopwords to /home/jovyan/nltk_data...\n",
      "[nltk_data]   Package stopwords is already up-to-date!\n"
     ]
    },
    {
     "data": {
      "text/html": [
       "<div>\n",
       "<style scoped>\n",
       "    .dataframe tbody tr th:only-of-type {\n",
       "        vertical-align: middle;\n",
       "    }\n",
       "\n",
       "    .dataframe tbody tr th {\n",
       "        vertical-align: top;\n",
       "    }\n",
       "\n",
       "    .dataframe thead th {\n",
       "        text-align: right;\n",
       "    }\n",
       "</style>\n",
       "<table border=\"1\" class=\"dataframe\">\n",
       "  <thead>\n",
       "    <tr style=\"text-align: right;\">\n",
       "      <th></th>\n",
       "      <th>review</th>\n",
       "      <th>review_norm</th>\n",
       "      <th>predicted_label</th>\n",
       "    </tr>\n",
       "  </thead>\n",
       "  <tbody>\n",
       "    <tr>\n",
       "      <th>0</th>\n",
       "      <td>I did not simply like it, not my kind of movie.</td>\n",
       "      <td>i did not simply like it not my kind of movie</td>\n",
       "      <td>0</td>\n",
       "    </tr>\n",
       "    <tr>\n",
       "      <th>1</th>\n",
       "      <td>Well, I was bored and felt asleep in the middl...</td>\n",
       "      <td>well i was bored and felt asleep in the middle...</td>\n",
       "      <td>0</td>\n",
       "    </tr>\n",
       "    <tr>\n",
       "      <th>2</th>\n",
       "      <td>I was really fascinated with the movie</td>\n",
       "      <td>i was really fascinated with the movie</td>\n",
       "      <td>1</td>\n",
       "    </tr>\n",
       "    <tr>\n",
       "      <th>3</th>\n",
       "      <td>Even the actors looked really old and disinter...</td>\n",
       "      <td>even the actors looked really old and disinter...</td>\n",
       "      <td>0</td>\n",
       "    </tr>\n",
       "    <tr>\n",
       "      <th>4</th>\n",
       "      <td>I didn't expect the reboot to be so good! Writ...</td>\n",
       "      <td>i did n't expect the reboot to be so good writ...</td>\n",
       "      <td>0</td>\n",
       "    </tr>\n",
       "    <tr>\n",
       "      <th>5</th>\n",
       "      <td>The movie had its upsides and downsides, but I...</td>\n",
       "      <td>the movie had its upsides and downsides but i ...</td>\n",
       "      <td>0</td>\n",
       "    </tr>\n",
       "    <tr>\n",
       "      <th>6</th>\n",
       "      <td>What a rotten attempt at a comedy. Not a singl...</td>\n",
       "      <td>what a rotten attempt at a comedy not a single...</td>\n",
       "      <td>0</td>\n",
       "    </tr>\n",
       "    <tr>\n",
       "      <th>7</th>\n",
       "      <td>Launching on Netflix was a brave move &amp; I real...</td>\n",
       "      <td>launching on netflix was a brave move i really...</td>\n",
       "      <td>1</td>\n",
       "    </tr>\n",
       "  </tbody>\n",
       "</table>\n",
       "</div>"
      ],
      "text/plain": [
       "                                              review  \\\n",
       "0    I did not simply like it, not my kind of movie.   \n",
       "1  Well, I was bored and felt asleep in the middl...   \n",
       "2             I was really fascinated with the movie   \n",
       "3  Even the actors looked really old and disinter...   \n",
       "4  I didn't expect the reboot to be so good! Writ...   \n",
       "5  The movie had its upsides and downsides, but I...   \n",
       "6  What a rotten attempt at a comedy. Not a singl...   \n",
       "7  Launching on Netflix was a brave move & I real...   \n",
       "\n",
       "                                         review_norm  predicted_label  \n",
       "0      i did not simply like it not my kind of movie                0  \n",
       "1  well i was bored and felt asleep in the middle...                0  \n",
       "2             i was really fascinated with the movie                1  \n",
       "3  even the actors looked really old and disinter...                0  \n",
       "4  i did n't expect the reboot to be so good writ...                0  \n",
       "5  the movie had its upsides and downsides but i ...                0  \n",
       "6  what a rotten attempt at a comedy not a single...                0  \n",
       "7  launching on netflix was a brave move i really...                1  "
      ]
     },
     "execution_count": 46,
     "metadata": {},
     "output_type": "execute_result"
    }
   ],
   "source": [
    "# Cargar el modelo entrenado y el vectorizador TF-IDF \n",
    "model_1 = joblib.load('logistic_regression_model.pkl') \n",
    "tfidf = joblib.load('tfidf_vectorizer.pkl')\n",
    "\n",
    "# Asegurarse de descargar las stopwords\n",
    "nltk.download('stopwords')\n",
    "\n",
    "# Transformar la nueva reseña usando el TF-IDF ajustado\n",
    "my_review_tfidf = tfidf.transform(my_reviews['review_norm'])\n",
    "\n",
    "# Predecir la clase de la nueva reseña\n",
    "prediction = model_1.predict(my_review_tfidf)\n",
    "\n",
    "# Mostrar el resultado\n",
    "my_reviews['predicted_label'] = prediction\n",
    "my_reviews\n"
   ]
  },
  {
   "cell_type": "markdown",
   "metadata": {},
   "source": [
    "Luego de realizar las predcciones con el modelo 1 que se tomó como ejemplo, se puede observar que el código es funcional, pero podría mejorarse, ha dejado pasar algunas palabras clave que cambian el sentido de la reseña de negativa a positiva, pero para el fin del ejercicio se ha logrado el objetivo que era predecir la etiqueta de cada una de las reseñas."
   ]
  },
  {
   "cell_type": "markdown",
   "metadata": {},
   "source": [
    "## Conclusiones"
   ]
  },
  {
   "cell_type": "markdown",
   "metadata": {},
   "source": [
    "* Se observa que la lematizacion es mucho mas rapida para la libreria NLTK si la comparamos con spaCy.\n",
    "\n",
    "Al realizar el entrenamiento y el modelado de datos, obtuvimos los siguientes resultados de puntuacion F1:\n",
    "- NLTK: 0.88\n",
    "- spaCy: 0.87\n",
    "- spaCy LGBM: 0.85\n",
    "\n",
    "Cumpliendo el objetivo del proyecto de 0.85 de puntuacion F1, sin embargo, podemos decir que la estructura para realizar la classificacion de reseñas es mas rapida y mas efectiva con la libreria NLTK, al ser mas rapida la lematizacion y al tener una puntuacion mas alta de 0.88.\n",
    "\n",
    "* Durante este proyecto NO se ha usado el modelo BERT debido a la carga alta de CPU que conllevaria correr el codigo, de hecho se ha intentado y se hace una validacion que indica que la tarjeta NVIDIA no se ha encontrado.\n",
    "\n",
    "* Generando las predicciones con el modelo 1 como muestra, se puede evidenciar que el modelo está funcionando de forma correcta al haber calificado las reseñas como buenas (1) o malas (0).\n"
   ]
  },
  {
   "cell_type": "markdown",
   "metadata": {},
   "source": [
    "<div class=\"alert alert-block alert-success\">\n",
    "<b>Comentario del revisor (3ra Iteracion)</b> <a class=“tocSkip”></a>\n",
    "\n",
    "Buen trabajo con los cambios y la prueba del modelo! Adquiriste un importante skill para poder trabajar texto con modelos de ML y realizar las predicciones necesarias sobre los mismos, si bien hay modelos que necesitan de muchos más recursos también puedes probar otras alternativas que te deja una buen gama de opciones a utilizar en otros proyectos. Saludos!\n",
    "</div>"
   ]
  },
  {
   "cell_type": "markdown",
   "metadata": {},
   "source": [
    "# Lista de comprobación"
   ]
  },
  {
   "cell_type": "markdown",
   "metadata": {},
   "source": [
    "- [x]  Abriste el notebook\n",
    "- [ ]  Cargaste y preprocesaste los datos de texto para su vectorización\n",
    "- [ ]  Transformaste los datos de texto en vectores\n",
    "- [ ]  Entrenaste y probaste los modelos\n",
    "- [ ]  Se alcanzó el umbral de la métrica\n",
    "- [ ]  Colocaste todas las celdas de código en el orden de su ejecución\n",
    "- [ ]  Puedes ejecutar sin errores todas las celdas de código \n",
    "- [ ]  Hay conclusiones "
   ]
  },
  {
   "cell_type": "code",
   "execution_count": null,
   "metadata": {},
   "outputs": [],
   "source": []
  }
 ],
 "metadata": {
  "ExecuteTimeLog": [
   {
    "duration": 2534,
    "start_time": "2024-10-26T17:26:11.544Z"
   },
   {
    "duration": 7,
    "start_time": "2024-10-26T17:46:20.065Z"
   },
   {
    "duration": 3,
    "start_time": "2024-10-26T17:46:31.668Z"
   },
   {
    "duration": 690,
    "start_time": "2024-10-26T17:46:38.295Z"
   },
   {
    "duration": 21,
    "start_time": "2024-10-26T17:47:03.726Z"
   },
   {
    "duration": 26,
    "start_time": "2024-10-26T17:49:08.233Z"
   },
   {
    "duration": 151,
    "start_time": "2024-10-26T17:49:44.926Z"
   },
   {
    "duration": 150,
    "start_time": "2024-10-26T17:49:51.821Z"
   },
   {
    "duration": 143,
    "start_time": "2024-10-26T17:50:02.866Z"
   },
   {
    "duration": 263,
    "start_time": "2024-10-26T17:52:11.775Z"
   },
   {
    "duration": 4,
    "start_time": "2024-10-26T17:52:22.344Z"
   },
   {
    "duration": 2850,
    "start_time": "2024-10-26T17:54:26.448Z"
   },
   {
    "duration": 660,
    "start_time": "2024-10-26T17:55:01.667Z"
   },
   {
    "duration": 5,
    "start_time": "2024-10-26T17:58:23.446Z"
   },
   {
    "duration": 325,
    "start_time": "2024-10-26T17:58:33.786Z"
   },
   {
    "duration": 285,
    "start_time": "2024-10-26T20:14:43.643Z"
   },
   {
    "duration": 2898,
    "start_time": "2024-10-26T20:15:00.478Z"
   },
   {
    "duration": 14,
    "start_time": "2024-10-26T20:15:03.379Z"
   },
   {
    "duration": 3,
    "start_time": "2024-10-26T20:15:03.396Z"
   },
   {
    "duration": 940,
    "start_time": "2024-10-26T20:15:03.402Z"
   },
   {
    "duration": 27,
    "start_time": "2024-10-26T20:15:04.347Z"
   },
   {
    "duration": 36,
    "start_time": "2024-10-26T20:15:04.376Z"
   },
   {
    "duration": 188,
    "start_time": "2024-10-26T20:15:04.415Z"
   },
   {
    "duration": 5,
    "start_time": "2024-10-26T20:15:04.605Z"
   },
   {
    "duration": 3682,
    "start_time": "2024-10-26T20:15:04.612Z"
   },
   {
    "duration": 707,
    "start_time": "2024-10-26T20:15:08.296Z"
   },
   {
    "duration": 9,
    "start_time": "2024-10-26T20:15:09.007Z"
   },
   {
    "duration": 366,
    "start_time": "2024-10-26T20:15:09.021Z"
   },
   {
    "duration": 4732,
    "start_time": "2024-10-26T20:15:09.392Z"
   },
   {
    "duration": 196,
    "start_time": "2024-10-26T20:15:14.131Z"
   },
   {
    "duration": 4,
    "start_time": "2024-10-26T20:15:14.329Z"
   },
   {
    "duration": 37,
    "start_time": "2024-10-26T20:15:14.334Z"
   },
   {
    "duration": 5,
    "start_time": "2024-10-26T20:15:14.378Z"
   },
   {
    "duration": 173,
    "start_time": "2024-10-26T20:15:14.388Z"
   },
   {
    "duration": 190,
    "start_time": "2024-10-26T20:15:14.566Z"
   },
   {
    "duration": 0,
    "start_time": "2024-10-26T20:15:14.762Z"
   },
   {
    "duration": 0,
    "start_time": "2024-10-26T20:15:14.767Z"
   },
   {
    "duration": 0,
    "start_time": "2024-10-26T20:15:14.772Z"
   },
   {
    "duration": 0,
    "start_time": "2024-10-26T20:15:14.776Z"
   },
   {
    "duration": 0,
    "start_time": "2024-10-26T20:15:14.778Z"
   },
   {
    "duration": 0,
    "start_time": "2024-10-26T20:15:14.780Z"
   },
   {
    "duration": 0,
    "start_time": "2024-10-26T20:15:14.784Z"
   },
   {
    "duration": 0,
    "start_time": "2024-10-26T20:15:14.785Z"
   },
   {
    "duration": 0,
    "start_time": "2024-10-26T20:15:14.786Z"
   },
   {
    "duration": 0,
    "start_time": "2024-10-26T20:15:14.790Z"
   },
   {
    "duration": 0,
    "start_time": "2024-10-26T20:15:14.791Z"
   },
   {
    "duration": 0,
    "start_time": "2024-10-26T20:15:14.794Z"
   },
   {
    "duration": 0,
    "start_time": "2024-10-26T20:15:14.796Z"
   },
   {
    "duration": 0,
    "start_time": "2024-10-26T20:15:14.800Z"
   },
   {
    "duration": 3,
    "start_time": "2024-10-26T20:15:24.831Z"
   },
   {
    "duration": 7,
    "start_time": "2024-10-26T20:16:37.941Z"
   },
   {
    "duration": 29,
    "start_time": "2024-10-26T20:16:49.033Z"
   },
   {
    "duration": 8,
    "start_time": "2024-10-26T20:17:16.879Z"
   },
   {
    "duration": 5,
    "start_time": "2024-10-26T20:17:25.657Z"
   },
   {
    "duration": 10,
    "start_time": "2024-10-26T20:17:30.109Z"
   },
   {
    "duration": 415,
    "start_time": "2024-10-26T20:19:20.966Z"
   },
   {
    "duration": 8,
    "start_time": "2024-10-26T20:22:36.443Z"
   },
   {
    "duration": 311,
    "start_time": "2024-10-26T20:23:54.481Z"
   },
   {
    "duration": 1327,
    "start_time": "2024-10-26T20:24:05.118Z"
   },
   {
    "duration": 10,
    "start_time": "2024-10-26T20:24:06.453Z"
   },
   {
    "duration": 4,
    "start_time": "2024-10-26T20:24:06.473Z"
   },
   {
    "duration": 1236,
    "start_time": "2024-10-26T20:24:06.484Z"
   },
   {
    "duration": 48,
    "start_time": "2024-10-26T20:24:07.733Z"
   },
   {
    "duration": 52,
    "start_time": "2024-10-26T20:24:07.787Z"
   },
   {
    "duration": 210,
    "start_time": "2024-10-26T20:24:07.845Z"
   },
   {
    "duration": 8,
    "start_time": "2024-10-26T20:24:08.061Z"
   },
   {
    "duration": 5057,
    "start_time": "2024-10-26T20:24:08.075Z"
   },
   {
    "duration": 830,
    "start_time": "2024-10-26T20:24:13.134Z"
   },
   {
    "duration": 31,
    "start_time": "2024-10-26T20:24:13.973Z"
   },
   {
    "duration": 406,
    "start_time": "2024-10-26T20:24:14.013Z"
   },
   {
    "duration": 4770,
    "start_time": "2024-10-26T20:24:14.430Z"
   },
   {
    "duration": 207,
    "start_time": "2024-10-26T20:24:19.211Z"
   },
   {
    "duration": 160,
    "start_time": "2024-10-26T20:36:06.516Z"
   },
   {
    "duration": 1050,
    "start_time": "2024-10-26T20:36:11.242Z"
   },
   {
    "duration": 6,
    "start_time": "2024-10-26T20:36:12.294Z"
   },
   {
    "duration": 4,
    "start_time": "2024-10-26T20:36:12.302Z"
   },
   {
    "duration": 738,
    "start_time": "2024-10-26T20:36:12.308Z"
   },
   {
    "duration": 25,
    "start_time": "2024-10-26T20:36:13.048Z"
   },
   {
    "duration": 25,
    "start_time": "2024-10-26T20:36:13.076Z"
   },
   {
    "duration": 182,
    "start_time": "2024-10-26T20:36:13.103Z"
   },
   {
    "duration": 5,
    "start_time": "2024-10-26T20:36:13.286Z"
   },
   {
    "duration": 3288,
    "start_time": "2024-10-26T20:36:13.292Z"
   },
   {
    "duration": 637,
    "start_time": "2024-10-26T20:36:16.582Z"
   },
   {
    "duration": 5,
    "start_time": "2024-10-26T20:36:17.221Z"
   },
   {
    "duration": 319,
    "start_time": "2024-10-26T20:36:17.227Z"
   },
   {
    "duration": 3693,
    "start_time": "2024-10-26T20:36:17.548Z"
   },
   {
    "duration": 165,
    "start_time": "2024-10-26T20:36:21.245Z"
   },
   {
    "duration": 3,
    "start_time": "2024-10-26T20:36:21.412Z"
   },
   {
    "duration": 36,
    "start_time": "2024-10-26T20:36:21.416Z"
   },
   {
    "duration": 3,
    "start_time": "2024-10-26T20:36:21.455Z"
   },
   {
    "duration": 281,
    "start_time": "2024-10-26T20:36:21.460Z"
   },
   {
    "duration": 143,
    "start_time": "2024-10-26T20:36:21.743Z"
   },
   {
    "duration": 0,
    "start_time": "2024-10-26T20:36:21.889Z"
   },
   {
    "duration": 0,
    "start_time": "2024-10-26T20:36:21.890Z"
   },
   {
    "duration": 0,
    "start_time": "2024-10-26T20:36:21.892Z"
   },
   {
    "duration": 0,
    "start_time": "2024-10-26T20:36:21.894Z"
   },
   {
    "duration": 0,
    "start_time": "2024-10-26T20:36:21.894Z"
   },
   {
    "duration": 0,
    "start_time": "2024-10-26T20:36:21.896Z"
   },
   {
    "duration": 0,
    "start_time": "2024-10-26T20:36:21.900Z"
   },
   {
    "duration": 0,
    "start_time": "2024-10-26T20:36:21.901Z"
   },
   {
    "duration": 0,
    "start_time": "2024-10-26T20:36:21.901Z"
   },
   {
    "duration": 0,
    "start_time": "2024-10-26T20:36:21.902Z"
   },
   {
    "duration": 0,
    "start_time": "2024-10-26T20:36:21.903Z"
   },
   {
    "duration": 0,
    "start_time": "2024-10-26T20:36:21.903Z"
   },
   {
    "duration": 0,
    "start_time": "2024-10-26T20:36:21.904Z"
   },
   {
    "duration": 0,
    "start_time": "2024-10-26T20:36:21.905Z"
   },
   {
    "duration": 3,
    "start_time": "2024-10-26T20:38:07.587Z"
   },
   {
    "duration": 6,
    "start_time": "2024-10-26T20:38:14.388Z"
   },
   {
    "duration": 3,
    "start_time": "2024-10-26T20:38:19.672Z"
   },
   {
    "duration": 2,
    "start_time": "2024-10-26T20:38:31.383Z"
   },
   {
    "duration": 2,
    "start_time": "2024-10-26T20:38:51.543Z"
   },
   {
    "duration": 15,
    "start_time": "2024-10-26T20:39:06.243Z"
   },
   {
    "duration": 5,
    "start_time": "2024-10-26T20:40:08.262Z"
   },
   {
    "duration": 21,
    "start_time": "2024-10-26T20:40:17.418Z"
   },
   {
    "duration": 3,
    "start_time": "2024-10-26T20:40:22.172Z"
   },
   {
    "duration": 2,
    "start_time": "2024-10-26T20:40:23.912Z"
   },
   {
    "duration": 22,
    "start_time": "2024-10-26T20:40:25.784Z"
   },
   {
    "duration": 3,
    "start_time": "2024-10-26T20:41:19.753Z"
   },
   {
    "duration": 22,
    "start_time": "2024-10-26T20:41:25.622Z"
   },
   {
    "duration": 3,
    "start_time": "2024-10-26T20:41:59.512Z"
   },
   {
    "duration": 3,
    "start_time": "2024-10-26T20:42:04.640Z"
   },
   {
    "duration": 30763,
    "start_time": "2024-10-26T20:42:06.540Z"
   },
   {
    "duration": 3,
    "start_time": "2024-10-26T20:42:37.305Z"
   },
   {
    "duration": 18,
    "start_time": "2024-10-26T20:43:18.856Z"
   },
   {
    "duration": 9,
    "start_time": "2024-10-26T20:44:03.209Z"
   },
   {
    "duration": 25,
    "start_time": "2024-10-26T20:44:20.410Z"
   },
   {
    "duration": 4159,
    "start_time": "2024-10-26T20:44:36.087Z"
   },
   {
    "duration": 2180,
    "start_time": "2024-10-26T20:44:56.566Z"
   },
   {
    "duration": 16,
    "start_time": "2024-10-26T20:45:02.951Z"
   },
   {
    "duration": 588,
    "start_time": "2024-10-26T20:45:30.655Z"
   },
   {
    "duration": 2336,
    "start_time": "2024-10-26T20:56:32.972Z"
   },
   {
    "duration": 2,
    "start_time": "2024-10-26T20:56:37.640Z"
   },
   {
    "duration": 3,
    "start_time": "2024-10-26T20:57:34.551Z"
   },
   {
    "duration": 6,
    "start_time": "2024-10-26T20:57:38.613Z"
   },
   {
    "duration": 3,
    "start_time": "2024-10-26T20:57:48.670Z"
   },
   {
    "duration": 445795,
    "start_time": "2024-10-26T20:57:58.292Z"
   },
   {
    "duration": 9,
    "start_time": "2024-10-26T21:05:24.090Z"
   },
   {
    "duration": 46,
    "start_time": "2024-10-26T21:05:24.100Z"
   },
   {
    "duration": 10,
    "start_time": "2024-10-26T21:09:14.997Z"
   },
   {
    "duration": 417,
    "start_time": "2024-10-26T21:09:33.910Z"
   },
   {
    "duration": 5784,
    "start_time": "2024-10-26T21:09:45.920Z"
   },
   {
    "duration": 6328,
    "start_time": "2024-10-26T21:10:00.232Z"
   },
   {
    "duration": 799,
    "start_time": "2024-10-26T21:10:12.505Z"
   },
   {
    "duration": 28,
    "start_time": "2024-10-26T21:11:56.425Z"
   },
   {
    "duration": 2,
    "start_time": "2024-10-26T21:12:58.873Z"
   },
   {
    "duration": 42167,
    "start_time": "2024-10-26T21:12:58.876Z"
   },
   {
    "duration": 1513,
    "start_time": "2024-10-26T21:13:41.062Z"
   },
   {
    "duration": 219,
    "start_time": "2024-10-26T21:15:03.669Z"
   },
   {
    "duration": 1590,
    "start_time": "2024-10-26T21:15:09.589Z"
   },
   {
    "duration": 10,
    "start_time": "2024-10-26T21:16:16.110Z"
   },
   {
    "duration": 305,
    "start_time": "2024-10-26T21:16:38.567Z"
   },
   {
    "duration": 27,
    "start_time": "2024-10-26T21:16:48.661Z"
   },
   {
    "duration": 37,
    "start_time": "2024-10-26T21:16:56.806Z"
   },
   {
    "duration": 22,
    "start_time": "2024-10-26T21:17:00.981Z"
   },
   {
    "duration": 605,
    "start_time": "2024-11-04T04:09:55.129Z"
   },
   {
    "duration": 201,
    "start_time": "2024-11-04T04:09:57.952Z"
   },
   {
    "duration": 2095,
    "start_time": "2024-11-04T04:10:26.373Z"
   },
   {
    "duration": 7,
    "start_time": "2024-11-04T04:10:30.248Z"
   },
   {
    "duration": 4,
    "start_time": "2024-11-04T04:10:33.332Z"
   },
   {
    "duration": 693,
    "start_time": "2024-11-04T04:10:37.728Z"
   },
   {
    "duration": 21,
    "start_time": "2024-11-04T04:10:39.913Z"
   },
   {
    "duration": 27,
    "start_time": "2024-11-04T04:10:45.982Z"
   },
   {
    "duration": 161,
    "start_time": "2024-11-04T04:10:49.106Z"
   },
   {
    "duration": 5,
    "start_time": "2024-11-04T04:10:50.728Z"
   },
   {
    "duration": 2866,
    "start_time": "2024-11-04T04:10:54.465Z"
   },
   {
    "duration": 643,
    "start_time": "2024-11-04T04:11:01.053Z"
   },
   {
    "duration": 5,
    "start_time": "2024-11-04T04:11:05.107Z"
   },
   {
    "duration": 271,
    "start_time": "2024-11-04T04:11:09.859Z"
   },
   {
    "duration": 3786,
    "start_time": "2024-11-04T04:11:13.508Z"
   },
   {
    "duration": 11,
    "start_time": "2024-11-04T04:11:24.924Z"
   },
   {
    "duration": 4,
    "start_time": "2024-11-04T04:11:32.154Z"
   },
   {
    "duration": 23,
    "start_time": "2024-11-04T04:11:42.817Z"
   },
   {
    "duration": 3,
    "start_time": "2024-11-04T04:11:45.637Z"
   },
   {
    "duration": 61,
    "start_time": "2024-11-04T04:11:50.319Z"
   },
   {
    "duration": 2,
    "start_time": "2024-11-04T04:12:27.657Z"
   },
   {
    "duration": 144,
    "start_time": "2024-11-04T04:13:34.218Z"
   },
   {
    "duration": 15,
    "start_time": "2024-11-04T04:13:37.926Z"
   },
   {
    "duration": 5,
    "start_time": "2024-11-04T04:35:43.187Z"
   },
   {
    "duration": 11,
    "start_time": "2024-11-04T05:00:46.616Z"
   },
   {
    "duration": 6,
    "start_time": "2024-11-04T05:01:48.547Z"
   },
   {
    "duration": 621,
    "start_time": "2024-11-04T05:02:50.144Z"
   },
   {
    "duration": 23,
    "start_time": "2024-11-04T05:02:51.905Z"
   },
   {
    "duration": 20,
    "start_time": "2024-11-04T05:03:10.605Z"
   },
   {
    "duration": 5,
    "start_time": "2024-11-04T05:03:32.051Z"
   },
   {
    "duration": 6,
    "start_time": "2024-11-04T05:03:36.972Z"
   },
   {
    "duration": 16,
    "start_time": "2024-11-04T05:03:43.723Z"
   },
   {
    "duration": 5,
    "start_time": "2024-11-04T05:03:49.739Z"
   },
   {
    "duration": 17,
    "start_time": "2024-11-04T05:04:03.596Z"
   },
   {
    "duration": 15,
    "start_time": "2024-11-04T05:04:08.427Z"
   },
   {
    "duration": 13,
    "start_time": "2024-11-04T05:04:16.365Z"
   },
   {
    "duration": 16,
    "start_time": "2024-11-04T05:04:19.906Z"
   },
   {
    "duration": 4702,
    "start_time": "2024-11-04T05:05:03.490Z"
   },
   {
    "duration": 4753,
    "start_time": "2024-11-04T05:05:40.016Z"
   },
   {
    "duration": 10,
    "start_time": "2024-11-04T05:05:47.858Z"
   },
   {
    "duration": 8,
    "start_time": "2024-11-04T05:09:57.567Z"
   },
   {
    "duration": 17,
    "start_time": "2024-11-04T05:10:01.863Z"
   },
   {
    "duration": 16,
    "start_time": "2024-11-04T05:10:17.963Z"
   },
   {
    "duration": 15,
    "start_time": "2024-11-04T05:10:25.283Z"
   },
   {
    "duration": 3,
    "start_time": "2024-11-04T05:10:53.407Z"
   },
   {
    "duration": 7,
    "start_time": "2024-11-04T05:10:53.412Z"
   },
   {
    "duration": 3,
    "start_time": "2024-11-04T05:10:53.420Z"
   },
   {
    "duration": 605,
    "start_time": "2024-11-04T05:10:53.426Z"
   },
   {
    "duration": 25,
    "start_time": "2024-11-04T05:10:54.033Z"
   },
   {
    "duration": 27,
    "start_time": "2024-11-04T05:10:54.060Z"
   },
   {
    "duration": 167,
    "start_time": "2024-11-04T05:10:54.089Z"
   },
   {
    "duration": 5,
    "start_time": "2024-11-04T05:10:54.258Z"
   },
   {
    "duration": 2828,
    "start_time": "2024-11-04T05:10:54.266Z"
   },
   {
    "duration": 873,
    "start_time": "2024-11-04T05:10:57.096Z"
   },
   {
    "duration": 6,
    "start_time": "2024-11-04T05:10:57.970Z"
   },
   {
    "duration": 353,
    "start_time": "2024-11-04T05:10:57.977Z"
   },
   {
    "duration": 3734,
    "start_time": "2024-11-04T05:10:58.333Z"
   },
   {
    "duration": 12,
    "start_time": "2024-11-04T05:11:02.069Z"
   },
   {
    "duration": 4,
    "start_time": "2024-11-04T05:11:02.083Z"
   },
   {
    "duration": 22,
    "start_time": "2024-11-04T05:11:02.088Z"
   },
   {
    "duration": 2,
    "start_time": "2024-11-04T05:11:02.112Z"
   },
   {
    "duration": 4811,
    "start_time": "2024-11-04T05:11:02.142Z"
   },
   {
    "duration": 8,
    "start_time": "2024-11-04T05:11:06.955Z"
   },
   {
    "duration": 143,
    "start_time": "2024-11-04T05:11:06.964Z"
   },
   {
    "duration": 4,
    "start_time": "2024-11-04T05:11:07.109Z"
   },
   {
    "duration": 3,
    "start_time": "2024-11-04T05:11:07.115Z"
   },
   {
    "duration": 3,
    "start_time": "2024-11-04T05:11:07.119Z"
   },
   {
    "duration": 30243,
    "start_time": "2024-11-04T05:11:07.143Z"
   },
   {
    "duration": 6,
    "start_time": "2024-11-04T05:11:37.388Z"
   },
   {
    "duration": 19,
    "start_time": "2024-11-04T05:11:37.396Z"
   },
   {
    "duration": 4064,
    "start_time": "2024-11-04T05:11:37.418Z"
   },
   {
    "duration": 3962,
    "start_time": "2024-11-04T05:11:41.484Z"
   },
   {
    "duration": 659,
    "start_time": "2024-11-04T05:11:45.451Z"
   },
   {
    "duration": 2504,
    "start_time": "2024-11-04T05:11:46.112Z"
   },
   {
    "duration": 3,
    "start_time": "2024-11-04T05:11:48.618Z"
   },
   {
    "duration": 450184,
    "start_time": "2024-11-04T05:11:48.623Z"
   },
   {
    "duration": 8,
    "start_time": "2024-11-04T05:19:18.809Z"
   },
   {
    "duration": 42,
    "start_time": "2024-11-04T05:19:18.819Z"
   },
   {
    "duration": 302,
    "start_time": "2024-11-04T05:19:18.864Z"
   },
   {
    "duration": 3786,
    "start_time": "2024-11-04T05:19:19.168Z"
   },
   {
    "duration": 4786,
    "start_time": "2024-11-04T05:19:22.958Z"
   },
   {
    "duration": 648,
    "start_time": "2024-11-04T05:19:27.746Z"
   },
   {
    "duration": 20,
    "start_time": "2024-11-04T05:19:28.395Z"
   },
   {
    "duration": 2,
    "start_time": "2024-11-04T05:19:28.418Z"
   },
   {
    "duration": 27953,
    "start_time": "2024-11-04T05:19:28.423Z"
   },
   {
    "duration": 1581,
    "start_time": "2024-11-04T05:19:56.378Z"
   },
   {
    "duration": 150,
    "start_time": "2024-11-04T05:19:57.961Z"
   },
   {
    "duration": 27284,
    "start_time": "2024-11-04T05:19:58.113Z"
   },
   {
    "duration": 6,
    "start_time": "2024-11-04T05:20:25.399Z"
   },
   {
    "duration": 464,
    "start_time": "2024-11-04T05:20:25.406Z"
   },
   {
    "duration": 0,
    "start_time": "2024-11-04T05:20:25.872Z"
   },
   {
    "duration": 0,
    "start_time": "2024-11-04T05:20:25.873Z"
   },
   {
    "duration": 0,
    "start_time": "2024-11-04T05:20:25.875Z"
   },
   {
    "duration": 0,
    "start_time": "2024-11-04T05:20:25.877Z"
   },
   {
    "duration": 0,
    "start_time": "2024-11-04T05:20:25.878Z"
   },
   {
    "duration": 0,
    "start_time": "2024-11-04T05:20:25.879Z"
   },
   {
    "duration": 0,
    "start_time": "2024-11-04T05:20:25.881Z"
   },
   {
    "duration": 8,
    "start_time": "2024-11-04T05:20:48.375Z"
   },
   {
    "duration": 22,
    "start_time": "2024-11-04T05:20:52.480Z"
   },
   {
    "duration": 20,
    "start_time": "2024-11-04T05:21:20.289Z"
   },
   {
    "duration": 30,
    "start_time": "2024-11-04T05:21:27.382Z"
   },
   {
    "duration": 44,
    "start_time": "2024-11-04T05:21:32.167Z"
   },
   {
    "duration": 22,
    "start_time": "2024-11-04T05:22:33.190Z"
   },
   {
    "duration": 21,
    "start_time": "2024-11-04T05:22:44.283Z"
   },
   {
    "duration": 5,
    "start_time": "2024-11-04T05:25:18.486Z"
   },
   {
    "duration": 4,
    "start_time": "2024-11-04T05:25:45.963Z"
   },
   {
    "duration": 19,
    "start_time": "2024-11-04T05:26:06.807Z"
   },
   {
    "duration": 3418,
    "start_time": "2024-11-04T05:26:21.144Z"
   },
   {
    "duration": 5,
    "start_time": "2024-11-04T05:26:39.987Z"
   },
   {
    "duration": 24,
    "start_time": "2024-11-04T05:27:01.787Z"
   },
   {
    "duration": 20,
    "start_time": "2024-11-04T05:27:43.883Z"
   },
   {
    "duration": 20,
    "start_time": "2024-11-04T05:28:14.465Z"
   },
   {
    "duration": 108,
    "start_time": "2024-11-04T05:33:04.941Z"
   },
   {
    "duration": 2595,
    "start_time": "2024-11-04T14:34:16.150Z"
   },
   {
    "duration": 7,
    "start_time": "2024-11-04T14:34:18.747Z"
   },
   {
    "duration": 3,
    "start_time": "2024-11-04T14:34:18.756Z"
   },
   {
    "duration": 666,
    "start_time": "2024-11-04T14:34:18.761Z"
   },
   {
    "duration": 21,
    "start_time": "2024-11-04T14:34:19.429Z"
   },
   {
    "duration": 26,
    "start_time": "2024-11-04T14:34:19.451Z"
   },
   {
    "duration": 174,
    "start_time": "2024-11-04T14:34:19.478Z"
   },
   {
    "duration": 4,
    "start_time": "2024-11-04T14:34:19.654Z"
   },
   {
    "duration": 2826,
    "start_time": "2024-11-04T14:34:19.659Z"
   },
   {
    "duration": 652,
    "start_time": "2024-11-04T14:34:22.486Z"
   },
   {
    "duration": 6,
    "start_time": "2024-11-04T14:34:23.140Z"
   },
   {
    "duration": 330,
    "start_time": "2024-11-04T14:34:23.148Z"
   },
   {
    "duration": 3683,
    "start_time": "2024-11-04T14:34:23.480Z"
   },
   {
    "duration": 146,
    "start_time": "2024-11-04T14:34:27.169Z"
   },
   {
    "duration": 3,
    "start_time": "2024-11-04T14:34:27.317Z"
   },
   {
    "duration": 24,
    "start_time": "2024-11-04T14:34:27.324Z"
   },
   {
    "duration": 12,
    "start_time": "2024-11-04T14:34:27.350Z"
   },
   {
    "duration": 4679,
    "start_time": "2024-11-04T14:34:27.364Z"
   },
   {
    "duration": 8,
    "start_time": "2024-11-04T14:34:32.045Z"
   },
   {
    "duration": 143,
    "start_time": "2024-11-04T14:34:32.055Z"
   },
   {
    "duration": 3,
    "start_time": "2024-11-04T14:34:32.200Z"
   },
   {
    "duration": 3,
    "start_time": "2024-11-04T14:34:32.205Z"
   },
   {
    "duration": 14,
    "start_time": "2024-11-04T14:34:32.210Z"
   },
   {
    "duration": 30011,
    "start_time": "2024-11-04T14:34:32.225Z"
   },
   {
    "duration": 8,
    "start_time": "2024-11-04T14:35:02.238Z"
   },
   {
    "duration": 22,
    "start_time": "2024-11-04T14:35:02.248Z"
   },
   {
    "duration": 4101,
    "start_time": "2024-11-04T14:35:02.272Z"
   },
   {
    "duration": 3164,
    "start_time": "2024-11-04T14:35:06.375Z"
   },
   {
    "duration": 695,
    "start_time": "2024-11-04T14:35:09.541Z"
   },
   {
    "duration": 2194,
    "start_time": "2024-11-04T14:35:10.238Z"
   },
   {
    "duration": 3,
    "start_time": "2024-11-04T14:35:12.434Z"
   },
   {
    "duration": 433123,
    "start_time": "2024-11-04T14:35:12.438Z"
   },
   {
    "duration": 9,
    "start_time": "2024-11-04T14:42:25.563Z"
   },
   {
    "duration": 27,
    "start_time": "2024-11-04T14:42:25.573Z"
   },
   {
    "duration": 303,
    "start_time": "2024-11-04T14:42:25.602Z"
   },
   {
    "duration": 3764,
    "start_time": "2024-11-04T14:42:25.907Z"
   },
   {
    "duration": 5665,
    "start_time": "2024-11-04T14:42:29.673Z"
   },
   {
    "duration": 674,
    "start_time": "2024-11-04T14:42:35.340Z"
   },
   {
    "duration": 21,
    "start_time": "2024-11-04T14:42:36.024Z"
   },
   {
    "duration": 2,
    "start_time": "2024-11-04T14:42:36.047Z"
   },
   {
    "duration": 28597,
    "start_time": "2024-11-04T14:42:36.054Z"
   },
   {
    "duration": 1315,
    "start_time": "2024-11-04T14:43:04.653Z"
   },
   {
    "duration": 378,
    "start_time": "2024-11-04T14:43:05.970Z"
   },
   {
    "duration": 1544,
    "start_time": "2024-11-04T14:43:06.350Z"
   },
   {
    "duration": 5,
    "start_time": "2024-11-04T14:43:07.896Z"
   },
   {
    "duration": 664,
    "start_time": "2024-11-04T14:43:07.902Z"
   },
   {
    "duration": 0,
    "start_time": "2024-11-04T14:43:08.568Z"
   },
   {
    "duration": 0,
    "start_time": "2024-11-04T14:43:08.570Z"
   },
   {
    "duration": 0,
    "start_time": "2024-11-04T14:43:08.571Z"
   },
   {
    "duration": 0,
    "start_time": "2024-11-04T14:43:08.573Z"
   },
   {
    "duration": 0,
    "start_time": "2024-11-04T14:43:08.574Z"
   },
   {
    "duration": 0,
    "start_time": "2024-11-04T14:43:08.576Z"
   },
   {
    "duration": 0,
    "start_time": "2024-11-04T14:43:08.577Z"
   },
   {
    "duration": 0,
    "start_time": "2024-11-04T14:43:08.579Z"
   },
   {
    "duration": 5,
    "start_time": "2024-11-04T14:50:58.385Z"
   },
   {
    "duration": 4,
    "start_time": "2024-11-04T14:51:27.639Z"
   },
   {
    "duration": 111,
    "start_time": "2024-11-04T14:52:01.033Z"
   },
   {
    "duration": 81,
    "start_time": "2024-11-04T14:53:49.771Z"
   },
   {
    "duration": 2,
    "start_time": "2024-11-04T14:56:58.609Z"
   },
   {
    "duration": 5,
    "start_time": "2024-11-04T14:57:03.120Z"
   },
   {
    "duration": 4,
    "start_time": "2024-11-04T14:57:11.713Z"
   },
   {
    "duration": 6,
    "start_time": "2024-11-04T15:00:19.312Z"
   },
   {
    "duration": 106,
    "start_time": "2024-11-04T15:00:29.660Z"
   },
   {
    "duration": 4,
    "start_time": "2024-11-04T15:01:01.289Z"
   },
   {
    "duration": 23,
    "start_time": "2024-11-04T15:01:07.301Z"
   },
   {
    "duration": 30,
    "start_time": "2024-11-04T15:06:22.212Z"
   },
   {
    "duration": 55,
    "start_time": "2024-11-04T15:06:36.561Z"
   },
   {
    "duration": 56,
    "start_time": "2024-11-04T15:07:03.519Z"
   },
   {
    "duration": 60,
    "start_time": "2024-11-04T15:07:40.260Z"
   },
   {
    "duration": 24,
    "start_time": "2024-11-04T15:20:15.296Z"
   },
   {
    "duration": 135,
    "start_time": "2024-11-04T15:20:48.156Z"
   },
   {
    "duration": 48,
    "start_time": "2024-11-04T15:21:23.750Z"
   },
   {
    "duration": 28,
    "start_time": "2024-11-04T15:21:42.977Z"
   },
   {
    "duration": 45,
    "start_time": "2024-11-04T15:21:59.688Z"
   },
   {
    "duration": 659,
    "start_time": "2024-11-04T15:30:24.611Z"
   },
   {
    "duration": 380,
    "start_time": "2024-11-04T15:34:20.974Z"
   },
   {
    "duration": 22,
    "start_time": "2024-11-04T15:35:30.197Z"
   },
   {
    "duration": 411,
    "start_time": "2024-11-04T15:37:25.570Z"
   },
   {
    "duration": 190,
    "start_time": "2024-11-04T15:39:54.184Z"
   },
   {
    "duration": 7,
    "start_time": "2024-11-04T15:42:17.339Z"
   },
   {
    "duration": 6,
    "start_time": "2024-11-04T15:42:44.469Z"
   },
   {
    "duration": 62,
    "start_time": "2024-11-04T15:52:54.353Z"
   },
   {
    "duration": 12,
    "start_time": "2024-11-04T15:56:34.862Z"
   },
   {
    "duration": 5,
    "start_time": "2024-11-04T15:59:09.500Z"
   },
   {
    "duration": 7,
    "start_time": "2024-11-04T15:59:24.797Z"
   },
   {
    "duration": 6,
    "start_time": "2024-11-04T15:59:28.217Z"
   },
   {
    "duration": 11,
    "start_time": "2024-11-04T16:00:48.145Z"
   },
   {
    "duration": 124,
    "start_time": "2024-11-04T16:00:56.009Z"
   },
   {
    "duration": 72,
    "start_time": "2024-11-04T16:09:07.788Z"
   },
   {
    "duration": 6,
    "start_time": "2024-11-04T16:09:23.259Z"
   },
   {
    "duration": 22,
    "start_time": "2024-11-04T16:35:19.952Z"
   },
   {
    "duration": 23,
    "start_time": "2024-11-04T16:39:05.575Z"
   },
   {
    "duration": 135,
    "start_time": "2024-11-04T16:40:03.356Z"
   },
   {
    "duration": 48,
    "start_time": "2024-11-04T16:40:23.067Z"
   },
   {
    "duration": 28,
    "start_time": "2024-11-04T16:40:57.347Z"
   },
   {
    "duration": 4,
    "start_time": "2024-11-04T16:41:14.263Z"
   },
   {
    "duration": 8,
    "start_time": "2024-11-04T16:41:24.113Z"
   },
   {
    "duration": 6,
    "start_time": "2024-11-04T16:41:55.267Z"
   },
   {
    "duration": 5,
    "start_time": "2024-11-04T16:42:52.361Z"
   },
   {
    "duration": 10,
    "start_time": "2024-11-04T16:42:57.088Z"
   },
   {
    "duration": 131,
    "start_time": "2024-11-04T16:43:01.726Z"
   },
   {
    "duration": 11,
    "start_time": "2024-11-04T16:47:34.569Z"
   },
   {
    "duration": 4,
    "start_time": "2024-11-04T16:47:46.672Z"
   },
   {
    "duration": 4,
    "start_time": "2024-11-04T16:47:56.707Z"
   },
   {
    "duration": 4,
    "start_time": "2024-11-04T16:48:28.240Z"
   },
   {
    "duration": 49,
    "start_time": "2024-11-04T16:48:49.678Z"
   },
   {
    "duration": 132,
    "start_time": "2024-11-04T16:48:58.151Z"
   },
   {
    "duration": 4,
    "start_time": "2024-11-04T16:49:40.894Z"
   },
   {
    "duration": 10,
    "start_time": "2024-11-04T16:49:43.850Z"
   },
   {
    "duration": 6,
    "start_time": "2024-11-04T16:49:47.795Z"
   },
   {
    "duration": 5,
    "start_time": "2024-11-04T16:49:50.537Z"
   },
   {
    "duration": 11,
    "start_time": "2024-11-04T16:49:52.445Z"
   },
   {
    "duration": 5,
    "start_time": "2024-11-04T16:49:54.597Z"
   },
   {
    "duration": 123,
    "start_time": "2024-11-04T16:49:58.397Z"
   },
   {
    "duration": 11,
    "start_time": "2024-11-04T16:50:17.436Z"
   },
   {
    "duration": 126,
    "start_time": "2024-11-04T16:50:24.973Z"
   },
   {
    "duration": 15,
    "start_time": "2024-11-04T16:50:57.538Z"
   },
   {
    "duration": 31,
    "start_time": "2024-11-04T16:56:32.097Z"
   },
   {
    "duration": 4,
    "start_time": "2024-11-04T16:57:14.174Z"
   },
   {
    "duration": 3,
    "start_time": "2024-11-04T16:57:35.507Z"
   },
   {
    "duration": 3,
    "start_time": "2024-11-04T16:57:46.761Z"
   },
   {
    "duration": 28,
    "start_time": "2024-11-04T16:57:49.257Z"
   },
   {
    "duration": 23,
    "start_time": "2024-11-04T16:58:20.490Z"
   },
   {
    "duration": 21,
    "start_time": "2024-11-04T16:59:01.760Z"
   },
   {
    "duration": 21,
    "start_time": "2024-11-04T16:59:15.818Z"
   },
   {
    "duration": 7,
    "start_time": "2024-11-04T17:00:23.228Z"
   },
   {
    "duration": 5,
    "start_time": "2024-11-04T17:00:26.546Z"
   },
   {
    "duration": 8,
    "start_time": "2024-11-04T17:00:47.631Z"
   },
   {
    "duration": 8,
    "start_time": "2024-11-04T17:00:54.335Z"
   },
   {
    "duration": 10,
    "start_time": "2024-11-04T17:01:14.622Z"
   },
   {
    "duration": 19,
    "start_time": "2024-11-04T17:01:16.877Z"
   },
   {
    "duration": 3,
    "start_time": "2024-11-04T17:05:11.769Z"
   },
   {
    "duration": 8,
    "start_time": "2024-11-04T17:05:11.774Z"
   },
   {
    "duration": 4,
    "start_time": "2024-11-04T17:05:11.783Z"
   },
   {
    "duration": 604,
    "start_time": "2024-11-04T17:05:11.788Z"
   },
   {
    "duration": 19,
    "start_time": "2024-11-04T17:05:12.394Z"
   },
   {
    "duration": 33,
    "start_time": "2024-11-04T17:05:12.414Z"
   },
   {
    "duration": 158,
    "start_time": "2024-11-04T17:05:12.449Z"
   },
   {
    "duration": 16,
    "start_time": "2024-11-04T17:05:12.608Z"
   },
   {
    "duration": 3069,
    "start_time": "2024-11-04T17:05:12.626Z"
   },
   {
    "duration": 656,
    "start_time": "2024-11-04T17:05:15.696Z"
   },
   {
    "duration": 5,
    "start_time": "2024-11-04T17:05:16.354Z"
   },
   {
    "duration": 340,
    "start_time": "2024-11-04T17:05:16.361Z"
   },
   {
    "duration": 3537,
    "start_time": "2024-11-04T17:05:16.703Z"
   },
   {
    "duration": 11,
    "start_time": "2024-11-04T17:05:20.244Z"
   },
   {
    "duration": 3,
    "start_time": "2024-11-04T17:05:20.258Z"
   },
   {
    "duration": 22,
    "start_time": "2024-11-04T17:05:20.262Z"
   },
   {
    "duration": 3,
    "start_time": "2024-11-04T17:05:20.285Z"
   },
   {
    "duration": 4775,
    "start_time": "2024-11-04T17:05:20.289Z"
   },
   {
    "duration": 10,
    "start_time": "2024-11-04T17:05:25.066Z"
   },
   {
    "duration": 3,
    "start_time": "2024-11-04T17:05:25.078Z"
   },
   {
    "duration": 4,
    "start_time": "2024-11-04T17:05:25.083Z"
   },
   {
    "duration": 3,
    "start_time": "2024-11-04T17:05:25.088Z"
   },
   {
    "duration": 3,
    "start_time": "2024-11-04T17:05:25.092Z"
   },
   {
    "duration": 30623,
    "start_time": "2024-11-04T17:05:25.097Z"
   },
   {
    "duration": 6,
    "start_time": "2024-11-04T17:05:55.724Z"
   },
   {
    "duration": 18,
    "start_time": "2024-11-04T17:05:55.732Z"
   },
   {
    "duration": 4212,
    "start_time": "2024-11-04T17:05:55.753Z"
   },
   {
    "duration": 5059,
    "start_time": "2024-11-04T17:05:59.966Z"
   },
   {
    "duration": 613,
    "start_time": "2024-11-04T17:06:05.027Z"
   },
   {
    "duration": 689,
    "start_time": "2024-11-04T17:06:05.641Z"
   },
   {
    "duration": 3,
    "start_time": "2024-11-04T17:06:06.332Z"
   },
   {
    "duration": 433800,
    "start_time": "2024-11-04T17:06:06.336Z"
   },
   {
    "duration": 8,
    "start_time": "2024-11-04T17:13:20.138Z"
   },
   {
    "duration": 27,
    "start_time": "2024-11-04T17:13:20.149Z"
   },
   {
    "duration": 299,
    "start_time": "2024-11-04T17:13:20.177Z"
   },
   {
    "duration": 3954,
    "start_time": "2024-11-04T17:13:20.478Z"
   },
   {
    "duration": 5696,
    "start_time": "2024-11-04T17:13:24.434Z"
   },
   {
    "duration": 631,
    "start_time": "2024-11-04T17:13:30.132Z"
   },
   {
    "duration": 3,
    "start_time": "2024-11-04T17:13:30.765Z"
   },
   {
    "duration": 3,
    "start_time": "2024-11-04T17:13:30.769Z"
   },
   {
    "duration": 28968,
    "start_time": "2024-11-04T17:13:30.777Z"
   },
   {
    "duration": 1321,
    "start_time": "2024-11-04T17:13:59.747Z"
   },
   {
    "duration": 3,
    "start_time": "2024-11-04T17:14:01.070Z"
   },
   {
    "duration": 1370,
    "start_time": "2024-11-04T17:14:01.074Z"
   },
   {
    "duration": 5,
    "start_time": "2024-11-04T17:14:02.446Z"
   },
   {
    "duration": 79,
    "start_time": "2024-11-04T17:14:02.453Z"
   },
   {
    "duration": 0,
    "start_time": "2024-11-04T17:14:02.534Z"
   },
   {
    "duration": 0,
    "start_time": "2024-11-04T17:14:02.535Z"
   },
   {
    "duration": 0,
    "start_time": "2024-11-04T17:14:02.537Z"
   },
   {
    "duration": 0,
    "start_time": "2024-11-04T17:14:02.539Z"
   },
   {
    "duration": 0,
    "start_time": "2024-11-04T17:14:02.540Z"
   },
   {
    "duration": 0,
    "start_time": "2024-11-04T17:14:02.542Z"
   },
   {
    "duration": 0,
    "start_time": "2024-11-04T17:14:02.543Z"
   },
   {
    "duration": 4,
    "start_time": "2024-11-04T17:14:55.354Z"
   },
   {
    "duration": 4,
    "start_time": "2024-11-04T17:14:57.594Z"
   },
   {
    "duration": 10,
    "start_time": "2024-11-04T17:14:59.378Z"
   },
   {
    "duration": 15,
    "start_time": "2024-11-04T17:15:02.616Z"
   },
   {
    "duration": 365,
    "start_time": "2024-11-04T17:15:04.633Z"
   },
   {
    "duration": 2512,
    "start_time": "2024-11-05T14:06:00.007Z"
   },
   {
    "duration": 6,
    "start_time": "2024-11-05T14:06:02.521Z"
   },
   {
    "duration": 2,
    "start_time": "2024-11-05T14:06:02.530Z"
   },
   {
    "duration": 660,
    "start_time": "2024-11-05T14:06:02.534Z"
   },
   {
    "duration": 21,
    "start_time": "2024-11-05T14:06:03.196Z"
   },
   {
    "duration": 23,
    "start_time": "2024-11-05T14:06:03.219Z"
   },
   {
    "duration": 173,
    "start_time": "2024-11-05T14:06:03.244Z"
   },
   {
    "duration": 4,
    "start_time": "2024-11-05T14:06:03.420Z"
   },
   {
    "duration": 2873,
    "start_time": "2024-11-05T14:06:03.426Z"
   },
   {
    "duration": 632,
    "start_time": "2024-11-05T14:06:06.301Z"
   },
   {
    "duration": 5,
    "start_time": "2024-11-05T14:06:06.936Z"
   },
   {
    "duration": 323,
    "start_time": "2024-11-05T14:06:06.943Z"
   },
   {
    "duration": 3698,
    "start_time": "2024-11-05T14:06:07.268Z"
   },
   {
    "duration": 142,
    "start_time": "2024-11-05T14:06:10.971Z"
   },
   {
    "duration": 3,
    "start_time": "2024-11-05T14:06:11.115Z"
   },
   {
    "duration": 23,
    "start_time": "2024-11-05T14:06:11.119Z"
   },
   {
    "duration": 12,
    "start_time": "2024-11-05T14:06:11.144Z"
   },
   {
    "duration": 4677,
    "start_time": "2024-11-05T14:06:11.157Z"
   },
   {
    "duration": 8,
    "start_time": "2024-11-05T14:06:15.836Z"
   },
   {
    "duration": 145,
    "start_time": "2024-11-05T14:06:15.846Z"
   },
   {
    "duration": 3,
    "start_time": "2024-11-05T14:06:15.993Z"
   },
   {
    "duration": 3,
    "start_time": "2024-11-05T14:06:15.999Z"
   },
   {
    "duration": 3,
    "start_time": "2024-11-05T14:06:16.003Z"
   },
   {
    "duration": 30279,
    "start_time": "2024-11-05T14:06:16.009Z"
   },
   {
    "duration": 7,
    "start_time": "2024-11-05T14:06:46.290Z"
   },
   {
    "duration": 21,
    "start_time": "2024-11-05T14:06:46.299Z"
   },
   {
    "duration": 4115,
    "start_time": "2024-11-05T14:06:46.322Z"
   },
   {
    "duration": 3159,
    "start_time": "2024-11-05T14:06:50.439Z"
   },
   {
    "duration": 678,
    "start_time": "2024-11-05T14:06:53.603Z"
   },
   {
    "duration": 2177,
    "start_time": "2024-11-05T14:06:54.286Z"
   },
   {
    "duration": 3,
    "start_time": "2024-11-05T14:06:56.465Z"
   },
   {
    "duration": 434423,
    "start_time": "2024-11-05T14:06:56.469Z"
   },
   {
    "duration": 9,
    "start_time": "2024-11-05T14:14:10.894Z"
   },
   {
    "duration": 28,
    "start_time": "2024-11-05T14:14:10.904Z"
   },
   {
    "duration": 380,
    "start_time": "2024-11-05T14:14:10.933Z"
   },
   {
    "duration": 3686,
    "start_time": "2024-11-05T14:14:11.315Z"
   },
   {
    "duration": 4995,
    "start_time": "2024-11-05T14:14:15.003Z"
   },
   {
    "duration": 700,
    "start_time": "2024-11-05T14:14:20.000Z"
   },
   {
    "duration": 18,
    "start_time": "2024-11-05T14:14:20.702Z"
   },
   {
    "duration": 3,
    "start_time": "2024-11-05T14:14:20.722Z"
   },
   {
    "duration": 27667,
    "start_time": "2024-11-05T14:14:20.730Z"
   },
   {
    "duration": 1330,
    "start_time": "2024-11-05T14:14:48.399Z"
   },
   {
    "duration": 5,
    "start_time": "2024-11-05T14:14:49.732Z"
   },
   {
    "duration": 4,
    "start_time": "2024-11-05T14:14:49.738Z"
   },
   {
    "duration": 7,
    "start_time": "2024-11-05T14:14:49.744Z"
   },
   {
    "duration": 35,
    "start_time": "2024-11-05T14:14:49.753Z"
   },
   {
    "duration": 576,
    "start_time": "2024-11-05T14:14:49.790Z"
   },
   {
    "duration": 2521,
    "start_time": "2024-11-08T17:04:11.418Z"
   },
   {
    "duration": 6,
    "start_time": "2024-11-08T17:04:13.941Z"
   },
   {
    "duration": 3,
    "start_time": "2024-11-08T17:04:13.949Z"
   },
   {
    "duration": 655,
    "start_time": "2024-11-08T17:04:13.954Z"
   },
   {
    "duration": 21,
    "start_time": "2024-11-08T17:04:14.612Z"
   },
   {
    "duration": 23,
    "start_time": "2024-11-08T17:04:14.635Z"
   },
   {
    "duration": 172,
    "start_time": "2024-11-08T17:04:14.660Z"
   },
   {
    "duration": 4,
    "start_time": "2024-11-08T17:04:14.834Z"
   },
   {
    "duration": 2838,
    "start_time": "2024-11-08T17:04:14.839Z"
   },
   {
    "duration": 945,
    "start_time": "2024-11-08T17:04:17.679Z"
   },
   {
    "duration": 6,
    "start_time": "2024-11-08T17:04:18.626Z"
   },
   {
    "duration": 319,
    "start_time": "2024-11-08T17:04:18.633Z"
   },
   {
    "duration": 3494,
    "start_time": "2024-11-08T17:04:18.954Z"
   },
   {
    "duration": 223,
    "start_time": "2024-11-08T17:04:22.452Z"
   },
   {
    "duration": 3,
    "start_time": "2024-11-08T17:04:22.677Z"
   },
   {
    "duration": 32,
    "start_time": "2024-11-08T17:04:22.682Z"
   },
   {
    "duration": 12,
    "start_time": "2024-11-08T17:04:22.716Z"
   },
   {
    "duration": 4536,
    "start_time": "2024-11-08T17:04:22.730Z"
   },
   {
    "duration": 11,
    "start_time": "2024-11-08T17:04:27.269Z"
   },
   {
    "duration": 154,
    "start_time": "2024-11-08T17:04:27.282Z"
   },
   {
    "duration": 2,
    "start_time": "2024-11-08T17:04:27.438Z"
   },
   {
    "duration": 2,
    "start_time": "2024-11-08T17:04:27.442Z"
   },
   {
    "duration": 3,
    "start_time": "2024-11-08T17:04:27.446Z"
   },
   {
    "duration": 29742,
    "start_time": "2024-11-08T17:04:27.450Z"
   },
   {
    "duration": 15,
    "start_time": "2024-11-08T17:04:57.195Z"
   },
   {
    "duration": 24,
    "start_time": "2024-11-08T17:04:57.212Z"
   },
   {
    "duration": 4088,
    "start_time": "2024-11-08T17:04:57.237Z"
   },
   {
    "duration": 4383,
    "start_time": "2024-11-08T17:05:01.328Z"
   },
   {
    "duration": 613,
    "start_time": "2024-11-08T17:05:05.713Z"
   },
   {
    "duration": 2250,
    "start_time": "2024-11-08T17:05:06.328Z"
   },
   {
    "duration": 3,
    "start_time": "2024-11-08T17:05:08.581Z"
   },
   {
    "duration": 433057,
    "start_time": "2024-11-08T17:05:08.587Z"
   },
   {
    "duration": 8,
    "start_time": "2024-11-08T17:12:21.646Z"
   },
   {
    "duration": 30,
    "start_time": "2024-11-08T17:12:21.656Z"
   },
   {
    "duration": 321,
    "start_time": "2024-11-08T17:12:21.688Z"
   },
   {
    "duration": 3926,
    "start_time": "2024-11-08T17:12:22.011Z"
   },
   {
    "duration": 5577,
    "start_time": "2024-11-08T17:12:25.939Z"
   },
   {
    "duration": 661,
    "start_time": "2024-11-08T17:12:31.519Z"
   },
   {
    "duration": 27,
    "start_time": "2024-11-08T17:12:32.182Z"
   },
   {
    "duration": 2,
    "start_time": "2024-11-08T17:12:32.211Z"
   },
   {
    "duration": 27633,
    "start_time": "2024-11-08T17:12:32.218Z"
   },
   {
    "duration": 1310,
    "start_time": "2024-11-08T17:12:59.853Z"
   },
   {
    "duration": 142,
    "start_time": "2024-11-08T17:13:01.165Z"
   },
   {
    "duration": 1566,
    "start_time": "2024-11-08T17:13:01.309Z"
   },
   {
    "duration": 7,
    "start_time": "2024-11-08T17:13:02.877Z"
   },
   {
    "duration": 944,
    "start_time": "2024-11-08T17:13:02.886Z"
   },
   {
    "duration": 0,
    "start_time": "2024-11-08T17:13:03.832Z"
   },
   {
    "duration": 0,
    "start_time": "2024-11-08T17:13:03.833Z"
   },
   {
    "duration": 0,
    "start_time": "2024-11-08T17:13:03.835Z"
   },
   {
    "duration": 0,
    "start_time": "2024-11-08T17:13:03.836Z"
   },
   {
    "duration": 0,
    "start_time": "2024-11-08T17:13:03.837Z"
   },
   {
    "duration": 0,
    "start_time": "2024-11-08T17:13:03.840Z"
   },
   {
    "duration": 0,
    "start_time": "2024-11-08T17:13:03.841Z"
   },
   {
    "duration": 22,
    "start_time": "2024-11-08T17:21:02.028Z"
   },
   {
    "duration": 5,
    "start_time": "2024-11-08T17:28:21.058Z"
   },
   {
    "duration": 929,
    "start_time": "2024-11-08T17:29:21.300Z"
   },
   {
    "duration": 23,
    "start_time": "2024-11-08T17:29:24.592Z"
   },
   {
    "duration": 5,
    "start_time": "2024-11-08T17:32:22.301Z"
   },
   {
    "duration": 941,
    "start_time": "2024-11-08T17:32:58.541Z"
   },
   {
    "duration": 944,
    "start_time": "2024-11-08T20:06:35.024Z"
   },
   {
    "duration": 3,
    "start_time": "2024-11-08T20:08:24.001Z"
   },
   {
    "duration": 6,
    "start_time": "2024-11-08T20:09:13.394Z"
   },
   {
    "duration": 976,
    "start_time": "2024-11-08T20:09:22.481Z"
   },
   {
    "duration": 948,
    "start_time": "2024-11-08T20:09:39.094Z"
   },
   {
    "duration": 1951,
    "start_time": "2024-11-08T20:12:17.525Z"
   },
   {
    "duration": 1944,
    "start_time": "2024-11-08T20:12:31.418Z"
   },
   {
    "duration": 20,
    "start_time": "2024-11-08T20:12:35.024Z"
   },
   {
    "duration": 2,
    "start_time": "2024-11-08T20:14:59.977Z"
   },
   {
    "duration": 5,
    "start_time": "2024-11-08T20:14:59.998Z"
   },
   {
    "duration": 2,
    "start_time": "2024-11-08T20:15:00.006Z"
   },
   {
    "duration": 569,
    "start_time": "2024-11-08T20:15:00.010Z"
   },
   {
    "duration": 28,
    "start_time": "2024-11-08T20:15:00.581Z"
   },
   {
    "duration": 24,
    "start_time": "2024-11-08T20:15:00.612Z"
   },
   {
    "duration": 161,
    "start_time": "2024-11-08T20:15:00.637Z"
   },
   {
    "duration": 10,
    "start_time": "2024-11-08T20:15:00.800Z"
   },
   {
    "duration": 2716,
    "start_time": "2024-11-08T20:15:00.812Z"
   },
   {
    "duration": 676,
    "start_time": "2024-11-08T20:15:03.530Z"
   },
   {
    "duration": 7,
    "start_time": "2024-11-08T20:15:04.209Z"
   },
   {
    "duration": 305,
    "start_time": "2024-11-08T20:15:04.217Z"
   },
   {
    "duration": 3820,
    "start_time": "2024-11-08T20:15:04.524Z"
   },
   {
    "duration": 12,
    "start_time": "2024-11-08T20:15:08.346Z"
   },
   {
    "duration": 1982,
    "start_time": "2024-11-08T20:15:08.362Z"
   },
   {
    "duration": 21,
    "start_time": "2024-11-08T20:15:10.346Z"
   },
   {
    "duration": 24,
    "start_time": "2024-11-08T20:15:10.369Z"
   },
   {
    "duration": 3,
    "start_time": "2024-11-08T20:15:10.408Z"
   },
   {
    "duration": 4491,
    "start_time": "2024-11-08T20:15:10.413Z"
   },
   {
    "duration": 9,
    "start_time": "2024-11-08T20:15:14.908Z"
   },
   {
    "duration": 5,
    "start_time": "2024-11-08T20:15:14.918Z"
   },
   {
    "duration": 2,
    "start_time": "2024-11-08T20:15:14.924Z"
   },
   {
    "duration": 2,
    "start_time": "2024-11-08T20:15:14.928Z"
   },
   {
    "duration": 3,
    "start_time": "2024-11-08T20:15:14.932Z"
   },
   {
    "duration": 30827,
    "start_time": "2024-11-08T20:15:14.937Z"
   },
   {
    "duration": 9,
    "start_time": "2024-11-08T20:15:45.766Z"
   },
   {
    "duration": 36,
    "start_time": "2024-11-08T20:15:45.779Z"
   },
   {
    "duration": 4277,
    "start_time": "2024-11-08T20:15:45.817Z"
   },
   {
    "duration": 3231,
    "start_time": "2024-11-08T20:15:50.096Z"
   },
   {
    "duration": 663,
    "start_time": "2024-11-08T20:15:53.329Z"
   },
   {
    "duration": 300,
    "start_time": "2024-11-08T20:15:53.994Z"
   },
   {
    "duration": 3,
    "start_time": "2024-11-08T20:15:54.296Z"
   },
   {
    "duration": 436605,
    "start_time": "2024-11-08T20:15:54.308Z"
   },
   {
    "duration": 7,
    "start_time": "2024-11-08T20:23:10.916Z"
   },
   {
    "duration": 29,
    "start_time": "2024-11-08T20:23:10.925Z"
   },
   {
    "duration": 307,
    "start_time": "2024-11-08T20:23:10.956Z"
   },
   {
    "duration": 3981,
    "start_time": "2024-11-08T20:23:11.267Z"
   },
   {
    "duration": 3074,
    "start_time": "2024-11-08T20:23:15.250Z"
   },
   {
    "duration": 707,
    "start_time": "2024-11-08T20:23:18.326Z"
   },
   {
    "duration": 2,
    "start_time": "2024-11-08T20:23:19.036Z"
   },
   {
    "duration": 2,
    "start_time": "2024-11-08T20:23:19.041Z"
   },
   {
    "duration": 29271,
    "start_time": "2024-11-08T20:23:19.048Z"
   },
   {
    "duration": 1409,
    "start_time": "2024-11-08T20:23:48.321Z"
   },
   {
    "duration": 2,
    "start_time": "2024-11-08T20:23:49.732Z"
   },
   {
    "duration": 1416,
    "start_time": "2024-11-08T20:23:49.736Z"
   },
   {
    "duration": 5,
    "start_time": "2024-11-08T20:23:51.155Z"
   },
   {
    "duration": 81,
    "start_time": "2024-11-08T20:23:51.163Z"
   },
   {
    "duration": 0,
    "start_time": "2024-11-08T20:23:51.246Z"
   },
   {
    "duration": 0,
    "start_time": "2024-11-08T20:23:51.247Z"
   },
   {
    "duration": 1,
    "start_time": "2024-11-08T20:23:51.248Z"
   },
   {
    "duration": 0,
    "start_time": "2024-11-08T20:23:51.249Z"
   },
   {
    "duration": 0,
    "start_time": "2024-11-08T20:23:51.251Z"
   },
   {
    "duration": 0,
    "start_time": "2024-11-08T20:23:51.252Z"
   },
   {
    "duration": 0,
    "start_time": "2024-11-08T20:23:51.254Z"
   },
   {
    "duration": 11,
    "start_time": "2024-11-08T20:24:59.938Z"
   },
   {
    "duration": 4,
    "start_time": "2024-11-08T20:25:49.123Z"
   },
   {
    "duration": 3,
    "start_time": "2024-11-08T20:25:50.370Z"
   },
   {
    "duration": 11,
    "start_time": "2024-11-08T20:46:00.578Z"
   },
   {
    "duration": 3,
    "start_time": "2024-11-08T20:46:21.283Z"
   },
   {
    "duration": 7,
    "start_time": "2024-11-08T20:46:29.612Z"
   },
   {
    "duration": 8,
    "start_time": "2024-11-08T20:47:48.987Z"
   },
   {
    "duration": 152,
    "start_time": "2024-11-08T21:29:02.966Z"
   },
   {
    "duration": 7,
    "start_time": "2024-11-08T21:33:59.018Z"
   },
   {
    "duration": 21,
    "start_time": "2024-11-08T21:34:49.123Z"
   },
   {
    "duration": 20,
    "start_time": "2024-11-08T21:35:12.950Z"
   },
   {
    "duration": 9,
    "start_time": "2024-11-08T21:35:25.820Z"
   },
   {
    "duration": 280,
    "start_time": "2024-11-08T21:35:28.305Z"
   },
   {
    "duration": 7,
    "start_time": "2024-11-08T21:45:27.871Z"
   },
   {
    "duration": 437,
    "start_time": "2024-11-08T21:45:43.378Z"
   },
   {
    "duration": 6,
    "start_time": "2024-11-08T21:45:48.800Z"
   },
   {
    "duration": 6,
    "start_time": "2024-11-08T21:49:10.971Z"
   },
   {
    "duration": 254,
    "start_time": "2024-11-08T21:49:13.150Z"
   },
   {
    "duration": 246,
    "start_time": "2024-11-08T21:52:49.534Z"
   },
   {
    "duration": 6,
    "start_time": "2024-11-08T21:53:06.075Z"
   },
   {
    "duration": 236,
    "start_time": "2024-11-08T21:53:08.214Z"
   },
   {
    "duration": 237,
    "start_time": "2024-11-08T21:53:28.289Z"
   },
   {
    "duration": 2,
    "start_time": "2024-11-08T21:53:38.936Z"
   },
   {
    "duration": 6,
    "start_time": "2024-11-08T21:53:38.941Z"
   },
   {
    "duration": 2,
    "start_time": "2024-11-08T21:53:38.949Z"
   },
   {
    "duration": 559,
    "start_time": "2024-11-08T21:53:38.953Z"
   },
   {
    "duration": 18,
    "start_time": "2024-11-08T21:53:39.514Z"
   },
   {
    "duration": 22,
    "start_time": "2024-11-08T21:53:39.534Z"
   },
   {
    "duration": 163,
    "start_time": "2024-11-08T21:53:39.558Z"
   },
   {
    "duration": 5,
    "start_time": "2024-11-08T21:53:39.723Z"
   },
   {
    "duration": 2770,
    "start_time": "2024-11-08T21:53:39.729Z"
   },
   {
    "duration": 634,
    "start_time": "2024-11-08T21:53:42.502Z"
   },
   {
    "duration": 5,
    "start_time": "2024-11-08T21:53:43.138Z"
   },
   {
    "duration": 331,
    "start_time": "2024-11-08T21:53:43.144Z"
   },
   {
    "duration": 3871,
    "start_time": "2024-11-08T21:53:43.479Z"
   },
   {
    "duration": 12,
    "start_time": "2024-11-08T21:53:47.355Z"
   },
   {
    "duration": 1983,
    "start_time": "2024-11-08T21:53:47.368Z"
   },
   {
    "duration": 23,
    "start_time": "2024-11-08T21:53:49.352Z"
   },
   {
    "duration": 35,
    "start_time": "2024-11-08T21:53:49.376Z"
   },
   {
    "duration": 3,
    "start_time": "2024-11-08T21:53:49.413Z"
   },
   {
    "duration": 4394,
    "start_time": "2024-11-08T21:53:49.417Z"
   },
   {
    "duration": 8,
    "start_time": "2024-11-08T21:53:53.812Z"
   },
   {
    "duration": 3,
    "start_time": "2024-11-08T21:53:53.822Z"
   },
   {
    "duration": 2,
    "start_time": "2024-11-08T21:53:53.827Z"
   },
   {
    "duration": 2,
    "start_time": "2024-11-08T21:53:53.831Z"
   },
   {
    "duration": 3,
    "start_time": "2024-11-08T21:53:53.835Z"
   },
   {
    "duration": 30581,
    "start_time": "2024-11-08T21:53:53.840Z"
   },
   {
    "duration": 8,
    "start_time": "2024-11-08T21:54:24.422Z"
   },
   {
    "duration": 23,
    "start_time": "2024-11-08T21:54:24.432Z"
   },
   {
    "duration": 4110,
    "start_time": "2024-11-08T21:54:24.456Z"
   },
   {
    "duration": 3048,
    "start_time": "2024-11-08T21:54:28.568Z"
   },
   {
    "duration": 660,
    "start_time": "2024-11-08T21:54:31.618Z"
   },
   {
    "duration": 310,
    "start_time": "2024-11-08T21:54:32.280Z"
   },
   {
    "duration": 3,
    "start_time": "2024-11-08T21:54:32.591Z"
   },
   {
    "duration": 426125,
    "start_time": "2024-11-08T21:54:32.597Z"
   },
   {
    "duration": 7,
    "start_time": "2024-11-08T22:01:38.724Z"
   },
   {
    "duration": 25,
    "start_time": "2024-11-08T22:01:38.732Z"
   },
   {
    "duration": 294,
    "start_time": "2024-11-08T22:01:38.758Z"
   },
   {
    "duration": 3895,
    "start_time": "2024-11-08T22:01:39.053Z"
   },
   {
    "duration": 4761,
    "start_time": "2024-11-08T22:01:42.950Z"
   },
   {
    "duration": 650,
    "start_time": "2024-11-08T22:01:47.715Z"
   },
   {
    "duration": 2,
    "start_time": "2024-11-08T22:01:48.367Z"
   },
   {
    "duration": 2,
    "start_time": "2024-11-08T22:01:48.374Z"
   },
   {
    "duration": 26848,
    "start_time": "2024-11-08T22:01:48.377Z"
   },
   {
    "duration": 1284,
    "start_time": "2024-11-08T22:02:15.227Z"
   },
   {
    "duration": 2,
    "start_time": "2024-11-08T22:02:16.513Z"
   },
   {
    "duration": 1395,
    "start_time": "2024-11-08T22:02:16.517Z"
   },
   {
    "duration": 4,
    "start_time": "2024-11-08T22:02:17.914Z"
   },
   {
    "duration": 90,
    "start_time": "2024-11-08T22:02:17.920Z"
   },
   {
    "duration": 0,
    "start_time": "2024-11-08T22:02:18.012Z"
   },
   {
    "duration": 0,
    "start_time": "2024-11-08T22:02:18.013Z"
   },
   {
    "duration": 0,
    "start_time": "2024-11-08T22:02:18.014Z"
   },
   {
    "duration": 0,
    "start_time": "2024-11-08T22:02:18.015Z"
   },
   {
    "duration": 0,
    "start_time": "2024-11-08T22:02:18.016Z"
   },
   {
    "duration": 0,
    "start_time": "2024-11-08T22:02:18.017Z"
   },
   {
    "duration": 0,
    "start_time": "2024-11-08T22:02:18.018Z"
   },
   {
    "duration": 11,
    "start_time": "2024-11-08T22:36:54.682Z"
   },
   {
    "duration": 7,
    "start_time": "2024-11-08T22:37:03.050Z"
   },
   {
    "duration": 789,
    "start_time": "2024-11-08T22:37:11.541Z"
   },
   {
    "duration": 8,
    "start_time": "2024-11-08T22:37:49.329Z"
   },
   {
    "duration": 15,
    "start_time": "2024-11-08T22:37:53.224Z"
   },
   {
    "duration": 282,
    "start_time": "2024-11-08T22:37:56.766Z"
   },
   {
    "duration": 21,
    "start_time": "2024-11-08T22:45:04.749Z"
   },
   {
    "duration": 25,
    "start_time": "2024-11-08T22:45:39.097Z"
   },
   {
    "duration": 6,
    "start_time": "2024-11-08T22:48:26.605Z"
   },
   {
    "duration": 6,
    "start_time": "2024-11-08T22:48:32.665Z"
   },
   {
    "duration": 4,
    "start_time": "2024-11-08T22:48:45.158Z"
   },
   {
    "duration": 6,
    "start_time": "2024-11-08T22:50:16.199Z"
   },
   {
    "duration": 238,
    "start_time": "2024-11-08T22:50:18.525Z"
   },
   {
    "duration": 5,
    "start_time": "2024-11-08T23:07:26.936Z"
   },
   {
    "duration": 6,
    "start_time": "2024-11-08T23:12:01.135Z"
   },
   {
    "duration": 264,
    "start_time": "2024-11-08T23:12:02.659Z"
   },
   {
    "duration": 2602,
    "start_time": "2024-11-11T14:56:56.052Z"
   },
   {
    "duration": 5,
    "start_time": "2024-11-11T14:56:58.657Z"
   },
   {
    "duration": 3,
    "start_time": "2024-11-11T14:56:58.664Z"
   },
   {
    "duration": 688,
    "start_time": "2024-11-11T14:56:58.670Z"
   },
   {
    "duration": 22,
    "start_time": "2024-11-11T14:56:59.359Z"
   },
   {
    "duration": 26,
    "start_time": "2024-11-11T14:56:59.382Z"
   },
   {
    "duration": 157,
    "start_time": "2024-11-11T14:56:59.423Z"
   },
   {
    "duration": 4,
    "start_time": "2024-11-11T14:56:59.583Z"
   },
   {
    "duration": 2800,
    "start_time": "2024-11-11T14:56:59.588Z"
   },
   {
    "duration": 653,
    "start_time": "2024-11-11T14:57:02.393Z"
   },
   {
    "duration": 5,
    "start_time": "2024-11-11T14:57:03.047Z"
   },
   {
    "duration": 348,
    "start_time": "2024-11-11T14:57:03.054Z"
   },
   {
    "duration": 3566,
    "start_time": "2024-11-11T14:57:03.404Z"
   },
   {
    "duration": 224,
    "start_time": "2024-11-11T14:57:06.971Z"
   },
   {
    "duration": 1435,
    "start_time": "2024-11-11T14:57:07.198Z"
   },
   {
    "duration": 0,
    "start_time": "2024-11-11T14:57:08.636Z"
   },
   {
    "duration": 0,
    "start_time": "2024-11-11T14:57:08.637Z"
   },
   {
    "duration": 0,
    "start_time": "2024-11-11T14:57:08.639Z"
   },
   {
    "duration": 0,
    "start_time": "2024-11-11T14:57:08.640Z"
   },
   {
    "duration": 0,
    "start_time": "2024-11-11T14:57:08.641Z"
   },
   {
    "duration": 0,
    "start_time": "2024-11-11T14:57:08.643Z"
   },
   {
    "duration": 0,
    "start_time": "2024-11-11T14:57:08.645Z"
   },
   {
    "duration": 0,
    "start_time": "2024-11-11T14:57:08.646Z"
   },
   {
    "duration": 0,
    "start_time": "2024-11-11T14:57:08.648Z"
   },
   {
    "duration": 0,
    "start_time": "2024-11-11T14:57:08.649Z"
   },
   {
    "duration": 0,
    "start_time": "2024-11-11T14:57:08.651Z"
   },
   {
    "duration": 0,
    "start_time": "2024-11-11T14:57:08.652Z"
   },
   {
    "duration": 0,
    "start_time": "2024-11-11T14:57:08.655Z"
   },
   {
    "duration": 0,
    "start_time": "2024-11-11T14:57:08.656Z"
   },
   {
    "duration": 0,
    "start_time": "2024-11-11T14:57:08.658Z"
   },
   {
    "duration": 0,
    "start_time": "2024-11-11T14:57:08.660Z"
   },
   {
    "duration": 0,
    "start_time": "2024-11-11T14:57:08.661Z"
   },
   {
    "duration": 0,
    "start_time": "2024-11-11T14:57:08.663Z"
   },
   {
    "duration": 0,
    "start_time": "2024-11-11T14:57:08.664Z"
   },
   {
    "duration": 0,
    "start_time": "2024-11-11T14:57:08.666Z"
   },
   {
    "duration": 0,
    "start_time": "2024-11-11T14:57:08.667Z"
   },
   {
    "duration": 0,
    "start_time": "2024-11-11T14:57:08.668Z"
   },
   {
    "duration": 0,
    "start_time": "2024-11-11T14:57:08.670Z"
   },
   {
    "duration": 0,
    "start_time": "2024-11-11T14:57:08.670Z"
   },
   {
    "duration": 0,
    "start_time": "2024-11-11T14:57:08.671Z"
   },
   {
    "duration": 0,
    "start_time": "2024-11-11T14:57:08.672Z"
   },
   {
    "duration": 0,
    "start_time": "2024-11-11T14:57:08.674Z"
   },
   {
    "duration": 0,
    "start_time": "2024-11-11T14:57:08.725Z"
   },
   {
    "duration": 0,
    "start_time": "2024-11-11T14:57:08.726Z"
   },
   {
    "duration": 0,
    "start_time": "2024-11-11T14:57:08.727Z"
   },
   {
    "duration": 0,
    "start_time": "2024-11-11T14:57:08.728Z"
   },
   {
    "duration": 0,
    "start_time": "2024-11-11T14:57:08.729Z"
   },
   {
    "duration": 0,
    "start_time": "2024-11-11T14:57:08.731Z"
   },
   {
    "duration": 0,
    "start_time": "2024-11-11T14:57:08.732Z"
   },
   {
    "duration": 0,
    "start_time": "2024-11-11T14:57:08.733Z"
   },
   {
    "duration": 0,
    "start_time": "2024-11-11T14:57:08.734Z"
   },
   {
    "duration": 0,
    "start_time": "2024-11-11T14:57:08.735Z"
   },
   {
    "duration": 0,
    "start_time": "2024-11-11T14:57:08.737Z"
   },
   {
    "duration": 0,
    "start_time": "2024-11-11T14:57:08.737Z"
   },
   {
    "duration": 90,
    "start_time": "2024-11-11T15:37:53.372Z"
   },
   {
    "duration": 20,
    "start_time": "2024-11-11T15:40:33.247Z"
   },
   {
    "duration": 43,
    "start_time": "2024-11-11T15:40:58.151Z"
   },
   {
    "duration": 0,
    "start_time": "2024-11-11T15:40:58.197Z"
   },
   {
    "duration": 0,
    "start_time": "2024-11-11T15:40:58.197Z"
   },
   {
    "duration": 0,
    "start_time": "2024-11-11T15:40:58.199Z"
   },
   {
    "duration": 0,
    "start_time": "2024-11-11T15:40:58.199Z"
   },
   {
    "duration": 0,
    "start_time": "2024-11-11T15:40:58.200Z"
   },
   {
    "duration": 0,
    "start_time": "2024-11-11T15:40:58.202Z"
   },
   {
    "duration": 0,
    "start_time": "2024-11-11T15:40:58.203Z"
   },
   {
    "duration": 0,
    "start_time": "2024-11-11T15:40:58.204Z"
   },
   {
    "duration": 0,
    "start_time": "2024-11-11T15:40:58.205Z"
   },
   {
    "duration": 0,
    "start_time": "2024-11-11T15:40:58.206Z"
   },
   {
    "duration": 0,
    "start_time": "2024-11-11T15:40:58.209Z"
   },
   {
    "duration": 0,
    "start_time": "2024-11-11T15:40:58.210Z"
   },
   {
    "duration": 0,
    "start_time": "2024-11-11T15:40:58.212Z"
   },
   {
    "duration": 0,
    "start_time": "2024-11-11T15:40:58.213Z"
   },
   {
    "duration": 0,
    "start_time": "2024-11-11T15:40:58.214Z"
   },
   {
    "duration": 0,
    "start_time": "2024-11-11T15:40:58.215Z"
   },
   {
    "duration": 0,
    "start_time": "2024-11-11T15:40:58.224Z"
   },
   {
    "duration": 0,
    "start_time": "2024-11-11T15:40:58.225Z"
   },
   {
    "duration": 0,
    "start_time": "2024-11-11T15:40:58.226Z"
   },
   {
    "duration": 0,
    "start_time": "2024-11-11T15:40:58.228Z"
   },
   {
    "duration": 0,
    "start_time": "2024-11-11T15:40:58.229Z"
   },
   {
    "duration": 2,
    "start_time": "2024-11-11T15:40:58.233Z"
   },
   {
    "duration": 3,
    "start_time": "2024-11-11T15:40:58.237Z"
   },
   {
    "duration": 3,
    "start_time": "2024-11-11T15:40:58.242Z"
   },
   {
    "duration": 87,
    "start_time": "2024-11-11T15:40:58.247Z"
   },
   {
    "duration": 0,
    "start_time": "2024-11-11T15:40:58.337Z"
   },
   {
    "duration": 0,
    "start_time": "2024-11-11T15:40:58.338Z"
   },
   {
    "duration": 0,
    "start_time": "2024-11-11T15:40:58.339Z"
   },
   {
    "duration": 0,
    "start_time": "2024-11-11T15:40:58.340Z"
   },
   {
    "duration": 0,
    "start_time": "2024-11-11T15:40:58.341Z"
   },
   {
    "duration": 0,
    "start_time": "2024-11-11T15:40:58.342Z"
   },
   {
    "duration": 0,
    "start_time": "2024-11-11T15:40:58.342Z"
   },
   {
    "duration": 0,
    "start_time": "2024-11-11T15:40:58.344Z"
   },
   {
    "duration": 0,
    "start_time": "2024-11-11T15:40:58.345Z"
   },
   {
    "duration": 0,
    "start_time": "2024-11-11T15:40:58.346Z"
   },
   {
    "duration": 0,
    "start_time": "2024-11-11T15:40:58.347Z"
   },
   {
    "duration": 0,
    "start_time": "2024-11-11T15:40:58.348Z"
   },
   {
    "duration": 0,
    "start_time": "2024-11-11T15:40:58.349Z"
   },
   {
    "duration": 0,
    "start_time": "2024-11-11T15:40:58.350Z"
   },
   {
    "duration": 0,
    "start_time": "2024-11-11T15:40:58.351Z"
   },
   {
    "duration": 0,
    "start_time": "2024-11-11T15:40:58.352Z"
   },
   {
    "duration": 0,
    "start_time": "2024-11-11T15:40:58.353Z"
   },
   {
    "duration": 0,
    "start_time": "2024-11-11T15:40:58.354Z"
   },
   {
    "duration": 0,
    "start_time": "2024-11-11T15:40:58.355Z"
   },
   {
    "duration": 0,
    "start_time": "2024-11-11T15:40:58.356Z"
   },
   {
    "duration": 0,
    "start_time": "2024-11-11T15:40:58.357Z"
   },
   {
    "duration": 0,
    "start_time": "2024-11-11T15:40:58.358Z"
   },
   {
    "duration": 0,
    "start_time": "2024-11-11T15:40:58.359Z"
   },
   {
    "duration": 0,
    "start_time": "2024-11-11T15:40:58.360Z"
   },
   {
    "duration": 0,
    "start_time": "2024-11-11T15:40:58.361Z"
   },
   {
    "duration": 0,
    "start_time": "2024-11-11T15:40:58.362Z"
   },
   {
    "duration": 0,
    "start_time": "2024-11-11T15:40:58.363Z"
   },
   {
    "duration": 0,
    "start_time": "2024-11-11T15:40:58.365Z"
   },
   {
    "duration": 0,
    "start_time": "2024-11-11T15:40:58.366Z"
   },
   {
    "duration": 75,
    "start_time": "2024-11-11T15:58:11.372Z"
   },
   {
    "duration": 0,
    "start_time": "2024-11-11T15:58:11.450Z"
   },
   {
    "duration": 0,
    "start_time": "2024-11-11T15:58:11.451Z"
   },
   {
    "duration": 0,
    "start_time": "2024-11-11T15:58:11.452Z"
   },
   {
    "duration": 0,
    "start_time": "2024-11-11T15:58:11.454Z"
   },
   {
    "duration": 0,
    "start_time": "2024-11-11T15:58:11.455Z"
   },
   {
    "duration": 0,
    "start_time": "2024-11-11T15:58:11.456Z"
   },
   {
    "duration": 0,
    "start_time": "2024-11-11T15:58:11.458Z"
   },
   {
    "duration": 0,
    "start_time": "2024-11-11T15:58:11.459Z"
   },
   {
    "duration": 0,
    "start_time": "2024-11-11T15:58:11.460Z"
   },
   {
    "duration": 0,
    "start_time": "2024-11-11T15:58:11.461Z"
   },
   {
    "duration": 0,
    "start_time": "2024-11-11T15:58:11.462Z"
   },
   {
    "duration": 0,
    "start_time": "2024-11-11T15:58:11.462Z"
   },
   {
    "duration": 0,
    "start_time": "2024-11-11T15:58:11.463Z"
   },
   {
    "duration": 0,
    "start_time": "2024-11-11T15:58:11.464Z"
   },
   {
    "duration": 0,
    "start_time": "2024-11-11T15:58:11.465Z"
   },
   {
    "duration": 0,
    "start_time": "2024-11-11T15:58:11.467Z"
   },
   {
    "duration": 0,
    "start_time": "2024-11-11T15:58:11.468Z"
   },
   {
    "duration": 0,
    "start_time": "2024-11-11T15:58:11.469Z"
   },
   {
    "duration": 0,
    "start_time": "2024-11-11T15:58:11.470Z"
   },
   {
    "duration": 0,
    "start_time": "2024-11-11T15:58:11.471Z"
   },
   {
    "duration": 0,
    "start_time": "2024-11-11T15:58:11.472Z"
   },
   {
    "duration": 0,
    "start_time": "2024-11-11T15:58:11.474Z"
   },
   {
    "duration": 0,
    "start_time": "2024-11-11T15:58:11.475Z"
   },
   {
    "duration": 0,
    "start_time": "2024-11-11T15:58:11.477Z"
   },
   {
    "duration": 0,
    "start_time": "2024-11-11T15:58:11.479Z"
   },
   {
    "duration": 0,
    "start_time": "2024-11-11T15:58:11.525Z"
   },
   {
    "duration": 0,
    "start_time": "2024-11-11T15:58:11.526Z"
   },
   {
    "duration": 0,
    "start_time": "2024-11-11T15:58:11.527Z"
   },
   {
    "duration": 0,
    "start_time": "2024-11-11T15:58:11.528Z"
   },
   {
    "duration": 0,
    "start_time": "2024-11-11T15:58:11.529Z"
   },
   {
    "duration": 0,
    "start_time": "2024-11-11T15:58:11.530Z"
   },
   {
    "duration": 0,
    "start_time": "2024-11-11T15:58:11.531Z"
   },
   {
    "duration": 0,
    "start_time": "2024-11-11T15:58:11.532Z"
   },
   {
    "duration": 0,
    "start_time": "2024-11-11T15:58:11.533Z"
   },
   {
    "duration": 0,
    "start_time": "2024-11-11T15:58:11.535Z"
   },
   {
    "duration": 0,
    "start_time": "2024-11-11T15:58:11.536Z"
   },
   {
    "duration": 0,
    "start_time": "2024-11-11T15:58:11.537Z"
   },
   {
    "duration": 0,
    "start_time": "2024-11-11T15:58:11.539Z"
   },
   {
    "duration": 0,
    "start_time": "2024-11-11T15:58:11.540Z"
   },
   {
    "duration": 1,
    "start_time": "2024-11-11T15:58:11.541Z"
   },
   {
    "duration": 0,
    "start_time": "2024-11-11T15:58:11.549Z"
   },
   {
    "duration": 0,
    "start_time": "2024-11-11T15:58:11.550Z"
   },
   {
    "duration": 0,
    "start_time": "2024-11-11T15:58:11.551Z"
   },
   {
    "duration": 0,
    "start_time": "2024-11-11T15:58:11.552Z"
   },
   {
    "duration": 0,
    "start_time": "2024-11-11T15:58:11.554Z"
   },
   {
    "duration": 0,
    "start_time": "2024-11-11T15:58:11.555Z"
   },
   {
    "duration": 0,
    "start_time": "2024-11-11T15:58:11.557Z"
   },
   {
    "duration": 0,
    "start_time": "2024-11-11T15:58:11.559Z"
   },
   {
    "duration": 0,
    "start_time": "2024-11-11T15:58:11.561Z"
   },
   {
    "duration": 0,
    "start_time": "2024-11-11T15:58:11.562Z"
   },
   {
    "duration": 0,
    "start_time": "2024-11-11T15:58:11.563Z"
   },
   {
    "duration": 0,
    "start_time": "2024-11-11T15:58:11.564Z"
   },
   {
    "duration": 0,
    "start_time": "2024-11-11T15:58:11.625Z"
   },
   {
    "duration": 0,
    "start_time": "2024-11-11T15:58:11.627Z"
   },
   {
    "duration": 6,
    "start_time": "2024-11-11T16:03:03.558Z"
   },
   {
    "duration": 6,
    "start_time": "2024-11-11T16:03:06.704Z"
   },
   {
    "duration": 3,
    "start_time": "2024-11-11T16:03:10.656Z"
   },
   {
    "duration": 612,
    "start_time": "2024-11-11T16:03:17.946Z"
   },
   {
    "duration": 20,
    "start_time": "2024-11-11T16:03:20.240Z"
   },
   {
    "duration": 28,
    "start_time": "2024-11-11T16:03:24.690Z"
   },
   {
    "duration": 7,
    "start_time": "2024-11-11T16:03:30.537Z"
   },
   {
    "duration": 7,
    "start_time": "2024-11-11T16:03:30.546Z"
   },
   {
    "duration": 3,
    "start_time": "2024-11-11T16:03:30.555Z"
   },
   {
    "duration": 670,
    "start_time": "2024-11-11T16:03:30.560Z"
   },
   {
    "duration": 20,
    "start_time": "2024-11-11T16:03:31.231Z"
   },
   {
    "duration": 27,
    "start_time": "2024-11-11T16:03:31.253Z"
   },
   {
    "duration": 152,
    "start_time": "2024-11-11T16:03:34.877Z"
   },
   {
    "duration": 5,
    "start_time": "2024-11-11T16:03:53.667Z"
   },
   {
    "duration": 2843,
    "start_time": "2024-11-11T16:03:53.675Z"
   },
   {
    "duration": 642,
    "start_time": "2024-11-11T16:03:56.520Z"
   },
   {
    "duration": 5,
    "start_time": "2024-11-11T16:03:57.164Z"
   },
   {
    "duration": 334,
    "start_time": "2024-11-11T16:03:57.171Z"
   },
   {
    "duration": 3906,
    "start_time": "2024-11-11T16:03:57.507Z"
   },
   {
    "duration": 11,
    "start_time": "2024-11-11T16:04:01.424Z"
   },
   {
    "duration": 1297,
    "start_time": "2024-11-11T16:04:01.437Z"
   },
   {
    "duration": 0,
    "start_time": "2024-11-11T16:04:02.737Z"
   },
   {
    "duration": 0,
    "start_time": "2024-11-11T16:04:02.738Z"
   },
   {
    "duration": 0,
    "start_time": "2024-11-11T16:04:02.739Z"
   },
   {
    "duration": 0,
    "start_time": "2024-11-11T16:04:02.740Z"
   },
   {
    "duration": 0,
    "start_time": "2024-11-11T16:04:02.741Z"
   },
   {
    "duration": 0,
    "start_time": "2024-11-11T16:04:02.742Z"
   },
   {
    "duration": 0,
    "start_time": "2024-11-11T16:04:02.743Z"
   },
   {
    "duration": 0,
    "start_time": "2024-11-11T16:04:02.744Z"
   },
   {
    "duration": 0,
    "start_time": "2024-11-11T16:04:02.745Z"
   },
   {
    "duration": 0,
    "start_time": "2024-11-11T16:04:02.746Z"
   },
   {
    "duration": 0,
    "start_time": "2024-11-11T16:04:02.747Z"
   },
   {
    "duration": 0,
    "start_time": "2024-11-11T16:04:02.748Z"
   },
   {
    "duration": 0,
    "start_time": "2024-11-11T16:04:02.749Z"
   },
   {
    "duration": 0,
    "start_time": "2024-11-11T16:04:02.750Z"
   },
   {
    "duration": 0,
    "start_time": "2024-11-11T16:04:02.751Z"
   },
   {
    "duration": 0,
    "start_time": "2024-11-11T16:04:02.752Z"
   },
   {
    "duration": 0,
    "start_time": "2024-11-11T16:04:02.753Z"
   },
   {
    "duration": 0,
    "start_time": "2024-11-11T16:04:02.754Z"
   },
   {
    "duration": 0,
    "start_time": "2024-11-11T16:04:02.755Z"
   },
   {
    "duration": 0,
    "start_time": "2024-11-11T16:04:02.756Z"
   },
   {
    "duration": 0,
    "start_time": "2024-11-11T16:04:02.757Z"
   },
   {
    "duration": 0,
    "start_time": "2024-11-11T16:04:02.758Z"
   },
   {
    "duration": 0,
    "start_time": "2024-11-11T16:04:02.759Z"
   },
   {
    "duration": 0,
    "start_time": "2024-11-11T16:04:02.760Z"
   },
   {
    "duration": 0,
    "start_time": "2024-11-11T16:04:02.761Z"
   },
   {
    "duration": 0,
    "start_time": "2024-11-11T16:04:02.762Z"
   },
   {
    "duration": 0,
    "start_time": "2024-11-11T16:04:02.764Z"
   },
   {
    "duration": 0,
    "start_time": "2024-11-11T16:04:02.765Z"
   },
   {
    "duration": 0,
    "start_time": "2024-11-11T16:04:02.766Z"
   },
   {
    "duration": 0,
    "start_time": "2024-11-11T16:04:02.766Z"
   },
   {
    "duration": 0,
    "start_time": "2024-11-11T16:04:02.824Z"
   },
   {
    "duration": 0,
    "start_time": "2024-11-11T16:04:02.825Z"
   },
   {
    "duration": 0,
    "start_time": "2024-11-11T16:04:02.826Z"
   },
   {
    "duration": 0,
    "start_time": "2024-11-11T16:04:02.827Z"
   },
   {
    "duration": 0,
    "start_time": "2024-11-11T16:04:02.828Z"
   },
   {
    "duration": 0,
    "start_time": "2024-11-11T16:04:02.829Z"
   },
   {
    "duration": 0,
    "start_time": "2024-11-11T16:04:02.830Z"
   },
   {
    "duration": 0,
    "start_time": "2024-11-11T16:04:02.831Z"
   },
   {
    "duration": 0,
    "start_time": "2024-11-11T16:04:02.832Z"
   },
   {
    "duration": 5,
    "start_time": "2024-11-11T16:04:15.718Z"
   },
   {
    "duration": 316,
    "start_time": "2024-11-11T16:04:19.526Z"
   },
   {
    "duration": 3777,
    "start_time": "2024-11-11T16:04:23.525Z"
   },
   {
    "duration": 11,
    "start_time": "2024-11-11T16:04:30.690Z"
   },
   {
    "duration": 1010,
    "start_time": "2024-11-11T16:04:38.745Z"
   },
   {
    "duration": 1014,
    "start_time": "2024-11-11T16:04:59.764Z"
   },
   {
    "duration": 3,
    "start_time": "2024-11-11T16:05:30.020Z"
   },
   {
    "duration": 1018,
    "start_time": "2024-11-11T16:05:47.303Z"
   },
   {
    "duration": 996,
    "start_time": "2024-11-11T16:07:59.129Z"
   },
   {
    "duration": 10920,
    "start_time": "2024-11-11T16:08:34.479Z"
   },
   {
    "duration": 19,
    "start_time": "2024-11-11T16:08:45.432Z"
   },
   {
    "duration": 19,
    "start_time": "2024-11-11T16:09:15.121Z"
   },
   {
    "duration": 4,
    "start_time": "2024-11-11T16:09:15.141Z"
   },
   {
    "duration": 4625,
    "start_time": "2024-11-11T16:09:15.147Z"
   },
   {
    "duration": 8,
    "start_time": "2024-11-11T16:09:19.773Z"
   },
   {
    "duration": 2,
    "start_time": "2024-11-11T16:09:19.783Z"
   },
   {
    "duration": 3,
    "start_time": "2024-11-11T16:09:19.787Z"
   },
   {
    "duration": 3,
    "start_time": "2024-11-11T16:09:19.792Z"
   },
   {
    "duration": 3,
    "start_time": "2024-11-11T16:09:19.796Z"
   },
   {
    "duration": 30133,
    "start_time": "2024-11-11T16:09:19.824Z"
   },
   {
    "duration": 9,
    "start_time": "2024-11-11T16:09:49.959Z"
   },
   {
    "duration": 25,
    "start_time": "2024-11-11T16:09:49.969Z"
   },
   {
    "duration": 4241,
    "start_time": "2024-11-11T16:09:49.996Z"
   },
   {
    "duration": 3188,
    "start_time": "2024-11-11T16:09:54.239Z"
   },
   {
    "duration": 664,
    "start_time": "2024-11-11T16:09:57.434Z"
   },
   {
    "duration": 2274,
    "start_time": "2024-11-11T16:09:58.100Z"
   },
   {
    "duration": 3,
    "start_time": "2024-11-11T16:10:00.376Z"
   },
   {
    "duration": 430698,
    "start_time": "2024-11-11T16:10:00.381Z"
   },
   {
    "duration": 8,
    "start_time": "2024-11-11T16:17:11.081Z"
   },
   {
    "duration": 39,
    "start_time": "2024-11-11T16:17:11.091Z"
   },
   {
    "duration": 298,
    "start_time": "2024-11-11T16:17:11.133Z"
   },
   {
    "duration": 3798,
    "start_time": "2024-11-11T16:17:11.433Z"
   },
   {
    "duration": 4808,
    "start_time": "2024-11-11T16:17:15.233Z"
   },
   {
    "duration": 695,
    "start_time": "2024-11-11T16:17:20.043Z"
   },
   {
    "duration": 19,
    "start_time": "2024-11-11T16:17:20.740Z"
   },
   {
    "duration": 2,
    "start_time": "2024-11-11T16:17:20.761Z"
   },
   {
    "duration": 27780,
    "start_time": "2024-11-11T16:17:20.765Z"
   },
   {
    "duration": 1324,
    "start_time": "2024-11-11T16:17:48.548Z"
   },
   {
    "duration": 142,
    "start_time": "2024-11-11T16:17:49.874Z"
   },
   {
    "duration": 1386,
    "start_time": "2024-11-11T16:17:50.018Z"
   },
   {
    "duration": 5,
    "start_time": "2024-11-11T16:17:51.406Z"
   },
   {
    "duration": 413,
    "start_time": "2024-11-11T16:17:51.425Z"
   },
   {
    "duration": 0,
    "start_time": "2024-11-11T16:17:51.840Z"
   },
   {
    "duration": 0,
    "start_time": "2024-11-11T16:17:51.842Z"
   },
   {
    "duration": 0,
    "start_time": "2024-11-11T16:17:51.843Z"
   },
   {
    "duration": 0,
    "start_time": "2024-11-11T16:17:51.844Z"
   },
   {
    "duration": 0,
    "start_time": "2024-11-11T16:17:51.848Z"
   },
   {
    "duration": 0,
    "start_time": "2024-11-11T16:17:51.849Z"
   },
   {
    "duration": 0,
    "start_time": "2024-11-11T16:17:51.851Z"
   },
   {
    "duration": 12,
    "start_time": "2024-11-11T16:18:37.986Z"
   },
   {
    "duration": 9,
    "start_time": "2024-11-11T16:18:44.616Z"
   },
   {
    "duration": 38,
    "start_time": "2024-11-11T16:18:49.410Z"
   },
   {
    "duration": 12,
    "start_time": "2024-11-11T16:20:08.736Z"
   },
   {
    "duration": 268,
    "start_time": "2024-11-11T16:20:16.316Z"
   },
   {
    "duration": 7,
    "start_time": "2024-11-11T16:20:26.041Z"
   },
   {
    "duration": 32,
    "start_time": "2024-11-11T16:20:29.443Z"
   },
   {
    "duration": 12,
    "start_time": "2024-11-11T16:21:04.311Z"
   },
   {
    "duration": 35,
    "start_time": "2024-11-11T16:23:42.840Z"
   },
   {
    "duration": 57,
    "start_time": "2024-11-11T16:38:02.831Z"
   },
   {
    "duration": 34,
    "start_time": "2024-11-11T16:57:37.043Z"
   },
   {
    "duration": 79,
    "start_time": "2024-11-11T16:58:20.952Z"
   },
   {
    "duration": 35,
    "start_time": "2024-11-11T17:16:59.754Z"
   },
   {
    "duration": 7,
    "start_time": "2024-11-11T17:18:38.558Z"
   },
   {
    "duration": 34,
    "start_time": "2024-11-11T17:19:02.257Z"
   },
   {
    "duration": 142,
    "start_time": "2024-11-11T17:45:24.933Z"
   },
   {
    "duration": 58,
    "start_time": "2024-11-11T17:47:58.077Z"
   },
   {
    "duration": 356,
    "start_time": "2024-11-11T17:49:15.769Z"
   },
   {
    "duration": 25,
    "start_time": "2024-11-11T17:49:42.244Z"
   },
   {
    "duration": 28,
    "start_time": "2024-11-11T17:51:22.374Z"
   },
   {
    "duration": 27,
    "start_time": "2024-11-11T17:51:41.157Z"
   },
   {
    "duration": 65,
    "start_time": "2024-11-11T17:52:03.451Z"
   },
   {
    "duration": 39,
    "start_time": "2024-11-11T17:52:09.715Z"
   },
   {
    "duration": 40,
    "start_time": "2024-11-11T17:52:39.541Z"
   },
   {
    "duration": 29,
    "start_time": "2024-11-11T17:53:05.426Z"
   },
   {
    "duration": 37,
    "start_time": "2024-11-11T18:00:24.850Z"
   },
   {
    "duration": 11,
    "start_time": "2024-11-11T19:51:29.419Z"
   },
   {
    "duration": 7,
    "start_time": "2024-11-11T19:51:38.919Z"
   },
   {
    "duration": 4,
    "start_time": "2024-11-11T19:51:49.916Z"
   },
   {
    "duration": 6,
    "start_time": "2024-11-11T19:52:06.653Z"
   },
   {
    "duration": 23,
    "start_time": "2024-11-11T19:56:34.300Z"
   },
   {
    "duration": 7,
    "start_time": "2024-11-11T19:57:17.281Z"
   },
   {
    "duration": 4,
    "start_time": "2024-11-11T19:57:21.626Z"
   },
   {
    "duration": 5,
    "start_time": "2024-11-11T19:57:29.546Z"
   },
   {
    "duration": 6,
    "start_time": "2024-11-11T19:57:32.499Z"
   },
   {
    "duration": 32,
    "start_time": "2024-11-11T19:57:34.589Z"
   },
   {
    "duration": 3,
    "start_time": "2024-11-11T20:27:10.225Z"
   },
   {
    "duration": 24,
    "start_time": "2024-11-11T20:32:58.074Z"
   },
   {
    "duration": 4,
    "start_time": "2024-11-11T20:33:31.642Z"
   },
   {
    "duration": 7,
    "start_time": "2024-11-11T20:33:41.571Z"
   },
   {
    "duration": 31,
    "start_time": "2024-11-11T20:33:58.873Z"
   },
   {
    "duration": 5,
    "start_time": "2024-11-11T21:02:40.566Z"
   },
   {
    "duration": 4698,
    "start_time": "2024-11-11T21:02:43.941Z"
   },
   {
    "duration": 4479,
    "start_time": "2024-11-11T21:04:02.209Z"
   },
   {
    "duration": 576,
    "start_time": "2024-11-11T21:04:12.072Z"
   },
   {
    "duration": 67,
    "start_time": "2024-11-11T21:04:51.428Z"
   },
   {
    "duration": 47,
    "start_time": "2024-11-11T21:06:17.792Z"
   },
   {
    "duration": 40,
    "start_time": "2024-11-11T21:06:49.312Z"
   },
   {
    "duration": 40,
    "start_time": "2024-11-11T21:08:31.585Z"
   },
   {
    "duration": 2652,
    "start_time": "2024-11-14T01:13:01.199Z"
   },
   {
    "duration": 8,
    "start_time": "2024-11-14T01:13:03.853Z"
   },
   {
    "duration": 3,
    "start_time": "2024-11-14T01:13:03.863Z"
   },
   {
    "duration": 708,
    "start_time": "2024-11-14T01:13:03.868Z"
   },
   {
    "duration": 36,
    "start_time": "2024-11-14T01:13:04.578Z"
   },
   {
    "duration": 28,
    "start_time": "2024-11-14T01:13:04.616Z"
   },
   {
    "duration": 204,
    "start_time": "2024-11-14T01:13:04.646Z"
   },
   {
    "duration": 5,
    "start_time": "2024-11-14T01:13:04.852Z"
   },
   {
    "duration": 2948,
    "start_time": "2024-11-14T01:13:04.858Z"
   },
   {
    "duration": 667,
    "start_time": "2024-11-14T01:13:07.812Z"
   },
   {
    "duration": 7,
    "start_time": "2024-11-14T01:13:08.480Z"
   },
   {
    "duration": 322,
    "start_time": "2024-11-14T01:13:08.489Z"
   },
   {
    "duration": 3777,
    "start_time": "2024-11-14T01:13:08.814Z"
   },
   {
    "duration": 150,
    "start_time": "2024-11-14T01:13:12.596Z"
   },
   {
    "duration": 1587,
    "start_time": "2024-11-14T01:13:12.748Z"
   },
   {
    "duration": 0,
    "start_time": "2024-11-14T01:13:14.338Z"
   },
   {
    "duration": 0,
    "start_time": "2024-11-14T01:13:14.339Z"
   },
   {
    "duration": 0,
    "start_time": "2024-11-14T01:13:14.340Z"
   },
   {
    "duration": 0,
    "start_time": "2024-11-14T01:13:14.341Z"
   },
   {
    "duration": 0,
    "start_time": "2024-11-14T01:13:14.343Z"
   },
   {
    "duration": 0,
    "start_time": "2024-11-14T01:13:14.344Z"
   },
   {
    "duration": 0,
    "start_time": "2024-11-14T01:13:14.345Z"
   },
   {
    "duration": 0,
    "start_time": "2024-11-14T01:13:14.346Z"
   },
   {
    "duration": 0,
    "start_time": "2024-11-14T01:13:14.347Z"
   },
   {
    "duration": 0,
    "start_time": "2024-11-14T01:13:14.349Z"
   },
   {
    "duration": 0,
    "start_time": "2024-11-14T01:13:14.350Z"
   },
   {
    "duration": 0,
    "start_time": "2024-11-14T01:13:14.351Z"
   },
   {
    "duration": 0,
    "start_time": "2024-11-14T01:13:14.352Z"
   },
   {
    "duration": 0,
    "start_time": "2024-11-14T01:13:14.353Z"
   },
   {
    "duration": 0,
    "start_time": "2024-11-14T01:13:14.354Z"
   },
   {
    "duration": 0,
    "start_time": "2024-11-14T01:13:14.355Z"
   },
   {
    "duration": 1,
    "start_time": "2024-11-14T01:13:14.356Z"
   },
   {
    "duration": 0,
    "start_time": "2024-11-14T01:13:14.358Z"
   },
   {
    "duration": 0,
    "start_time": "2024-11-14T01:13:14.359Z"
   },
   {
    "duration": 1,
    "start_time": "2024-11-14T01:13:14.359Z"
   },
   {
    "duration": 0,
    "start_time": "2024-11-14T01:13:14.360Z"
   },
   {
    "duration": 0,
    "start_time": "2024-11-14T01:13:14.362Z"
   },
   {
    "duration": 0,
    "start_time": "2024-11-14T01:13:14.363Z"
   },
   {
    "duration": 0,
    "start_time": "2024-11-14T01:13:14.364Z"
   },
   {
    "duration": 0,
    "start_time": "2024-11-14T01:13:14.365Z"
   },
   {
    "duration": 0,
    "start_time": "2024-11-14T01:13:14.366Z"
   },
   {
    "duration": 0,
    "start_time": "2024-11-14T01:13:14.367Z"
   },
   {
    "duration": 0,
    "start_time": "2024-11-14T01:13:14.368Z"
   },
   {
    "duration": 0,
    "start_time": "2024-11-14T01:13:14.369Z"
   },
   {
    "duration": 0,
    "start_time": "2024-11-14T01:13:14.412Z"
   },
   {
    "duration": 0,
    "start_time": "2024-11-14T01:13:14.413Z"
   },
   {
    "duration": 0,
    "start_time": "2024-11-14T01:13:14.414Z"
   },
   {
    "duration": 0,
    "start_time": "2024-11-14T01:13:14.415Z"
   },
   {
    "duration": 0,
    "start_time": "2024-11-14T01:13:14.416Z"
   },
   {
    "duration": 0,
    "start_time": "2024-11-14T01:13:14.417Z"
   },
   {
    "duration": 0,
    "start_time": "2024-11-14T01:13:14.419Z"
   },
   {
    "duration": 0,
    "start_time": "2024-11-14T01:13:14.420Z"
   },
   {
    "duration": 0,
    "start_time": "2024-11-14T01:13:14.420Z"
   },
   {
    "duration": 31,
    "start_time": "2024-11-14T01:35:50.564Z"
   },
   {
    "duration": 31,
    "start_time": "2024-11-14T01:36:20.453Z"
   },
   {
    "duration": 24,
    "start_time": "2024-11-14T01:36:27.980Z"
   },
   {
    "duration": 22,
    "start_time": "2024-11-14T01:36:45.594Z"
   },
   {
    "duration": 13,
    "start_time": "2024-11-14T01:38:50.137Z"
   },
   {
    "duration": 3,
    "start_time": "2024-11-14T01:39:19.040Z"
   },
   {
    "duration": 12,
    "start_time": "2024-11-14T01:39:31.971Z"
   },
   {
    "duration": 22,
    "start_time": "2024-11-14T01:39:44.053Z"
   },
   {
    "duration": 18,
    "start_time": "2024-11-14T01:40:08.159Z"
   },
   {
    "duration": 3,
    "start_time": "2024-11-14T01:40:20.661Z"
   },
   {
    "duration": 4,
    "start_time": "2024-11-14T01:40:23.649Z"
   },
   {
    "duration": 2,
    "start_time": "2024-11-14T01:40:30.739Z"
   },
   {
    "duration": 3,
    "start_time": "2024-11-14T01:40:33.356Z"
   },
   {
    "duration": 30659,
    "start_time": "2024-11-14T01:40:36.599Z"
   },
   {
    "duration": 16,
    "start_time": "2024-11-14T01:41:18.357Z"
   },
   {
    "duration": 30,
    "start_time": "2024-11-14T01:41:21.103Z"
   },
   {
    "duration": 4264,
    "start_time": "2024-11-14T01:41:24.201Z"
   },
   {
    "duration": 4413,
    "start_time": "2024-11-14T01:41:42.143Z"
   },
   {
    "duration": 603,
    "start_time": "2024-11-14T01:42:13.290Z"
   },
   {
    "duration": 6,
    "start_time": "2024-11-14T01:42:18.684Z"
   },
   {
    "duration": 78,
    "start_time": "2024-11-14T01:42:21.495Z"
   },
   {
    "duration": 3,
    "start_time": "2024-11-14T01:45:28.051Z"
   },
   {
    "duration": 3,
    "start_time": "2024-11-14T01:45:34.741Z"
   },
   {
    "duration": 4,
    "start_time": "2024-11-14T01:45:38.491Z"
   },
   {
    "duration": 418,
    "start_time": "2024-11-14T01:45:42.155Z"
   },
   {
    "duration": 4,
    "start_time": "2024-11-14T01:45:54.003Z"
   },
   {
    "duration": 2,
    "start_time": "2024-11-14T01:45:55.893Z"
   },
   {
    "duration": 3,
    "start_time": "2024-11-14T01:45:57.913Z"
   },
   {
    "duration": 3,
    "start_time": "2024-11-14T01:45:59.645Z"
   },
   {
    "duration": 30663,
    "start_time": "2024-11-14T01:46:02.974Z"
   },
   {
    "duration": 5044,
    "start_time": "2024-11-14T01:46:36.852Z"
   },
   {
    "duration": 653,
    "start_time": "2024-11-14T01:46:46.544Z"
   },
   {
    "duration": 10,
    "start_time": "2024-11-14T01:46:57.744Z"
   },
   {
    "duration": 14,
    "start_time": "2024-11-14T01:47:15.590Z"
   },
   {
    "duration": 5,
    "start_time": "2024-11-14T01:47:20.270Z"
   },
   {
    "duration": 41,
    "start_time": "2024-11-14T01:47:23.189Z"
   },
   {
    "duration": 4647,
    "start_time": "2024-11-14T02:15:08.381Z"
   },
   {
    "duration": 6417,
    "start_time": "2024-11-14T02:16:34.428Z"
   },
   {
    "duration": 6369,
    "start_time": "2024-11-14T02:16:52.017Z"
   },
   {
    "duration": 3761,
    "start_time": "2024-11-14T02:17:11.494Z"
   },
   {
    "duration": 221,
    "start_time": "2024-11-14T02:17:39.601Z"
   },
   {
    "duration": 12,
    "start_time": "2024-11-14T02:17:51.160Z"
   },
   {
    "duration": 7,
    "start_time": "2024-11-14T02:17:57.956Z"
   },
   {
    "duration": 172,
    "start_time": "2024-11-14T02:18:04.097Z"
   },
   {
    "duration": 5,
    "start_time": "2024-11-14T02:18:26.629Z"
   },
   {
    "duration": 195,
    "start_time": "2024-11-14T02:18:43.339Z"
   },
   {
    "duration": 157,
    "start_time": "2024-11-14T04:25:52.480Z"
   },
   {
    "duration": 2873,
    "start_time": "2024-11-14T04:26:01.520Z"
   },
   {
    "duration": 9,
    "start_time": "2024-11-14T04:26:04.396Z"
   },
   {
    "duration": 3,
    "start_time": "2024-11-14T04:26:04.406Z"
   },
   {
    "duration": 652,
    "start_time": "2024-11-14T04:26:04.410Z"
   },
   {
    "duration": 29,
    "start_time": "2024-11-14T04:26:05.065Z"
   },
   {
    "duration": 26,
    "start_time": "2024-11-14T04:26:05.096Z"
   },
   {
    "duration": 166,
    "start_time": "2024-11-14T04:26:05.124Z"
   },
   {
    "duration": 4,
    "start_time": "2024-11-14T04:26:05.292Z"
   },
   {
    "duration": 2850,
    "start_time": "2024-11-14T04:26:05.297Z"
   },
   {
    "duration": 648,
    "start_time": "2024-11-14T04:26:08.150Z"
   },
   {
    "duration": 5,
    "start_time": "2024-11-14T04:26:08.800Z"
   },
   {
    "duration": 329,
    "start_time": "2024-11-14T04:26:08.807Z"
   },
   {
    "duration": 3624,
    "start_time": "2024-11-14T04:26:09.138Z"
   },
   {
    "duration": 11,
    "start_time": "2024-11-14T04:26:12.766Z"
   },
   {
    "duration": 1279,
    "start_time": "2024-11-14T04:26:12.779Z"
   },
   {
    "duration": 0,
    "start_time": "2024-11-14T04:26:14.061Z"
   },
   {
    "duration": 0,
    "start_time": "2024-11-14T04:26:14.063Z"
   },
   {
    "duration": 0,
    "start_time": "2024-11-14T04:26:14.064Z"
   },
   {
    "duration": 0,
    "start_time": "2024-11-14T04:26:14.066Z"
   },
   {
    "duration": 0,
    "start_time": "2024-11-14T04:26:14.067Z"
   },
   {
    "duration": 0,
    "start_time": "2024-11-14T04:26:14.068Z"
   },
   {
    "duration": 0,
    "start_time": "2024-11-14T04:26:14.087Z"
   },
   {
    "duration": 0,
    "start_time": "2024-11-14T04:26:14.088Z"
   },
   {
    "duration": 0,
    "start_time": "2024-11-14T04:26:14.089Z"
   },
   {
    "duration": 0,
    "start_time": "2024-11-14T04:26:14.090Z"
   },
   {
    "duration": 0,
    "start_time": "2024-11-14T04:26:14.091Z"
   },
   {
    "duration": 0,
    "start_time": "2024-11-14T04:26:14.092Z"
   },
   {
    "duration": 0,
    "start_time": "2024-11-14T04:26:14.093Z"
   },
   {
    "duration": 0,
    "start_time": "2024-11-14T04:26:14.094Z"
   },
   {
    "duration": 0,
    "start_time": "2024-11-14T04:26:14.094Z"
   },
   {
    "duration": 0,
    "start_time": "2024-11-14T04:26:14.095Z"
   },
   {
    "duration": 0,
    "start_time": "2024-11-14T04:26:14.096Z"
   },
   {
    "duration": 0,
    "start_time": "2024-11-14T04:26:14.098Z"
   },
   {
    "duration": 0,
    "start_time": "2024-11-14T04:26:14.099Z"
   },
   {
    "duration": 0,
    "start_time": "2024-11-14T04:26:14.101Z"
   },
   {
    "duration": 0,
    "start_time": "2024-11-14T04:26:14.103Z"
   },
   {
    "duration": 0,
    "start_time": "2024-11-14T04:26:14.103Z"
   },
   {
    "duration": 0,
    "start_time": "2024-11-14T04:26:14.105Z"
   },
   {
    "duration": 0,
    "start_time": "2024-11-14T04:26:14.106Z"
   },
   {
    "duration": 0,
    "start_time": "2024-11-14T04:26:14.108Z"
   },
   {
    "duration": 0,
    "start_time": "2024-11-14T04:26:14.109Z"
   },
   {
    "duration": 1,
    "start_time": "2024-11-14T04:26:14.110Z"
   },
   {
    "duration": 0,
    "start_time": "2024-11-14T04:26:14.112Z"
   },
   {
    "duration": 0,
    "start_time": "2024-11-14T04:26:14.114Z"
   },
   {
    "duration": 0,
    "start_time": "2024-11-14T04:26:14.115Z"
   },
   {
    "duration": 0,
    "start_time": "2024-11-14T04:26:14.117Z"
   },
   {
    "duration": 0,
    "start_time": "2024-11-14T04:26:14.118Z"
   },
   {
    "duration": 0,
    "start_time": "2024-11-14T04:26:14.120Z"
   },
   {
    "duration": 0,
    "start_time": "2024-11-14T04:26:14.121Z"
   },
   {
    "duration": 0,
    "start_time": "2024-11-14T04:26:14.126Z"
   },
   {
    "duration": 0,
    "start_time": "2024-11-14T04:26:14.127Z"
   },
   {
    "duration": 0,
    "start_time": "2024-11-14T04:26:14.128Z"
   },
   {
    "duration": 3,
    "start_time": "2024-11-14T04:27:55.165Z"
   },
   {
    "duration": 6,
    "start_time": "2024-11-14T04:28:05.023Z"
   },
   {
    "duration": 3,
    "start_time": "2024-11-14T04:28:06.627Z"
   },
   {
    "duration": 598,
    "start_time": "2024-11-14T04:28:09.132Z"
   },
   {
    "duration": 19,
    "start_time": "2024-11-14T04:28:10.540Z"
   },
   {
    "duration": 31,
    "start_time": "2024-11-14T04:28:18.587Z"
   },
   {
    "duration": 178,
    "start_time": "2024-11-14T04:28:18.620Z"
   },
   {
    "duration": 4,
    "start_time": "2024-11-14T04:28:18.800Z"
   },
   {
    "duration": 2722,
    "start_time": "2024-11-14T04:28:18.806Z"
   },
   {
    "duration": 662,
    "start_time": "2024-11-14T04:28:21.532Z"
   },
   {
    "duration": 6,
    "start_time": "2024-11-14T04:28:22.196Z"
   },
   {
    "duration": 313,
    "start_time": "2024-11-14T04:28:22.203Z"
   },
   {
    "duration": 4338,
    "start_time": "2024-11-14T04:28:22.519Z"
   },
   {
    "duration": 18,
    "start_time": "2024-11-14T04:28:26.860Z"
   },
   {
    "duration": 1082,
    "start_time": "2024-11-14T04:28:26.887Z"
   },
   {
    "duration": 0,
    "start_time": "2024-11-14T04:28:27.972Z"
   },
   {
    "duration": 0,
    "start_time": "2024-11-14T04:28:27.974Z"
   },
   {
    "duration": 0,
    "start_time": "2024-11-14T04:28:27.975Z"
   },
   {
    "duration": 0,
    "start_time": "2024-11-14T04:28:27.976Z"
   },
   {
    "duration": 0,
    "start_time": "2024-11-14T04:28:27.978Z"
   },
   {
    "duration": 0,
    "start_time": "2024-11-14T04:28:27.979Z"
   },
   {
    "duration": 0,
    "start_time": "2024-11-14T04:28:27.986Z"
   },
   {
    "duration": 0,
    "start_time": "2024-11-14T04:28:27.987Z"
   },
   {
    "duration": 0,
    "start_time": "2024-11-14T04:28:27.988Z"
   },
   {
    "duration": 0,
    "start_time": "2024-11-14T04:28:27.989Z"
   },
   {
    "duration": 0,
    "start_time": "2024-11-14T04:28:27.991Z"
   },
   {
    "duration": 0,
    "start_time": "2024-11-14T04:28:27.992Z"
   },
   {
    "duration": 0,
    "start_time": "2024-11-14T04:28:27.993Z"
   },
   {
    "duration": 0,
    "start_time": "2024-11-14T04:28:27.995Z"
   },
   {
    "duration": 0,
    "start_time": "2024-11-14T04:28:27.996Z"
   },
   {
    "duration": 0,
    "start_time": "2024-11-14T04:28:27.997Z"
   },
   {
    "duration": 0,
    "start_time": "2024-11-14T04:28:27.998Z"
   },
   {
    "duration": 0,
    "start_time": "2024-11-14T04:28:27.999Z"
   },
   {
    "duration": 0,
    "start_time": "2024-11-14T04:28:28.000Z"
   },
   {
    "duration": 0,
    "start_time": "2024-11-14T04:28:28.001Z"
   },
   {
    "duration": 0,
    "start_time": "2024-11-14T04:28:28.003Z"
   },
   {
    "duration": 0,
    "start_time": "2024-11-14T04:28:28.003Z"
   },
   {
    "duration": 0,
    "start_time": "2024-11-14T04:28:28.004Z"
   },
   {
    "duration": 0,
    "start_time": "2024-11-14T04:28:28.005Z"
   },
   {
    "duration": 0,
    "start_time": "2024-11-14T04:28:28.006Z"
   },
   {
    "duration": 0,
    "start_time": "2024-11-14T04:28:28.007Z"
   },
   {
    "duration": 0,
    "start_time": "2024-11-14T04:28:28.008Z"
   },
   {
    "duration": 0,
    "start_time": "2024-11-14T04:28:28.009Z"
   },
   {
    "duration": 0,
    "start_time": "2024-11-14T04:28:28.010Z"
   },
   {
    "duration": 0,
    "start_time": "2024-11-14T04:28:28.011Z"
   },
   {
    "duration": 0,
    "start_time": "2024-11-14T04:28:28.013Z"
   },
   {
    "duration": 0,
    "start_time": "2024-11-14T04:28:28.014Z"
   },
   {
    "duration": 0,
    "start_time": "2024-11-14T04:28:28.015Z"
   },
   {
    "duration": 0,
    "start_time": "2024-11-14T04:28:28.016Z"
   },
   {
    "duration": 0,
    "start_time": "2024-11-14T04:28:28.017Z"
   },
   {
    "duration": 0,
    "start_time": "2024-11-14T04:28:28.019Z"
   },
   {
    "duration": 0,
    "start_time": "2024-11-14T04:28:28.020Z"
   },
   {
    "duration": 682,
    "start_time": "2024-11-14T04:28:32.839Z"
   },
   {
    "duration": 6,
    "start_time": "2024-11-14T04:28:36.308Z"
   },
   {
    "duration": 305,
    "start_time": "2024-11-14T04:28:38.408Z"
   },
   {
    "duration": 3773,
    "start_time": "2024-11-14T04:28:42.084Z"
   },
   {
    "duration": 11,
    "start_time": "2024-11-14T04:28:47.072Z"
   },
   {
    "duration": 977,
    "start_time": "2024-11-14T04:28:55.805Z"
   },
   {
    "duration": 4,
    "start_time": "2024-11-14T04:29:21.268Z"
   },
   {
    "duration": 1033,
    "start_time": "2024-11-14T04:29:31.446Z"
   },
   {
    "duration": 2095,
    "start_time": "2024-11-14T04:30:32.275Z"
   },
   {
    "duration": 22,
    "start_time": "2024-11-14T04:30:37.157Z"
   },
   {
    "duration": 22,
    "start_time": "2024-11-14T04:30:44.714Z"
   },
   {
    "duration": 20,
    "start_time": "2024-11-14T04:30:44.738Z"
   },
   {
    "duration": 4,
    "start_time": "2024-11-14T04:30:44.760Z"
   },
   {
    "duration": 5046,
    "start_time": "2024-11-14T04:30:44.767Z"
   },
   {
    "duration": 8,
    "start_time": "2024-11-14T04:30:49.815Z"
   },
   {
    "duration": 4,
    "start_time": "2024-11-14T04:30:49.825Z"
   },
   {
    "duration": 2,
    "start_time": "2024-11-14T04:30:49.831Z"
   },
   {
    "duration": 2,
    "start_time": "2024-11-14T04:30:49.836Z"
   },
   {
    "duration": 3,
    "start_time": "2024-11-14T04:30:49.840Z"
   },
   {
    "duration": 30374,
    "start_time": "2024-11-14T04:30:49.847Z"
   },
   {
    "duration": 8,
    "start_time": "2024-11-14T04:31:20.222Z"
   },
   {
    "duration": 25,
    "start_time": "2024-11-14T04:31:20.232Z"
   },
   {
    "duration": 6242,
    "start_time": "2024-11-14T04:31:20.260Z"
   },
   {
    "duration": 4951,
    "start_time": "2024-11-14T04:31:26.503Z"
   },
   {
    "duration": 598,
    "start_time": "2024-11-14T04:31:31.458Z"
   },
   {
    "duration": 2294,
    "start_time": "2024-11-14T04:31:32.058Z"
   },
   {
    "duration": 3,
    "start_time": "2024-11-14T04:31:34.354Z"
   },
   {
    "duration": 430371,
    "start_time": "2024-11-14T04:31:34.359Z"
   },
   {
    "duration": 8,
    "start_time": "2024-11-14T04:38:44.732Z"
   },
   {
    "duration": 27,
    "start_time": "2024-11-14T04:38:44.742Z"
   },
   {
    "duration": 300,
    "start_time": "2024-11-14T04:38:44.788Z"
   },
   {
    "duration": 3782,
    "start_time": "2024-11-14T04:38:45.089Z"
   },
   {
    "duration": 3216,
    "start_time": "2024-11-14T04:38:48.872Z"
   },
   {
    "duration": 659,
    "start_time": "2024-11-14T04:38:52.090Z"
   },
   {
    "duration": 19,
    "start_time": "2024-11-14T04:38:52.751Z"
   },
   {
    "duration": 3,
    "start_time": "2024-11-14T04:38:52.771Z"
   },
   {
    "duration": 27949,
    "start_time": "2024-11-14T04:38:52.786Z"
   },
   {
    "duration": 1363,
    "start_time": "2024-11-14T04:39:20.740Z"
   },
   {
    "duration": 134,
    "start_time": "2024-11-14T04:39:22.105Z"
   },
   {
    "duration": 1450,
    "start_time": "2024-11-14T04:39:22.241Z"
   },
   {
    "duration": 5,
    "start_time": "2024-11-14T04:39:23.694Z"
   },
   {
    "duration": 429,
    "start_time": "2024-11-14T04:39:23.701Z"
   },
   {
    "duration": 0,
    "start_time": "2024-11-14T04:39:24.132Z"
   },
   {
    "duration": 0,
    "start_time": "2024-11-14T04:39:24.133Z"
   },
   {
    "duration": 0,
    "start_time": "2024-11-14T04:39:24.135Z"
   },
   {
    "duration": 0,
    "start_time": "2024-11-14T04:39:24.137Z"
   },
   {
    "duration": 0,
    "start_time": "2024-11-14T04:39:24.138Z"
   },
   {
    "duration": 13,
    "start_time": "2024-11-14T04:40:04.200Z"
   },
   {
    "duration": 6,
    "start_time": "2024-11-14T04:40:09.976Z"
   },
   {
    "duration": 175,
    "start_time": "2024-11-14T04:40:12.240Z"
   },
   {
    "duration": 49,
    "start_time": "2024-11-14T04:40:46.456Z"
   },
   {
    "duration": 7,
    "start_time": "2024-11-14T04:41:36.641Z"
   },
   {
    "duration": 5,
    "start_time": "2024-11-14T04:42:06.668Z"
   },
   {
    "duration": 2907,
    "start_time": "2024-11-14T20:40:03.145Z"
   },
   {
    "duration": 7,
    "start_time": "2024-11-14T20:40:06.055Z"
   },
   {
    "duration": 3,
    "start_time": "2024-11-14T20:40:06.064Z"
   },
   {
    "duration": 786,
    "start_time": "2024-11-14T20:40:06.069Z"
   },
   {
    "duration": 29,
    "start_time": "2024-11-14T20:40:06.857Z"
   },
   {
    "duration": 23,
    "start_time": "2024-11-14T20:40:06.888Z"
   },
   {
    "duration": 164,
    "start_time": "2024-11-14T20:40:06.913Z"
   },
   {
    "duration": 4,
    "start_time": "2024-11-14T20:40:07.086Z"
   },
   {
    "duration": 2828,
    "start_time": "2024-11-14T20:40:07.091Z"
   },
   {
    "duration": 802,
    "start_time": "2024-11-14T20:40:09.922Z"
   },
   {
    "duration": 5,
    "start_time": "2024-11-14T20:40:10.726Z"
   },
   {
    "duration": 358,
    "start_time": "2024-11-14T20:40:10.733Z"
   },
   {
    "duration": 4002,
    "start_time": "2024-11-14T20:40:11.093Z"
   },
   {
    "duration": 13,
    "start_time": "2024-11-14T20:40:15.097Z"
   },
   {
    "duration": 2142,
    "start_time": "2024-11-14T20:40:15.112Z"
   },
   {
    "duration": 20,
    "start_time": "2024-11-14T20:40:17.256Z"
   },
   {
    "duration": 22,
    "start_time": "2024-11-14T20:40:17.286Z"
   },
   {
    "duration": 4,
    "start_time": "2024-11-14T20:40:17.309Z"
   },
   {
    "duration": 4630,
    "start_time": "2024-11-14T20:40:17.315Z"
   },
   {
    "duration": 8,
    "start_time": "2024-11-14T20:40:21.947Z"
   },
   {
    "duration": 3,
    "start_time": "2024-11-14T20:40:21.957Z"
   },
   {
    "duration": 3,
    "start_time": "2024-11-14T20:40:21.961Z"
   },
   {
    "duration": 23,
    "start_time": "2024-11-14T20:40:21.965Z"
   },
   {
    "duration": 3,
    "start_time": "2024-11-14T20:40:21.989Z"
   },
   {
    "duration": 30492,
    "start_time": "2024-11-14T20:40:21.994Z"
   },
   {
    "duration": 8,
    "start_time": "2024-11-14T20:40:52.489Z"
   },
   {
    "duration": 25,
    "start_time": "2024-11-14T20:40:52.499Z"
   },
   {
    "duration": 6236,
    "start_time": "2024-11-14T20:40:52.529Z"
   },
   {
    "duration": 4533,
    "start_time": "2024-11-14T20:40:58.766Z"
   },
   {
    "duration": 616,
    "start_time": "2024-11-14T20:41:03.301Z"
   },
   {
    "duration": 2237,
    "start_time": "2024-11-14T20:41:03.919Z"
   },
   {
    "duration": 3,
    "start_time": "2024-11-14T20:41:06.158Z"
   },
   {
    "duration": 433924,
    "start_time": "2024-11-14T20:41:06.162Z"
   },
   {
    "duration": 7,
    "start_time": "2024-11-14T20:48:20.088Z"
   },
   {
    "duration": 27,
    "start_time": "2024-11-14T20:48:20.096Z"
   },
   {
    "duration": 363,
    "start_time": "2024-11-14T20:48:20.125Z"
   },
   {
    "duration": 3866,
    "start_time": "2024-11-14T20:48:20.490Z"
   },
   {
    "duration": 4230,
    "start_time": "2024-11-14T20:48:24.358Z"
   },
   {
    "duration": 628,
    "start_time": "2024-11-14T20:48:28.593Z"
   },
   {
    "duration": 19,
    "start_time": "2024-11-14T20:48:29.223Z"
   },
   {
    "duration": 3,
    "start_time": "2024-11-14T20:48:29.243Z"
   },
   {
    "duration": 28300,
    "start_time": "2024-11-14T20:48:29.247Z"
   },
   {
    "duration": 1375,
    "start_time": "2024-11-14T20:48:57.549Z"
   },
   {
    "duration": 12,
    "start_time": "2024-11-14T20:51:03.471Z"
   },
   {
    "duration": 6,
    "start_time": "2024-11-14T20:51:06.287Z"
   },
   {
    "duration": 169,
    "start_time": "2024-11-14T20:51:07.567Z"
   }
  ],
  "kernelspec": {
   "display_name": "Python 3 (ipykernel)",
   "language": "python",
   "name": "python3"
  },
  "language_info": {
   "codemirror_mode": {
    "name": "ipython",
    "version": 3
   },
   "file_extension": ".py",
   "mimetype": "text/x-python",
   "name": "python",
   "nbconvert_exporter": "python",
   "pygments_lexer": "ipython3",
   "version": "3.9.19"
  },
  "toc": {
   "base_numbering": 1,
   "nav_menu": {},
   "number_sections": true,
   "sideBar": true,
   "skip_h1_title": true,
   "title_cell": "Table of Contents",
   "title_sidebar": "Contents",
   "toc_cell": false,
   "toc_position": {
    "height": "calc(100% - 180px)",
    "left": "10px",
    "top": "150px",
    "width": "165px"
   },
   "toc_section_display": true,
   "toc_window_display": true
  },
  "vscode": {
   "interpreter": {
    "hash": "ac629f305345b17df6668bc9b17021b4f12075c260532782c34ed55a489bc20f"
   }
  }
 },
 "nbformat": 4,
 "nbformat_minor": 4
}
